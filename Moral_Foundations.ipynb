{
  "nbformat": 4,
  "nbformat_minor": 0,
  "metadata": {
    "colab": {
      "name": "Moral Foundations.ipynb",
      "provenance": [],
      "authorship_tag": "ABX9TyMpoIwNG91g34dCP6iJTjXa",
      "include_colab_link": true
    },
    "kernelspec": {
      "name": "python3",
      "display_name": "Python 3"
    },
    "language_info": {
      "name": "python"
    }
  },
  "cells": [
    {
      "cell_type": "markdown",
      "metadata": {
        "id": "view-in-github",
        "colab_type": "text"
      },
      "source": [
        "<a href=\"https://colab.research.google.com/github/falahamro/Moral-Foundations-Analysis/blob/main/Moral_Foundations.ipynb\" target=\"_parent\"><img src=\"https://colab.research.google.com/assets/colab-badge.svg\" alt=\"Open In Colab\"/></a>"
      ]
    },
    {
      "cell_type": "markdown",
      "source": [
        "Import Required Libraries"
      ],
      "metadata": {
        "id": "cVWXnKEaYSWf"
      }
    },
    {
      "cell_type": "code",
      "execution_count": 48,
      "metadata": {
        "id": "-xG6Ne1VwM7g"
      },
      "outputs": [],
      "source": [
        "import pandas as pd\n",
        "import numpy as np\n",
        "import sklearn\n",
        "import matplotlib.pyplot as plt\n",
        "import seaborn as sns\n",
        "import tensorflow as tf\n",
        "from sklearn import preprocessing\n",
        "from sklearn.preprocessing import LabelEncoder\n",
        "from sklearn.model_selection import train_test_split\n",
        "from sklearn.feature_extraction.text import CountVectorizer\n",
        "from tensorflow.keras.layers import *\n",
        "from tensorflow.keras.models import *\n",
        "from tensorflow.keras.preprocessing.sequence import pad_sequences\n",
        "from tensorflow.keras.preprocessing.text import one_hot\n",
        "from sklearn.linear_model import LogisticRegression\n",
        "from sklearn.naive_bayes import GaussianNB\n",
        "from sklearn.linear_model import SGDClassifier\n",
        "from sklearn.neighbors import KNeighborsClassifier\n",
        "from sklearn.tree import DecisionTreeClassifier\n",
        "from sklearn.ensemble import RandomForestClassifier\n",
        "from sklearn.svm import SVC \n",
        "from sklearn.metrics import confusion_matrix, accuracy_score, precision_score, recall_score, f1_score, classification_report\n",
        "from sklearn.preprocessing import StandardScaler\n",
        "import warnings\n",
        "warnings.filterwarnings('ignore')"
      ]
    },
    {
      "cell_type": "code",
      "source": [
        "from google.colab import drive\n",
        "drive.mount('/content/drive')"
      ],
      "metadata": {
        "colab": {
          "base_uri": "https://localhost:8080/"
        },
        "id": "SeWpt_xly5tV",
        "outputId": "e8d4f716-d0ff-48fb-9023-3420e3228d59"
      },
      "execution_count": 49,
      "outputs": [
        {
          "output_type": "stream",
          "name": "stdout",
          "text": [
            "Drive already mounted at /content/drive; to attempt to forcibly remount, call drive.mount(\"/content/drive\", force_remount=True).\n"
          ]
        }
      ]
    },
    {
      "cell_type": "code",
      "source": [
        "data = pd.read_csv(\"/content/drive/MyDrive/Colab Notebooks/Moral Foundations Application/Moral Foundations Theory Dataset/stats170_capstone_MFT_twitter_project-master/data/cleaned_scores_final.csv\")\n",
        "data"
      ],
      "metadata": {
        "colab": {
          "base_uri": "https://localhost:8080/",
          "height": 424
        },
        "id": "UUxQRuZRzBNd",
        "outputId": "f84a3c59-3c8d-4a71-bbf0-23df2454f999"
      },
      "execution_count": 50,
      "outputs": [
        {
          "output_type": "execute_result",
          "data": {
            "text/plain": [
              "            mtkid  Harm  Fairness  Loyalty  Authority  Purity  ICS_score  \\\n",
              "0    aA3L0DCUXU11    20        20       12         19      18          4   \n",
              "1    aA3I40B0FU11    18        25       23         17       5          7   \n",
              "2    aA2MCRVU8U11    14        23       14         19      19          9   \n",
              "3    aA1PJUYJ7U11    22        25       12         16      12         -6   \n",
              "4    aA1KZ21TSU11    26        27       16         22      28          1   \n",
              "..            ...   ...       ...      ...        ...     ...        ...   \n",
              "401  aA2VNK2H6U11    22        20       22         26      27          9   \n",
              "402  aA3EYWJCIU11    24        20       15          8       8        -12   \n",
              "403  aA27VBVMMU11    21        22       19         21      19         -3   \n",
              "404  aA39KKGT1U11    29        20        8         12       4         -8   \n",
              "405    aabc123U11    28        26       11          5       3         -8   \n",
              "\n",
              "     Political Involvement Political Leaning  \n",
              "0                        5      conservative  \n",
              "1                        8      conservative  \n",
              "2                        1      conservative  \n",
              "3                        5          slightly  \n",
              "4                        3          slightly  \n",
              "..                     ...               ...  \n",
              "401                      0      conservative  \n",
              "402                      5           liberal  \n",
              "403                      0           liberal  \n",
              "404                      1           liberal  \n",
              "405                     -1           liberal  \n",
              "\n",
              "[406 rows x 9 columns]"
            ],
            "text/html": [
              "\n",
              "  <div id=\"df-2f64fe62-6d6b-4b05-b430-648f0a05c1ce\">\n",
              "    <div class=\"colab-df-container\">\n",
              "      <div>\n",
              "<style scoped>\n",
              "    .dataframe tbody tr th:only-of-type {\n",
              "        vertical-align: middle;\n",
              "    }\n",
              "\n",
              "    .dataframe tbody tr th {\n",
              "        vertical-align: top;\n",
              "    }\n",
              "\n",
              "    .dataframe thead th {\n",
              "        text-align: right;\n",
              "    }\n",
              "</style>\n",
              "<table border=\"1\" class=\"dataframe\">\n",
              "  <thead>\n",
              "    <tr style=\"text-align: right;\">\n",
              "      <th></th>\n",
              "      <th>mtkid</th>\n",
              "      <th>Harm</th>\n",
              "      <th>Fairness</th>\n",
              "      <th>Loyalty</th>\n",
              "      <th>Authority</th>\n",
              "      <th>Purity</th>\n",
              "      <th>ICS_score</th>\n",
              "      <th>Political Involvement</th>\n",
              "      <th>Political Leaning</th>\n",
              "    </tr>\n",
              "  </thead>\n",
              "  <tbody>\n",
              "    <tr>\n",
              "      <th>0</th>\n",
              "      <td>aA3L0DCUXU11</td>\n",
              "      <td>20</td>\n",
              "      <td>20</td>\n",
              "      <td>12</td>\n",
              "      <td>19</td>\n",
              "      <td>18</td>\n",
              "      <td>4</td>\n",
              "      <td>5</td>\n",
              "      <td>conservative</td>\n",
              "    </tr>\n",
              "    <tr>\n",
              "      <th>1</th>\n",
              "      <td>aA3I40B0FU11</td>\n",
              "      <td>18</td>\n",
              "      <td>25</td>\n",
              "      <td>23</td>\n",
              "      <td>17</td>\n",
              "      <td>5</td>\n",
              "      <td>7</td>\n",
              "      <td>8</td>\n",
              "      <td>conservative</td>\n",
              "    </tr>\n",
              "    <tr>\n",
              "      <th>2</th>\n",
              "      <td>aA2MCRVU8U11</td>\n",
              "      <td>14</td>\n",
              "      <td>23</td>\n",
              "      <td>14</td>\n",
              "      <td>19</td>\n",
              "      <td>19</td>\n",
              "      <td>9</td>\n",
              "      <td>1</td>\n",
              "      <td>conservative</td>\n",
              "    </tr>\n",
              "    <tr>\n",
              "      <th>3</th>\n",
              "      <td>aA1PJUYJ7U11</td>\n",
              "      <td>22</td>\n",
              "      <td>25</td>\n",
              "      <td>12</td>\n",
              "      <td>16</td>\n",
              "      <td>12</td>\n",
              "      <td>-6</td>\n",
              "      <td>5</td>\n",
              "      <td>slightly</td>\n",
              "    </tr>\n",
              "    <tr>\n",
              "      <th>4</th>\n",
              "      <td>aA1KZ21TSU11</td>\n",
              "      <td>26</td>\n",
              "      <td>27</td>\n",
              "      <td>16</td>\n",
              "      <td>22</td>\n",
              "      <td>28</td>\n",
              "      <td>1</td>\n",
              "      <td>3</td>\n",
              "      <td>slightly</td>\n",
              "    </tr>\n",
              "    <tr>\n",
              "      <th>...</th>\n",
              "      <td>...</td>\n",
              "      <td>...</td>\n",
              "      <td>...</td>\n",
              "      <td>...</td>\n",
              "      <td>...</td>\n",
              "      <td>...</td>\n",
              "      <td>...</td>\n",
              "      <td>...</td>\n",
              "      <td>...</td>\n",
              "    </tr>\n",
              "    <tr>\n",
              "      <th>401</th>\n",
              "      <td>aA2VNK2H6U11</td>\n",
              "      <td>22</td>\n",
              "      <td>20</td>\n",
              "      <td>22</td>\n",
              "      <td>26</td>\n",
              "      <td>27</td>\n",
              "      <td>9</td>\n",
              "      <td>0</td>\n",
              "      <td>conservative</td>\n",
              "    </tr>\n",
              "    <tr>\n",
              "      <th>402</th>\n",
              "      <td>aA3EYWJCIU11</td>\n",
              "      <td>24</td>\n",
              "      <td>20</td>\n",
              "      <td>15</td>\n",
              "      <td>8</td>\n",
              "      <td>8</td>\n",
              "      <td>-12</td>\n",
              "      <td>5</td>\n",
              "      <td>liberal</td>\n",
              "    </tr>\n",
              "    <tr>\n",
              "      <th>403</th>\n",
              "      <td>aA27VBVMMU11</td>\n",
              "      <td>21</td>\n",
              "      <td>22</td>\n",
              "      <td>19</td>\n",
              "      <td>21</td>\n",
              "      <td>19</td>\n",
              "      <td>-3</td>\n",
              "      <td>0</td>\n",
              "      <td>liberal</td>\n",
              "    </tr>\n",
              "    <tr>\n",
              "      <th>404</th>\n",
              "      <td>aA39KKGT1U11</td>\n",
              "      <td>29</td>\n",
              "      <td>20</td>\n",
              "      <td>8</td>\n",
              "      <td>12</td>\n",
              "      <td>4</td>\n",
              "      <td>-8</td>\n",
              "      <td>1</td>\n",
              "      <td>liberal</td>\n",
              "    </tr>\n",
              "    <tr>\n",
              "      <th>405</th>\n",
              "      <td>aabc123U11</td>\n",
              "      <td>28</td>\n",
              "      <td>26</td>\n",
              "      <td>11</td>\n",
              "      <td>5</td>\n",
              "      <td>3</td>\n",
              "      <td>-8</td>\n",
              "      <td>-1</td>\n",
              "      <td>liberal</td>\n",
              "    </tr>\n",
              "  </tbody>\n",
              "</table>\n",
              "<p>406 rows × 9 columns</p>\n",
              "</div>\n",
              "      <button class=\"colab-df-convert\" onclick=\"convertToInteractive('df-2f64fe62-6d6b-4b05-b430-648f0a05c1ce')\"\n",
              "              title=\"Convert this dataframe to an interactive table.\"\n",
              "              style=\"display:none;\">\n",
              "        \n",
              "  <svg xmlns=\"http://www.w3.org/2000/svg\" height=\"24px\"viewBox=\"0 0 24 24\"\n",
              "       width=\"24px\">\n",
              "    <path d=\"M0 0h24v24H0V0z\" fill=\"none\"/>\n",
              "    <path d=\"M18.56 5.44l.94 2.06.94-2.06 2.06-.94-2.06-.94-.94-2.06-.94 2.06-2.06.94zm-11 1L8.5 8.5l.94-2.06 2.06-.94-2.06-.94L8.5 2.5l-.94 2.06-2.06.94zm10 10l.94 2.06.94-2.06 2.06-.94-2.06-.94-.94-2.06-.94 2.06-2.06.94z\"/><path d=\"M17.41 7.96l-1.37-1.37c-.4-.4-.92-.59-1.43-.59-.52 0-1.04.2-1.43.59L10.3 9.45l-7.72 7.72c-.78.78-.78 2.05 0 2.83L4 21.41c.39.39.9.59 1.41.59.51 0 1.02-.2 1.41-.59l7.78-7.78 2.81-2.81c.8-.78.8-2.07 0-2.86zM5.41 20L4 18.59l7.72-7.72 1.47 1.35L5.41 20z\"/>\n",
              "  </svg>\n",
              "      </button>\n",
              "      \n",
              "  <style>\n",
              "    .colab-df-container {\n",
              "      display:flex;\n",
              "      flex-wrap:wrap;\n",
              "      gap: 12px;\n",
              "    }\n",
              "\n",
              "    .colab-df-convert {\n",
              "      background-color: #E8F0FE;\n",
              "      border: none;\n",
              "      border-radius: 50%;\n",
              "      cursor: pointer;\n",
              "      display: none;\n",
              "      fill: #1967D2;\n",
              "      height: 32px;\n",
              "      padding: 0 0 0 0;\n",
              "      width: 32px;\n",
              "    }\n",
              "\n",
              "    .colab-df-convert:hover {\n",
              "      background-color: #E2EBFA;\n",
              "      box-shadow: 0px 1px 2px rgba(60, 64, 67, 0.3), 0px 1px 3px 1px rgba(60, 64, 67, 0.15);\n",
              "      fill: #174EA6;\n",
              "    }\n",
              "\n",
              "    [theme=dark] .colab-df-convert {\n",
              "      background-color: #3B4455;\n",
              "      fill: #D2E3FC;\n",
              "    }\n",
              "\n",
              "    [theme=dark] .colab-df-convert:hover {\n",
              "      background-color: #434B5C;\n",
              "      box-shadow: 0px 1px 3px 1px rgba(0, 0, 0, 0.15);\n",
              "      filter: drop-shadow(0px 1px 2px rgba(0, 0, 0, 0.3));\n",
              "      fill: #FFFFFF;\n",
              "    }\n",
              "  </style>\n",
              "\n",
              "      <script>\n",
              "        const buttonEl =\n",
              "          document.querySelector('#df-2f64fe62-6d6b-4b05-b430-648f0a05c1ce button.colab-df-convert');\n",
              "        buttonEl.style.display =\n",
              "          google.colab.kernel.accessAllowed ? 'block' : 'none';\n",
              "\n",
              "        async function convertToInteractive(key) {\n",
              "          const element = document.querySelector('#df-2f64fe62-6d6b-4b05-b430-648f0a05c1ce');\n",
              "          const dataTable =\n",
              "            await google.colab.kernel.invokeFunction('convertToInteractive',\n",
              "                                                     [key], {});\n",
              "          if (!dataTable) return;\n",
              "\n",
              "          const docLinkHtml = 'Like what you see? Visit the ' +\n",
              "            '<a target=\"_blank\" href=https://colab.research.google.com/notebooks/data_table.ipynb>data table notebook</a>'\n",
              "            + ' to learn more about interactive tables.';\n",
              "          element.innerHTML = '';\n",
              "          dataTable['output_type'] = 'display_data';\n",
              "          await google.colab.output.renderOutput(dataTable, element);\n",
              "          const docLink = document.createElement('div');\n",
              "          docLink.innerHTML = docLinkHtml;\n",
              "          element.appendChild(docLink);\n",
              "        }\n",
              "      </script>\n",
              "    </div>\n",
              "  </div>\n",
              "  "
            ]
          },
          "metadata": {},
          "execution_count": 50
        }
      ]
    },
    {
      "cell_type": "code",
      "source": [
        "data.info()"
      ],
      "metadata": {
        "colab": {
          "base_uri": "https://localhost:8080/"
        },
        "id": "Yh5DYuqr6It9",
        "outputId": "f0ff6155-22ea-4679-f8f3-8ece38d60bbb"
      },
      "execution_count": 51,
      "outputs": [
        {
          "output_type": "stream",
          "name": "stdout",
          "text": [
            "<class 'pandas.core.frame.DataFrame'>\n",
            "RangeIndex: 406 entries, 0 to 405\n",
            "Data columns (total 9 columns):\n",
            " #   Column                 Non-Null Count  Dtype \n",
            "---  ------                 --------------  ----- \n",
            " 0   mtkid                  406 non-null    object\n",
            " 1   Harm                   406 non-null    int64 \n",
            " 2   Fairness               406 non-null    int64 \n",
            " 3   Loyalty                406 non-null    int64 \n",
            " 4   Authority              406 non-null    int64 \n",
            " 5   Purity                 406 non-null    int64 \n",
            " 6   ICS_score              406 non-null    int64 \n",
            " 7   Political Involvement  406 non-null    int64 \n",
            " 8   Political Leaning      406 non-null    object\n",
            "dtypes: int64(7), object(2)\n",
            "memory usage: 28.7+ KB\n"
          ]
        }
      ]
    },
    {
      "cell_type": "code",
      "source": [
        "data.isnull().sum()"
      ],
      "metadata": {
        "colab": {
          "base_uri": "https://localhost:8080/"
        },
        "id": "so7PkjLZ6LiJ",
        "outputId": "4e494325-4994-402d-a1f3-622319b25a98"
      },
      "execution_count": 52,
      "outputs": [
        {
          "output_type": "execute_result",
          "data": {
            "text/plain": [
              "mtkid                    0\n",
              "Harm                     0\n",
              "Fairness                 0\n",
              "Loyalty                  0\n",
              "Authority                0\n",
              "Purity                   0\n",
              "ICS_score                0\n",
              "Political Involvement    0\n",
              "Political Leaning        0\n",
              "dtype: int64"
            ]
          },
          "metadata": {},
          "execution_count": 52
        }
      ]
    },
    {
      "cell_type": "code",
      "source": [
        "# num_cols that contain numerical variables\n",
        "\n",
        "num_cols = ['Harm', 'Fairness', 'Loyalty', 'Authority', 'Purity',\n",
        "       'ICS_score', 'Political Involvement']"
      ],
      "metadata": {
        "id": "GhfjPp8I6SHs"
      },
      "execution_count": 53,
      "outputs": []
    },
    {
      "cell_type": "code",
      "source": [
        "# print the descriptive stats of numerical variables\n",
        "\n",
        "data[num_cols].describe().T"
      ],
      "metadata": {
        "colab": {
          "base_uri": "https://localhost:8080/",
          "height": 269
        },
        "id": "yIy62WUq63vS",
        "outputId": "4778ae7f-920d-47d8-92f6-1d24feee31c5"
      },
      "execution_count": 54,
      "outputs": [
        {
          "output_type": "execute_result",
          "data": {
            "text/plain": [
              "                       count       mean       std   min   25%   50%   75%  \\\n",
              "Harm                   406.0  22.463054  5.636509  -1.0  19.0  23.0  27.0   \n",
              "Fairness               406.0  22.509852  4.882688   2.0  20.0  23.0  26.0   \n",
              "Loyalty                406.0  13.758621  6.232599  -2.0   9.0  14.0  18.0   \n",
              "Authority              406.0  16.027094  6.759119  -1.0  12.0  17.0  21.0   \n",
              "Purity                 406.0  12.669951  8.423039  -3.0   6.0  13.0  19.0   \n",
              "ICS_score              406.0  -4.177340  5.824434 -13.0  -9.0  -6.0   0.0   \n",
              "Political Involvement  406.0   2.975369  2.774555  -2.0   1.0   3.0   5.0   \n",
              "\n",
              "                        max  \n",
              "Harm                   33.0  \n",
              "Fairness               32.0  \n",
              "Loyalty                31.0  \n",
              "Authority              33.0  \n",
              "Purity                 32.0  \n",
              "ICS_score              13.0  \n",
              "Political Involvement  10.0  "
            ],
            "text/html": [
              "\n",
              "  <div id=\"df-65b8ac5d-65d3-4878-b27b-a3affa0d9d57\">\n",
              "    <div class=\"colab-df-container\">\n",
              "      <div>\n",
              "<style scoped>\n",
              "    .dataframe tbody tr th:only-of-type {\n",
              "        vertical-align: middle;\n",
              "    }\n",
              "\n",
              "    .dataframe tbody tr th {\n",
              "        vertical-align: top;\n",
              "    }\n",
              "\n",
              "    .dataframe thead th {\n",
              "        text-align: right;\n",
              "    }\n",
              "</style>\n",
              "<table border=\"1\" class=\"dataframe\">\n",
              "  <thead>\n",
              "    <tr style=\"text-align: right;\">\n",
              "      <th></th>\n",
              "      <th>count</th>\n",
              "      <th>mean</th>\n",
              "      <th>std</th>\n",
              "      <th>min</th>\n",
              "      <th>25%</th>\n",
              "      <th>50%</th>\n",
              "      <th>75%</th>\n",
              "      <th>max</th>\n",
              "    </tr>\n",
              "  </thead>\n",
              "  <tbody>\n",
              "    <tr>\n",
              "      <th>Harm</th>\n",
              "      <td>406.0</td>\n",
              "      <td>22.463054</td>\n",
              "      <td>5.636509</td>\n",
              "      <td>-1.0</td>\n",
              "      <td>19.0</td>\n",
              "      <td>23.0</td>\n",
              "      <td>27.0</td>\n",
              "      <td>33.0</td>\n",
              "    </tr>\n",
              "    <tr>\n",
              "      <th>Fairness</th>\n",
              "      <td>406.0</td>\n",
              "      <td>22.509852</td>\n",
              "      <td>4.882688</td>\n",
              "      <td>2.0</td>\n",
              "      <td>20.0</td>\n",
              "      <td>23.0</td>\n",
              "      <td>26.0</td>\n",
              "      <td>32.0</td>\n",
              "    </tr>\n",
              "    <tr>\n",
              "      <th>Loyalty</th>\n",
              "      <td>406.0</td>\n",
              "      <td>13.758621</td>\n",
              "      <td>6.232599</td>\n",
              "      <td>-2.0</td>\n",
              "      <td>9.0</td>\n",
              "      <td>14.0</td>\n",
              "      <td>18.0</td>\n",
              "      <td>31.0</td>\n",
              "    </tr>\n",
              "    <tr>\n",
              "      <th>Authority</th>\n",
              "      <td>406.0</td>\n",
              "      <td>16.027094</td>\n",
              "      <td>6.759119</td>\n",
              "      <td>-1.0</td>\n",
              "      <td>12.0</td>\n",
              "      <td>17.0</td>\n",
              "      <td>21.0</td>\n",
              "      <td>33.0</td>\n",
              "    </tr>\n",
              "    <tr>\n",
              "      <th>Purity</th>\n",
              "      <td>406.0</td>\n",
              "      <td>12.669951</td>\n",
              "      <td>8.423039</td>\n",
              "      <td>-3.0</td>\n",
              "      <td>6.0</td>\n",
              "      <td>13.0</td>\n",
              "      <td>19.0</td>\n",
              "      <td>32.0</td>\n",
              "    </tr>\n",
              "    <tr>\n",
              "      <th>ICS_score</th>\n",
              "      <td>406.0</td>\n",
              "      <td>-4.177340</td>\n",
              "      <td>5.824434</td>\n",
              "      <td>-13.0</td>\n",
              "      <td>-9.0</td>\n",
              "      <td>-6.0</td>\n",
              "      <td>0.0</td>\n",
              "      <td>13.0</td>\n",
              "    </tr>\n",
              "    <tr>\n",
              "      <th>Political Involvement</th>\n",
              "      <td>406.0</td>\n",
              "      <td>2.975369</td>\n",
              "      <td>2.774555</td>\n",
              "      <td>-2.0</td>\n",
              "      <td>1.0</td>\n",
              "      <td>3.0</td>\n",
              "      <td>5.0</td>\n",
              "      <td>10.0</td>\n",
              "    </tr>\n",
              "  </tbody>\n",
              "</table>\n",
              "</div>\n",
              "      <button class=\"colab-df-convert\" onclick=\"convertToInteractive('df-65b8ac5d-65d3-4878-b27b-a3affa0d9d57')\"\n",
              "              title=\"Convert this dataframe to an interactive table.\"\n",
              "              style=\"display:none;\">\n",
              "        \n",
              "  <svg xmlns=\"http://www.w3.org/2000/svg\" height=\"24px\"viewBox=\"0 0 24 24\"\n",
              "       width=\"24px\">\n",
              "    <path d=\"M0 0h24v24H0V0z\" fill=\"none\"/>\n",
              "    <path d=\"M18.56 5.44l.94 2.06.94-2.06 2.06-.94-2.06-.94-.94-2.06-.94 2.06-2.06.94zm-11 1L8.5 8.5l.94-2.06 2.06-.94-2.06-.94L8.5 2.5l-.94 2.06-2.06.94zm10 10l.94 2.06.94-2.06 2.06-.94-2.06-.94-.94-2.06-.94 2.06-2.06.94z\"/><path d=\"M17.41 7.96l-1.37-1.37c-.4-.4-.92-.59-1.43-.59-.52 0-1.04.2-1.43.59L10.3 9.45l-7.72 7.72c-.78.78-.78 2.05 0 2.83L4 21.41c.39.39.9.59 1.41.59.51 0 1.02-.2 1.41-.59l7.78-7.78 2.81-2.81c.8-.78.8-2.07 0-2.86zM5.41 20L4 18.59l7.72-7.72 1.47 1.35L5.41 20z\"/>\n",
              "  </svg>\n",
              "      </button>\n",
              "      \n",
              "  <style>\n",
              "    .colab-df-container {\n",
              "      display:flex;\n",
              "      flex-wrap:wrap;\n",
              "      gap: 12px;\n",
              "    }\n",
              "\n",
              "    .colab-df-convert {\n",
              "      background-color: #E8F0FE;\n",
              "      border: none;\n",
              "      border-radius: 50%;\n",
              "      cursor: pointer;\n",
              "      display: none;\n",
              "      fill: #1967D2;\n",
              "      height: 32px;\n",
              "      padding: 0 0 0 0;\n",
              "      width: 32px;\n",
              "    }\n",
              "\n",
              "    .colab-df-convert:hover {\n",
              "      background-color: #E2EBFA;\n",
              "      box-shadow: 0px 1px 2px rgba(60, 64, 67, 0.3), 0px 1px 3px 1px rgba(60, 64, 67, 0.15);\n",
              "      fill: #174EA6;\n",
              "    }\n",
              "\n",
              "    [theme=dark] .colab-df-convert {\n",
              "      background-color: #3B4455;\n",
              "      fill: #D2E3FC;\n",
              "    }\n",
              "\n",
              "    [theme=dark] .colab-df-convert:hover {\n",
              "      background-color: #434B5C;\n",
              "      box-shadow: 0px 1px 3px 1px rgba(0, 0, 0, 0.15);\n",
              "      filter: drop-shadow(0px 1px 2px rgba(0, 0, 0, 0.3));\n",
              "      fill: #FFFFFF;\n",
              "    }\n",
              "  </style>\n",
              "\n",
              "      <script>\n",
              "        const buttonEl =\n",
              "          document.querySelector('#df-65b8ac5d-65d3-4878-b27b-a3affa0d9d57 button.colab-df-convert');\n",
              "        buttonEl.style.display =\n",
              "          google.colab.kernel.accessAllowed ? 'block' : 'none';\n",
              "\n",
              "        async function convertToInteractive(key) {\n",
              "          const element = document.querySelector('#df-65b8ac5d-65d3-4878-b27b-a3affa0d9d57');\n",
              "          const dataTable =\n",
              "            await google.colab.kernel.invokeFunction('convertToInteractive',\n",
              "                                                     [key], {});\n",
              "          if (!dataTable) return;\n",
              "\n",
              "          const docLinkHtml = 'Like what you see? Visit the ' +\n",
              "            '<a target=\"_blank\" href=https://colab.research.google.com/notebooks/data_table.ipynb>data table notebook</a>'\n",
              "            + ' to learn more about interactive tables.';\n",
              "          element.innerHTML = '';\n",
              "          dataTable['output_type'] = 'display_data';\n",
              "          await google.colab.output.renderOutput(dataTable, element);\n",
              "          const docLink = document.createElement('div');\n",
              "          docLink.innerHTML = docLinkHtml;\n",
              "          element.appendChild(docLink);\n",
              "        }\n",
              "      </script>\n",
              "    </div>\n",
              "  </div>\n",
              "  "
            ]
          },
          "metadata": {},
          "execution_count": 54
        }
      ]
    },
    {
      "cell_type": "code",
      "source": [
        "# categorical variables list\n",
        "\n",
        "cat_cols = ['Political Leaning']"
      ],
      "metadata": {
        "id": "3VdFUEKG7Awg"
      },
      "execution_count": 55,
      "outputs": []
    },
    {
      "cell_type": "code",
      "source": [
        "# print the count of each unique value in each colum\n",
        "\n",
        "for column in cat_cols: \n",
        "  print(data[column].value_counts(normalize=True))\n",
        "\n",
        "  print(\"-\" * 40)"
      ],
      "metadata": {
        "colab": {
          "base_uri": "https://localhost:8080/"
        },
        "id": "gTOxRW-47O0l",
        "outputId": "63b1186f-d6d4-49fe-af22-0e2d8f86ef69"
      },
      "execution_count": 56,
      "outputs": [
        {
          "output_type": "stream",
          "name": "stdout",
          "text": [
            "liberal         0.561576\n",
            "slightly        0.295567\n",
            "conservative    0.088670\n",
            "moderate        0.054187\n",
            "Name: Political Leaning, dtype: float64\n",
            "----------------------------------------\n"
          ]
        }
      ]
    },
    {
      "cell_type": "code",
      "source": [
        "plt.figure(figsize=(15,10))\n",
        "sns.heatmap(data.corr(), annot=True, square=True, cmap=\"Blues\")\n",
        "plt.show()"
      ],
      "metadata": {
        "colab": {
          "base_uri": "https://localhost:8080/",
          "height": 596
        },
        "id": "-7NSBik6-01E",
        "outputId": "675fcd7e-c666-45fd-cd16-e753924a6b1d"
      },
      "execution_count": 57,
      "outputs": [
        {
          "output_type": "display_data",
          "data": {
            "text/plain": [
              "<Figure size 1080x720 with 2 Axes>"
            ],
            "image/png": "[encoded data removed]"
          },
          "metadata": {
            "needs_background": "light"
          }
        }
      ]
    },
    {
      "cell_type": "code",
      "source": [
        "cols = data.select_dtypes(exclude='object').columns.tolist()\n",
        "\n",
        "fig, ax = plt.subplots(nrows=7,ncols=1, figsize=(7,15), constrained_layout=True)\n",
        "ax = ax.flatten()\n",
        "plt.suptitle(\"Distribution of Data\")\n",
        "\n",
        "for x, i in enumerate(cols):\n",
        "    sns.histplot(x=data[i], ax=ax[x], kde=True, color=['skyblue'])"
      ],
      "metadata": {
        "colab": {
          "base_uri": "https://localhost:8080/",
          "height": 1000
        },
        "id": "kYNHvG1I9r1s",
        "outputId": "223dd07d-2a29-4315-9545-99380e64d148"
      },
      "execution_count": 58,
      "outputs": [
        {
          "output_type": "display_data",
          "data": {
            "text/plain": [
              "<Figure size 504x1080 with 7 Axes>"
            ],
            "image/png": "[encoded data removed]"
          },
          "metadata": {
            "needs_background": "light"
          }
        }
      ]
    },
    {
      "cell_type": "code",
      "source": [
        "#Checking outliers\n",
        "\n",
        "cols = data.select_dtypes(exclude='object').columns.tolist()\n",
        "\n",
        "fig, ax = plt.subplots(nrows=7,ncols=1, figsize=(10,15), constrained_layout=True)\n",
        "ax = ax.flatten()\n",
        "plt.suptitle(\"Box-Plot\")\n",
        "for x, i in enumerate(cols):\n",
        "    sns.boxplot(x=data[i], ax=ax[x], palette=['skyblue'])"
      ],
      "metadata": {
        "colab": {
          "base_uri": "https://localhost:8080/",
          "height": 1000
        },
        "id": "8S-b5vnQ_cRe",
        "outputId": "2a2f283f-ca07-40d0-f86a-3bc3a303afa6"
      },
      "execution_count": 59,
      "outputs": [
        {
          "output_type": "display_data",
          "data": {
            "text/plain": [
              "<Figure size 720x1080 with 7 Axes>"
            ],
            "image/png": "[encoded data removed]"
          },
          "metadata": {
            "needs_background": "light"
          }
        }
      ]
    },
    {
      "cell_type": "markdown",
      "source": [
        "**Applying Classification/Prediction Models**\n",
        "\n",
        "We will predict the political leaning as a our target feature"
      ],
      "metadata": {
        "id": "eZvacUP_CsVQ"
      }
    },
    {
      "cell_type": "code",
      "source": [
        "data.rename(columns = {'Political Leaning': 'PoliticalLeaning'}, inplace = True)\n",
        "data.rename(columns = {'Political Involvement': 'PoliticalInvolvement'}, inplace = True)"
      ],
      "metadata": {
        "id": "D1SE9-9TFIWX"
      },
      "execution_count": 60,
      "outputs": []
    },
    {
      "cell_type": "code",
      "source": [
        "data.tail()"
      ],
      "metadata": {
        "colab": {
          "base_uri": "https://localhost:8080/",
          "height": 206
        },
        "id": "vTjK3tzfER1T",
        "outputId": "c74c650e-68a2-448f-f457-dd224b42d103"
      },
      "execution_count": 61,
      "outputs": [
        {
          "output_type": "execute_result",
          "data": {
            "text/plain": [
              "            mtkid  Harm  Fairness  Loyalty  Authority  Purity  ICS_score  \\\n",
              "401  aA2VNK2H6U11    22        20       22         26      27          9   \n",
              "402  aA3EYWJCIU11    24        20       15          8       8        -12   \n",
              "403  aA27VBVMMU11    21        22       19         21      19         -3   \n",
              "404  aA39KKGT1U11    29        20        8         12       4         -8   \n",
              "405    aabc123U11    28        26       11          5       3         -8   \n",
              "\n",
              "     PoliticalInvolvement PoliticalLeaning  \n",
              "401                     0     conservative  \n",
              "402                     5          liberal  \n",
              "403                     0          liberal  \n",
              "404                     1          liberal  \n",
              "405                    -1          liberal  "
            ],
            "text/html": [
              "\n",
              "  <div id=\"df-871ad250-7bbb-4a15-9b63-1436d0f60771\">\n",
              "    <div class=\"colab-df-container\">\n",
              "      <div>\n",
              "<style scoped>\n",
              "    .dataframe tbody tr th:only-of-type {\n",
              "        vertical-align: middle;\n",
              "    }\n",
              "\n",
              "    .dataframe tbody tr th {\n",
              "        vertical-align: top;\n",
              "    }\n",
              "\n",
              "    .dataframe thead th {\n",
              "        text-align: right;\n",
              "    }\n",
              "</style>\n",
              "<table border=\"1\" class=\"dataframe\">\n",
              "  <thead>\n",
              "    <tr style=\"text-align: right;\">\n",
              "      <th></th>\n",
              "      <th>mtkid</th>\n",
              "      <th>Harm</th>\n",
              "      <th>Fairness</th>\n",
              "      <th>Loyalty</th>\n",
              "      <th>Authority</th>\n",
              "      <th>Purity</th>\n",
              "      <th>ICS_score</th>\n",
              "      <th>PoliticalInvolvement</th>\n",
              "      <th>PoliticalLeaning</th>\n",
              "    </tr>\n",
              "  </thead>\n",
              "  <tbody>\n",
              "    <tr>\n",
              "      <th>401</th>\n",
              "      <td>aA2VNK2H6U11</td>\n",
              "      <td>22</td>\n",
              "      <td>20</td>\n",
              "      <td>22</td>\n",
              "      <td>26</td>\n",
              "      <td>27</td>\n",
              "      <td>9</td>\n",
              "      <td>0</td>\n",
              "      <td>conservative</td>\n",
              "    </tr>\n",
              "    <tr>\n",
              "      <th>402</th>\n",
              "      <td>aA3EYWJCIU11</td>\n",
              "      <td>24</td>\n",
              "      <td>20</td>\n",
              "      <td>15</td>\n",
              "      <td>8</td>\n",
              "      <td>8</td>\n",
              "      <td>-12</td>\n",
              "      <td>5</td>\n",
              "      <td>liberal</td>\n",
              "    </tr>\n",
              "    <tr>\n",
              "      <th>403</th>\n",
              "      <td>aA27VBVMMU11</td>\n",
              "      <td>21</td>\n",
              "      <td>22</td>\n",
              "      <td>19</td>\n",
              "      <td>21</td>\n",
              "      <td>19</td>\n",
              "      <td>-3</td>\n",
              "      <td>0</td>\n",
              "      <td>liberal</td>\n",
              "    </tr>\n",
              "    <tr>\n",
              "      <th>404</th>\n",
              "      <td>aA39KKGT1U11</td>\n",
              "      <td>29</td>\n",
              "      <td>20</td>\n",
              "      <td>8</td>\n",
              "      <td>12</td>\n",
              "      <td>4</td>\n",
              "      <td>-8</td>\n",
              "      <td>1</td>\n",
              "      <td>liberal</td>\n",
              "    </tr>\n",
              "    <tr>\n",
              "      <th>405</th>\n",
              "      <td>aabc123U11</td>\n",
              "      <td>28</td>\n",
              "      <td>26</td>\n",
              "      <td>11</td>\n",
              "      <td>5</td>\n",
              "      <td>3</td>\n",
              "      <td>-8</td>\n",
              "      <td>-1</td>\n",
              "      <td>liberal</td>\n",
              "    </tr>\n",
              "  </tbody>\n",
              "</table>\n",
              "</div>\n",
              "      <button class=\"colab-df-convert\" onclick=\"convertToInteractive('df-871ad250-7bbb-4a15-9b63-1436d0f60771')\"\n",
              "              title=\"Convert this dataframe to an interactive table.\"\n",
              "              style=\"display:none;\">\n",
              "        \n",
              "  <svg xmlns=\"http://www.w3.org/2000/svg\" height=\"24px\"viewBox=\"0 0 24 24\"\n",
              "       width=\"24px\">\n",
              "    <path d=\"M0 0h24v24H0V0z\" fill=\"none\"/>\n",
              "    <path d=\"M18.56 5.44l.94 2.06.94-2.06 2.06-.94-2.06-.94-.94-2.06-.94 2.06-2.06.94zm-11 1L8.5 8.5l.94-2.06 2.06-.94-2.06-.94L8.5 2.5l-.94 2.06-2.06.94zm10 10l.94 2.06.94-2.06 2.06-.94-2.06-.94-.94-2.06-.94 2.06-2.06.94z\"/><path d=\"M17.41 7.96l-1.37-1.37c-.4-.4-.92-.59-1.43-.59-.52 0-1.04.2-1.43.59L10.3 9.45l-7.72 7.72c-.78.78-.78 2.05 0 2.83L4 21.41c.39.39.9.59 1.41.59.51 0 1.02-.2 1.41-.59l7.78-7.78 2.81-2.81c.8-.78.8-2.07 0-2.86zM5.41 20L4 18.59l7.72-7.72 1.47 1.35L5.41 20z\"/>\n",
              "  </svg>\n",
              "      </button>\n",
              "      \n",
              "  <style>\n",
              "    .colab-df-container {\n",
              "      display:flex;\n",
              "      flex-wrap:wrap;\n",
              "      gap: 12px;\n",
              "    }\n",
              "\n",
              "    .colab-df-convert {\n",
              "      background-color: #E8F0FE;\n",
              "      border: none;\n",
              "      border-radius: 50%;\n",
              "      cursor: pointer;\n",
              "      display: none;\n",
              "      fill: #1967D2;\n",
              "      height: 32px;\n",
              "      padding: 0 0 0 0;\n",
              "      width: 32px;\n",
              "    }\n",
              "\n",
              "    .colab-df-convert:hover {\n",
              "      background-color: #E2EBFA;\n",
              "      box-shadow: 0px 1px 2px rgba(60, 64, 67, 0.3), 0px 1px 3px 1px rgba(60, 64, 67, 0.15);\n",
              "      fill: #174EA6;\n",
              "    }\n",
              "\n",
              "    [theme=dark] .colab-df-convert {\n",
              "      background-color: #3B4455;\n",
              "      fill: #D2E3FC;\n",
              "    }\n",
              "\n",
              "    [theme=dark] .colab-df-convert:hover {\n",
              "      background-color: #434B5C;\n",
              "      box-shadow: 0px 1px 3px 1px rgba(0, 0, 0, 0.15);\n",
              "      filter: drop-shadow(0px 1px 2px rgba(0, 0, 0, 0.3));\n",
              "      fill: #FFFFFF;\n",
              "    }\n",
              "  </style>\n",
              "\n",
              "      <script>\n",
              "        const buttonEl =\n",
              "          document.querySelector('#df-871ad250-7bbb-4a15-9b63-1436d0f60771 button.colab-df-convert');\n",
              "        buttonEl.style.display =\n",
              "          google.colab.kernel.accessAllowed ? 'block' : 'none';\n",
              "\n",
              "        async function convertToInteractive(key) {\n",
              "          const element = document.querySelector('#df-871ad250-7bbb-4a15-9b63-1436d0f60771');\n",
              "          const dataTable =\n",
              "            await google.colab.kernel.invokeFunction('convertToInteractive',\n",
              "                                                     [key], {});\n",
              "          if (!dataTable) return;\n",
              "\n",
              "          const docLinkHtml = 'Like what you see? Visit the ' +\n",
              "            '<a target=\"_blank\" href=https://colab.research.google.com/notebooks/data_table.ipynb>data table notebook</a>'\n",
              "            + ' to learn more about interactive tables.';\n",
              "          element.innerHTML = '';\n",
              "          dataTable['output_type'] = 'display_data';\n",
              "          await google.colab.output.renderOutput(dataTable, element);\n",
              "          const docLink = document.createElement('div');\n",
              "          docLink.innerHTML = docLinkHtml;\n",
              "          element.appendChild(docLink);\n",
              "        }\n",
              "      </script>\n",
              "    </div>\n",
              "  </div>\n",
              "  "
            ]
          },
          "metadata": {},
          "execution_count": 61
        }
      ]
    },
    {
      "cell_type": "markdown",
      "source": [
        ""
      ],
      "metadata": {
        "id": "TeJGB1bYWFde"
      }
    },
    {
      "cell_type": "code",
      "source": [
        "fig, axarr = plt.subplots(figsize=(20, 12))\n",
        "sns.countplot(x='PoliticalInvolvement', hue = 'PoliticalLeaning',data = data)"
      ],
      "metadata": {
        "colab": {
          "base_uri": "https://localhost:8080/",
          "height": 731
        },
        "id": "_jdO3VDJHIt3",
        "outputId": "02365677-f01c-4947-d501-b66ef8f05ef1"
      },
      "execution_count": 62,
      "outputs": [
        {
          "output_type": "execute_result",
          "data": {
            "text/plain": [
              "<matplotlib.axes._subplots.AxesSubplot at 0x7f74896c8bd0>"
            ]
          },
          "metadata": {},
          "execution_count": 62
        },
        {
          "output_type": "display_data",
          "data": {
            "text/plain": [
              "<Figure size 1440x864 with 1 Axes>"
            ],
            "image/png": "[encoded data removed]"
          },
          "metadata": {
            "needs_background": "light"
          }
        }
      ]
    },
    {
      "cell_type": "markdown",
      "source": [
        "Categorical Data"
      ],
      "metadata": {
        "id": "1qvB99sYHGxa"
      }
    },
    {
      "cell_type": "code",
      "source": [
        "# change categorical variables to numeric values\n",
        "\n",
        "data['PoliticalLeaning'].replace(['conservative', 'liberal', 'slightly', 'moderate'],\n",
        "                                 [0, 1, 2, 3], inplace=True)"
      ],
      "metadata": {
        "id": "VCgbeRy1V-ZT"
      },
      "execution_count": 63,
      "outputs": []
    },
    {
      "cell_type": "code",
      "source": [
        "# Visualize our target feature\n",
        "labels = 'conservative', 'slightly', 'liberal', 'moderate'\n",
        "sizes = [data.PoliticalLeaning[data['PoliticalLeaning']==0].count(), data.PoliticalLeaning[data['PoliticalLeaning']==1].count(), data.PoliticalLeaning[data['PoliticalLeaning']==2].count(), data.PoliticalLeaning[data['PoliticalLeaning']==3].count()]\n",
        "fig1, ax1 = plt.subplots(figsize=(15, 12))\n",
        "ax1.pie(sizes, explode=(0, 0.1, 0, 0), labels=labels, autopct='%1.1f%%')\n",
        "ax1.axis('equal')\n",
        "plt.title(\"Distribution of users in Clusters\", size = 20)\n",
        "plt.show()"
      ],
      "metadata": {
        "colab": {
          "base_uri": "https://localhost:8080/",
          "height": 704
        },
        "id": "hKdxmiAOC9EZ",
        "outputId": "ac67f768-a038-4b23-e2c3-e3fe03c6487b"
      },
      "execution_count": 64,
      "outputs": [
        {
          "output_type": "display_data",
          "data": {
            "text/plain": [
              "<Figure size 1080x864 with 1 Axes>"
            ],
            "image/png": "[encoded data removed]"
          },
          "metadata": {}
        }
      ]
    },
    {
      "cell_type": "markdown",
      "source": [
        "Continuous Data"
      ],
      "metadata": {
        "id": "njZ8-sWnHKT-"
      }
    },
    {
      "cell_type": "code",
      "source": [
        "fig, axarr = plt.subplots(3, 2, figsize=(20, 12))\n",
        "sns.boxplot(y='Harm',x = 'PoliticalLeaning', hue = 'PoliticalLeaning',data = data, ax=axarr[0][0])\n",
        "sns.boxplot(y='Fairness',x = 'PoliticalLeaning', hue = 'PoliticalLeaning',data = data , ax=axarr[0][1])\n",
        "sns.boxplot(y='Loyalty',x = 'PoliticalLeaning', hue = 'PoliticalLeaning',data = data, ax=axarr[1][0])\n",
        "sns.boxplot(y='Authority',x = 'PoliticalLeaning', hue = 'PoliticalLeaning',data = data, ax=axarr[1][1])\n",
        "sns.boxplot(y='Purity',x = 'PoliticalLeaning', hue = 'PoliticalLeaning',data = data, ax=axarr[2][0])\n",
        "sns.boxplot(y='ICS_score',x = 'PoliticalLeaning', hue = 'PoliticalLeaning',data = data, ax=axarr[2][1])"
      ],
      "metadata": {
        "colab": {
          "base_uri": "https://localhost:8080/",
          "height": 731
        },
        "id": "mhi8BWhDHT2N",
        "outputId": "7a49da5c-da02-4ac2-8299-bb13eb60ad04"
      },
      "execution_count": 65,
      "outputs": [
        {
          "output_type": "execute_result",
          "data": {
            "text/plain": [
              "<matplotlib.axes._subplots.AxesSubplot at 0x7f7489430e50>"
            ]
          },
          "metadata": {},
          "execution_count": 65
        },
        {
          "output_type": "display_data",
          "data": {
            "text/plain": [
              "<Figure size 1440x864 with 6 Axes>"
            ],
            "image/png": "[encoded data removed]"
          },
          "metadata": {
            "needs_background": "light"
          }
        }
      ]
    },
    {
      "cell_type": "markdown",
      "source": [
        "Liberals have the highest scores in harm.\n",
        "\n",
        "Conservative score highest on loyalty while liberal score lowest on the purity morals.\n",
        "\n",
        "liberals have the lowest ICS_score.\n",
        "\n"
      ],
      "metadata": {
        "id": "jaRHcBtSWlTb"
      }
    },
    {
      "cell_type": "markdown",
      "source": [
        "Split into dependent and independent variables"
      ],
      "metadata": {
        "id": "LBgc5ydpJzYf"
      }
    },
    {
      "cell_type": "code",
      "source": [
        "# dependent feature (y)\n",
        "\n",
        "y = data['PoliticalLeaning']\n",
        "\n",
        "print(y)"
      ],
      "metadata": {
        "colab": {
          "base_uri": "https://localhost:8080/"
        },
        "id": "jDr1jbyGKkVO",
        "outputId": "9857c3ef-4c83-4a6f-ad51-48630a449835"
      },
      "execution_count": 66,
      "outputs": [
        {
          "output_type": "stream",
          "name": "stdout",
          "text": [
            "0      0\n",
            "1      0\n",
            "2      0\n",
            "3      2\n",
            "4      2\n",
            "      ..\n",
            "401    0\n",
            "402    1\n",
            "403    1\n",
            "404    1\n",
            "405    1\n",
            "Name: PoliticalLeaning, Length: 406, dtype: int64\n"
          ]
        }
      ]
    },
    {
      "cell_type": "code",
      "source": [
        "# Independent Features (x)\n",
        "\n",
        "independent_features = ['Harm', 'Fairness', 'Loyalty', 'Authority', 'Purity',\n",
        "       'ICS_score', 'PoliticalInvolvement']\n",
        "\n",
        "x = data[independent_features]\n",
        "\n",
        "x"
      ],
      "metadata": {
        "colab": {
          "base_uri": "https://localhost:8080/",
          "height": 424
        },
        "id": "5Jt1qEVpKyQU",
        "outputId": "c6dbf1cf-6fbf-48d8-e678-1e1274ccb283"
      },
      "execution_count": 67,
      "outputs": [
        {
          "output_type": "execute_result",
          "data": {
            "text/plain": [
              "     Harm  Fairness  Loyalty  Authority  Purity  ICS_score  \\\n",
              "0      20        20       12         19      18          4   \n",
              "1      18        25       23         17       5          7   \n",
              "2      14        23       14         19      19          9   \n",
              "3      22        25       12         16      12         -6   \n",
              "4      26        27       16         22      28          1   \n",
              "..    ...       ...      ...        ...     ...        ...   \n",
              "401    22        20       22         26      27          9   \n",
              "402    24        20       15          8       8        -12   \n",
              "403    21        22       19         21      19         -3   \n",
              "404    29        20        8         12       4         -8   \n",
              "405    28        26       11          5       3         -8   \n",
              "\n",
              "     PoliticalInvolvement  \n",
              "0                       5  \n",
              "1                       8  \n",
              "2                       1  \n",
              "3                       5  \n",
              "4                       3  \n",
              "..                    ...  \n",
              "401                     0  \n",
              "402                     5  \n",
              "403                     0  \n",
              "404                     1  \n",
              "405                    -1  \n",
              "\n",
              "[406 rows x 7 columns]"
            ],
            "text/html": [
              "\n",
              "  <div id=\"df-60dc16a0-02c0-40f8-9cf6-9796559f7eea\">\n",
              "    <div class=\"colab-df-container\">\n",
              "      <div>\n",
              "<style scoped>\n",
              "    .dataframe tbody tr th:only-of-type {\n",
              "        vertical-align: middle;\n",
              "    }\n",
              "\n",
              "    .dataframe tbody tr th {\n",
              "        vertical-align: top;\n",
              "    }\n",
              "\n",
              "    .dataframe thead th {\n",
              "        text-align: right;\n",
              "    }\n",
              "</style>\n",
              "<table border=\"1\" class=\"dataframe\">\n",
              "  <thead>\n",
              "    <tr style=\"text-align: right;\">\n",
              "      <th></th>\n",
              "      <th>Harm</th>\n",
              "      <th>Fairness</th>\n",
              "      <th>Loyalty</th>\n",
              "      <th>Authority</th>\n",
              "      <th>Purity</th>\n",
              "      <th>ICS_score</th>\n",
              "      <th>PoliticalInvolvement</th>\n",
              "    </tr>\n",
              "  </thead>\n",
              "  <tbody>\n",
              "    <tr>\n",
              "      <th>0</th>\n",
              "      <td>20</td>\n",
              "      <td>20</td>\n",
              "      <td>12</td>\n",
              "      <td>19</td>\n",
              "      <td>18</td>\n",
              "      <td>4</td>\n",
              "      <td>5</td>\n",
              "    </tr>\n",
              "    <tr>\n",
              "      <th>1</th>\n",
              "      <td>18</td>\n",
              "      <td>25</td>\n",
              "      <td>23</td>\n",
              "      <td>17</td>\n",
              "      <td>5</td>\n",
              "      <td>7</td>\n",
              "      <td>8</td>\n",
              "    </tr>\n",
              "    <tr>\n",
              "      <th>2</th>\n",
              "      <td>14</td>\n",
              "      <td>23</td>\n",
              "      <td>14</td>\n",
              "      <td>19</td>\n",
              "      <td>19</td>\n",
              "      <td>9</td>\n",
              "      <td>1</td>\n",
              "    </tr>\n",
              "    <tr>\n",
              "      <th>3</th>\n",
              "      <td>22</td>\n",
              "      <td>25</td>\n",
              "      <td>12</td>\n",
              "      <td>16</td>\n",
              "      <td>12</td>\n",
              "      <td>-6</td>\n",
              "      <td>5</td>\n",
              "    </tr>\n",
              "    <tr>\n",
              "      <th>4</th>\n",
              "      <td>26</td>\n",
              "      <td>27</td>\n",
              "      <td>16</td>\n",
              "      <td>22</td>\n",
              "      <td>28</td>\n",
              "      <td>1</td>\n",
              "      <td>3</td>\n",
              "    </tr>\n",
              "    <tr>\n",
              "      <th>...</th>\n",
              "      <td>...</td>\n",
              "      <td>...</td>\n",
              "      <td>...</td>\n",
              "      <td>...</td>\n",
              "      <td>...</td>\n",
              "      <td>...</td>\n",
              "      <td>...</td>\n",
              "    </tr>\n",
              "    <tr>\n",
              "      <th>401</th>\n",
              "      <td>22</td>\n",
              "      <td>20</td>\n",
              "      <td>22</td>\n",
              "      <td>26</td>\n",
              "      <td>27</td>\n",
              "      <td>9</td>\n",
              "      <td>0</td>\n",
              "    </tr>\n",
              "    <tr>\n",
              "      <th>402</th>\n",
              "      <td>24</td>\n",
              "      <td>20</td>\n",
              "      <td>15</td>\n",
              "      <td>8</td>\n",
              "      <td>8</td>\n",
              "      <td>-12</td>\n",
              "      <td>5</td>\n",
              "    </tr>\n",
              "    <tr>\n",
              "      <th>403</th>\n",
              "      <td>21</td>\n",
              "      <td>22</td>\n",
              "      <td>19</td>\n",
              "      <td>21</td>\n",
              "      <td>19</td>\n",
              "      <td>-3</td>\n",
              "      <td>0</td>\n",
              "    </tr>\n",
              "    <tr>\n",
              "      <th>404</th>\n",
              "      <td>29</td>\n",
              "      <td>20</td>\n",
              "      <td>8</td>\n",
              "      <td>12</td>\n",
              "      <td>4</td>\n",
              "      <td>-8</td>\n",
              "      <td>1</td>\n",
              "    </tr>\n",
              "    <tr>\n",
              "      <th>405</th>\n",
              "      <td>28</td>\n",
              "      <td>26</td>\n",
              "      <td>11</td>\n",
              "      <td>5</td>\n",
              "      <td>3</td>\n",
              "      <td>-8</td>\n",
              "      <td>-1</td>\n",
              "    </tr>\n",
              "  </tbody>\n",
              "</table>\n",
              "<p>406 rows × 7 columns</p>\n",
              "</div>\n",
              "      <button class=\"colab-df-convert\" onclick=\"convertToInteractive('df-60dc16a0-02c0-40f8-9cf6-9796559f7eea')\"\n",
              "              title=\"Convert this dataframe to an interactive table.\"\n",
              "              style=\"display:none;\">\n",
              "        \n",
              "  <svg xmlns=\"http://www.w3.org/2000/svg\" height=\"24px\"viewBox=\"0 0 24 24\"\n",
              "       width=\"24px\">\n",
              "    <path d=\"M0 0h24v24H0V0z\" fill=\"none\"/>\n",
              "    <path d=\"M18.56 5.44l.94 2.06.94-2.06 2.06-.94-2.06-.94-.94-2.06-.94 2.06-2.06.94zm-11 1L8.5 8.5l.94-2.06 2.06-.94-2.06-.94L8.5 2.5l-.94 2.06-2.06.94zm10 10l.94 2.06.94-2.06 2.06-.94-2.06-.94-.94-2.06-.94 2.06-2.06.94z\"/><path d=\"M17.41 7.96l-1.37-1.37c-.4-.4-.92-.59-1.43-.59-.52 0-1.04.2-1.43.59L10.3 9.45l-7.72 7.72c-.78.78-.78 2.05 0 2.83L4 21.41c.39.39.9.59 1.41.59.51 0 1.02-.2 1.41-.59l7.78-7.78 2.81-2.81c.8-.78.8-2.07 0-2.86zM5.41 20L4 18.59l7.72-7.72 1.47 1.35L5.41 20z\"/>\n",
              "  </svg>\n",
              "      </button>\n",
              "      \n",
              "  <style>\n",
              "    .colab-df-container {\n",
              "      display:flex;\n",
              "      flex-wrap:wrap;\n",
              "      gap: 12px;\n",
              "    }\n",
              "\n",
              "    .colab-df-convert {\n",
              "      background-color: #E8F0FE;\n",
              "      border: none;\n",
              "      border-radius: 50%;\n",
              "      cursor: pointer;\n",
              "      display: none;\n",
              "      fill: #1967D2;\n",
              "      height: 32px;\n",
              "      padding: 0 0 0 0;\n",
              "      width: 32px;\n",
              "    }\n",
              "\n",
              "    .colab-df-convert:hover {\n",
              "      background-color: #E2EBFA;\n",
              "      box-shadow: 0px 1px 2px rgba(60, 64, 67, 0.3), 0px 1px 3px 1px rgba(60, 64, 67, 0.15);\n",
              "      fill: #174EA6;\n",
              "    }\n",
              "\n",
              "    [theme=dark] .colab-df-convert {\n",
              "      background-color: #3B4455;\n",
              "      fill: #D2E3FC;\n",
              "    }\n",
              "\n",
              "    [theme=dark] .colab-df-convert:hover {\n",
              "      background-color: #434B5C;\n",
              "      box-shadow: 0px 1px 3px 1px rgba(0, 0, 0, 0.15);\n",
              "      filter: drop-shadow(0px 1px 2px rgba(0, 0, 0, 0.3));\n",
              "      fill: #FFFFFF;\n",
              "    }\n",
              "  </style>\n",
              "\n",
              "      <script>\n",
              "        const buttonEl =\n",
              "          document.querySelector('#df-60dc16a0-02c0-40f8-9cf6-9796559f7eea button.colab-df-convert');\n",
              "        buttonEl.style.display =\n",
              "          google.colab.kernel.accessAllowed ? 'block' : 'none';\n",
              "\n",
              "        async function convertToInteractive(key) {\n",
              "          const element = document.querySelector('#df-60dc16a0-02c0-40f8-9cf6-9796559f7eea');\n",
              "          const dataTable =\n",
              "            await google.colab.kernel.invokeFunction('convertToInteractive',\n",
              "                                                     [key], {});\n",
              "          if (!dataTable) return;\n",
              "\n",
              "          const docLinkHtml = 'Like what you see? Visit the ' +\n",
              "            '<a target=\"_blank\" href=https://colab.research.google.com/notebooks/data_table.ipynb>data table notebook</a>'\n",
              "            + ' to learn more about interactive tables.';\n",
              "          element.innerHTML = '';\n",
              "          dataTable['output_type'] = 'display_data';\n",
              "          await google.colab.output.renderOutput(dataTable, element);\n",
              "          const docLink = document.createElement('div');\n",
              "          docLink.innerHTML = docLinkHtml;\n",
              "          element.appendChild(docLink);\n",
              "        }\n",
              "      </script>\n",
              "    </div>\n",
              "  </div>\n",
              "  "
            ]
          },
          "metadata": {},
          "execution_count": 67
        }
      ]
    },
    {
      "cell_type": "markdown",
      "source": [
        "Normalize continuous variables using standard scaler"
      ],
      "metadata": {
        "id": "5QjLu5YGLaHs"
      }
    },
    {
      "cell_type": "code",
      "source": [
        "sc = StandardScaler()\n",
        "x = sc.fit_transform(x)"
      ],
      "metadata": {
        "id": "F-_WxHPbLQD_"
      },
      "execution_count": 68,
      "outputs": []
    },
    {
      "cell_type": "code",
      "source": [
        "x"
      ],
      "metadata": {
        "colab": {
          "base_uri": "https://localhost:8080/"
        },
        "id": "MjddSWN-Livx",
        "outputId": "419b1848-617b-47d1-cbaa-927c53331a3e"
      },
      "execution_count": 69,
      "outputs": [
        {
          "output_type": "execute_result",
          "data": {
            "text/plain": [
              "array([[-0.43752135, -0.51466504, -0.28251302, ...,  0.63357482,\n",
              "         1.40570389,  0.73061385],\n",
              "       [-0.79278868,  0.51062449,  1.48457822, ..., -0.91171534,\n",
              "         1.92141092,  1.81320225],\n",
              "       [-1.50332335,  0.10050868,  0.0387763 , ...,  0.75244329,\n",
              "         2.2652156 , -0.71283736],\n",
              "       ...,\n",
              "       [-0.25988768, -0.10454923,  0.84199959, ...,  0.75244329,\n",
              "         0.20238749, -1.07370016],\n",
              "       [ 1.16118165, -0.51466504, -0.92509165, ..., -1.03058381,\n",
              "        -0.65712423, -0.71283736],\n",
              "       [ 0.98354799,  0.7156824 , -0.44315768, ..., -1.14945228,\n",
              "        -0.65712423, -1.43456296]])"
            ]
          },
          "metadata": {},
          "execution_count": 69
        }
      ]
    },
    {
      "cell_type": "markdown",
      "source": [
        "Split into train and test sets"
      ],
      "metadata": {
        "id": "JLncLm8xLor_"
      }
    },
    {
      "cell_type": "code",
      "source": [
        "x_train, x_test, y_train, y_test = train_test_split(x,y,test_size=0.3,random_state=0)"
      ],
      "metadata": {
        "id": "u8VV-SC7LjO7"
      },
      "execution_count": 70,
      "outputs": []
    },
    {
      "cell_type": "code",
      "source": [
        "print(x_train.shape)\n",
        "print(x_test.shape)\n",
        "print(y_train.shape)\n",
        "print(y_test.shape)"
      ],
      "metadata": {
        "colab": {
          "base_uri": "https://localhost:8080/"
        },
        "id": "HQdfweZTLsqH",
        "outputId": "af59d7cd-b226-444e-b9e5-41694c22de11"
      },
      "execution_count": 71,
      "outputs": [
        {
          "output_type": "stream",
          "name": "stdout",
          "text": [
            "(284, 7)\n",
            "(122, 7)\n",
            "(284,)\n",
            "(122,)\n"
          ]
        }
      ]
    },
    {
      "cell_type": "markdown",
      "source": [
        "**Apply ML Algorithms**"
      ],
      "metadata": {
        "id": "w-Vv3SRLLyiL"
      }
    },
    {
      "cell_type": "markdown",
      "source": [
        "Logistic Regression"
      ],
      "metadata": {
        "id": "sPTNIhImL8XX"
      }
    },
    {
      "cell_type": "code",
      "source": [
        "lr=LogisticRegression()\n",
        "lr.fit(x_train,y_train)\n",
        "lr_ypred=lr.predict(x_test)\n",
        "lr_acc = sklearn.metrics.accuracy_score(lr_ypred,y_test)\n",
        "print(\"Logistic Regression Accuracy: \")\n",
        "print(lr_acc*100,\"%\")"
      ],
      "metadata": {
        "colab": {
          "base_uri": "https://localhost:8080/"
        },
        "id": "pINNv5YAL7-q",
        "outputId": "175e69bd-27bd-454c-e2c1-5df8381467eb"
      },
      "execution_count": 72,
      "outputs": [
        {
          "output_type": "stream",
          "name": "stdout",
          "text": [
            "Logistic Regression Accuracy: \n",
            "81.9672131147541 %\n"
          ]
        }
      ]
    },
    {
      "cell_type": "markdown",
      "source": [
        "Navie Bayes"
      ],
      "metadata": {
        "id": "Q_fA5gjPRP65"
      }
    },
    {
      "cell_type": "code",
      "source": [
        "nb=GaussianNB()\n",
        "nb.fit(x_train,y_train)\n",
        "nb_ypred=nb.predict(x_test)\n",
        "nb_acc = sklearn.metrics.accuracy_score(nb_ypred,y_test)\n",
        "print(\"Naive Bayes Accuracy: \")\n",
        "print(nb_acc*100,\"%\")"
      ],
      "metadata": {
        "colab": {
          "base_uri": "https://localhost:8080/"
        },
        "id": "3mgiND3_L1At",
        "outputId": "bda63188-7dfa-4a69-f43a-3a41baf2dc36"
      },
      "execution_count": 73,
      "outputs": [
        {
          "output_type": "stream",
          "name": "stdout",
          "text": [
            "Naive Bayes Accuracy: \n",
            "80.32786885245902 %\n"
          ]
        }
      ]
    },
    {
      "cell_type": "markdown",
      "source": [
        "Stochastic Gradient Descent"
      ],
      "metadata": {
        "id": "EifxLsagRV-o"
      }
    },
    {
      "cell_type": "code",
      "source": [
        "sgd=SGDClassifier(loss='modified_huber',shuffle=True, random_state=15)\n",
        "sgd.fit(x_train,y_train)\n",
        "sgd_ypred=sgd.predict(x_test)\n",
        "sgd_acc = sklearn.metrics.accuracy_score(sgd_ypred,y_test)\n",
        "print(\"Stochastic Gradient Descent Accuracy: \")\n",
        "print(sgd_acc*100,\"%\")"
      ],
      "metadata": {
        "colab": {
          "base_uri": "https://localhost:8080/"
        },
        "id": "UY_DlENURYeZ",
        "outputId": "3ff08ed8-4f2d-487d-856a-f03c0fd0c0ff"
      },
      "execution_count": 74,
      "outputs": [
        {
          "output_type": "stream",
          "name": "stdout",
          "text": [
            "Stochastic Gradient Descent Accuracy: \n",
            "78.68852459016394 %\n"
          ]
        }
      ]
    },
    {
      "cell_type": "markdown",
      "source": [
        "K-Nearest Neighbours"
      ],
      "metadata": {
        "id": "9m7z9M6sRc7r"
      }
    },
    {
      "cell_type": "code",
      "source": [
        "knn=KNeighborsClassifier(n_neighbors=3)\n",
        "knn.fit(x_train,y_train)\n",
        "knn_ypred=knn.predict(x_test)\n",
        "knn_acc = sklearn.metrics.accuracy_score(knn_ypred,y_test)\n",
        "print(\"K-Nearest Neighbour Accuracy: \")\n",
        "print(knn_acc*100,\"%\")"
      ],
      "metadata": {
        "colab": {
          "base_uri": "https://localhost:8080/"
        },
        "id": "vpsz_v2dRdaA",
        "outputId": "0eae176a-4fe5-4369-81af-befbe730e71d"
      },
      "execution_count": 75,
      "outputs": [
        {
          "output_type": "stream",
          "name": "stdout",
          "text": [
            "K-Nearest Neighbour Accuracy: \n",
            "69.67213114754098 %\n"
          ]
        }
      ]
    },
    {
      "cell_type": "markdown",
      "source": [
        "Decision Tree"
      ],
      "metadata": {
        "id": "BSIU-zCWRhzJ"
      }
    },
    {
      "cell_type": "code",
      "source": [
        "dtree=DecisionTreeClassifier(max_depth=100,random_state=10,max_features=None, min_samples_leaf=100)\n",
        "dtree.fit(x_train,y_train)\n",
        "dtree_ypred=dtree.predict(x_test)\n",
        "dtree_acc = sklearn.metrics.accuracy_score(dtree_ypred,y_test)\n",
        "print(\"Decision Tree Accuracy: \")\n",
        "print(dtree_acc*100,\"%\")"
      ],
      "metadata": {
        "colab": {
          "base_uri": "https://localhost:8080/"
        },
        "id": "nK-jLcKWRiNB",
        "outputId": "e9bddc93-5aab-4a4f-8553-d9f6b583a6cc"
      },
      "execution_count": 76,
      "outputs": [
        {
          "output_type": "stream",
          "name": "stdout",
          "text": [
            "Decision Tree Accuracy: \n",
            "72.95081967213115 %\n"
          ]
        }
      ]
    },
    {
      "cell_type": "markdown",
      "source": [
        "Random Forest"
      ],
      "metadata": {
        "id": "PshiDPA7Rmf9"
      }
    },
    {
      "cell_type": "code",
      "source": [
        "rfm=RandomForestClassifier(n_estimators=200,oob_score=True,n_jobs=-1, random_state=20,max_features=None,min_samples_leaf=2)\n",
        "rfm.fit(x_train,y_train)\n",
        "rfm_ypred=rfm.predict(x_test)\n",
        "rfm_acc = sklearn.metrics.accuracy_score(rfm_ypred,y_test)\n",
        "print(\"Random Forest Accuracy: \")\n",
        "print(rfm_acc*100,\"%\")"
      ],
      "metadata": {
        "colab": {
          "base_uri": "https://localhost:8080/"
        },
        "id": "QBw0e9b6Rm_g",
        "outputId": "29843e88-0fbb-415e-81e6-3ad85754adb3"
      },
      "execution_count": 77,
      "outputs": [
        {
          "output_type": "stream",
          "name": "stdout",
          "text": [
            "Random Forest Accuracy: \n",
            "81.14754098360656 %\n"
          ]
        }
      ]
    },
    {
      "cell_type": "markdown",
      "source": [
        "Support Vector Machine"
      ],
      "metadata": {
        "id": "UjaUgwiBRsHT"
      }
    },
    {
      "cell_type": "code",
      "source": [
        "svm=SVC(kernel=\"linear\",C=0.025,random_state=None)\n",
        "svm.fit(x_train,y_train)\n",
        "svm_ypred=svm.predict(x_test)\n",
        "svm_acc = sklearn.metrics.accuracy_score(svm_ypred,y_test)\n",
        "print(\"Support Vector Machine Accuracy: \")\n",
        "print(svm_acc*100,\"%\")"
      ],
      "metadata": {
        "colab": {
          "base_uri": "https://localhost:8080/"
        },
        "id": "9ITbi49nRsgA",
        "outputId": "4ab4adf9-8214-422a-d793-ed5fc93a9153"
      },
      "execution_count": 78,
      "outputs": [
        {
          "output_type": "stream",
          "name": "stdout",
          "text": [
            "Support Vector Machine Accuracy: \n",
            "75.40983606557377 %\n"
          ]
        }
      ]
    },
    {
      "cell_type": "markdown",
      "source": [
        "**ML Model Evaluation**"
      ],
      "metadata": {
        "id": "pCsuTnp6Rw_S"
      }
    },
    {
      "cell_type": "markdown",
      "source": [
        "Classification Report"
      ],
      "metadata": {
        "id": "VozMQ8dPR3Z9"
      }
    },
    {
      "cell_type": "code",
      "source": [
        "targetNames=['conservative', 'slightly', 'liberal', 'moderate']\n",
        "print('For LR')\n",
        "print(classification_report(y_test, lr_ypred, target_names=targetNames))\n",
        "print('-----------------------------------------------------------------')\n",
        "print('For Naive Bayes')\n",
        "print(classification_report(y_test, nb_ypred, target_names=targetNames))\n",
        "print('-----------------------------------------------------------------')\n",
        "print('For SGD')\n",
        "print(classification_report(y_test, sgd_ypred, target_names=targetNames))\n",
        "print('-----------------------------------------------------------------')\n",
        "print('For KNN')\n",
        "print(classification_report(y_test, knn_ypred, target_names=targetNames))\n",
        "print('-----------------------------------------------------------------')\n",
        "print('For Decision Tree')\n",
        "print(classification_report(y_test, dtree_ypred, target_names=targetNames))\n",
        "print('-----------------------------------------------------------------')\n",
        "print('For Random Forest')\n",
        "print(classification_report(y_test, rfm_ypred, target_names=targetNames))\n",
        "print('-----------------------------------------------------------------')\n",
        "print('For SVM')\n",
        "print(classification_report(y_test, svm_ypred, target_names=targetNames))\n",
        "print('-----------------------------------------------------------------')"
      ],
      "metadata": {
        "colab": {
          "base_uri": "https://localhost:8080/"
        },
        "id": "_-sdmFe5RyMM",
        "outputId": "1d526a68-3650-4f1f-885b-baa7e9634cca"
      },
      "execution_count": 79,
      "outputs": [
        {
          "output_type": "stream",
          "name": "stdout",
          "text": [
            "For LR\n",
            "              precision    recall  f1-score   support\n",
            "\n",
            "conservative       0.81      0.93      0.87        14\n",
            "    slightly       0.92      0.92      0.92        65\n",
            "     liberal       0.66      0.77      0.71        35\n",
            "    moderate       0.00      0.00      0.00         8\n",
            "\n",
            "    accuracy                           0.82       122\n",
            "   macro avg       0.60      0.66      0.63       122\n",
            "weighted avg       0.77      0.82      0.80       122\n",
            "\n",
            "-----------------------------------------------------------------\n",
            "For Naive Bayes\n",
            "              precision    recall  f1-score   support\n",
            "\n",
            "conservative       0.74      1.00      0.85        14\n",
            "    slightly       0.95      0.88      0.91        65\n",
            "     liberal       0.63      0.77      0.69        35\n",
            "    moderate       0.00      0.00      0.00         8\n",
            "\n",
            "    accuracy                           0.80       122\n",
            "   macro avg       0.58      0.66      0.61       122\n",
            "weighted avg       0.77      0.80      0.78       122\n",
            "\n",
            "-----------------------------------------------------------------\n",
            "For SGD\n",
            "              precision    recall  f1-score   support\n",
            "\n",
            "conservative       0.67      1.00      0.80        14\n",
            "    slightly       0.93      0.86      0.90        65\n",
            "     liberal       0.63      0.74      0.68        35\n",
            "    moderate       0.00      0.00      0.00         8\n",
            "\n",
            "    accuracy                           0.79       122\n",
            "   macro avg       0.56      0.65      0.60       122\n",
            "weighted avg       0.76      0.79      0.77       122\n",
            "\n",
            "-----------------------------------------------------------------\n",
            "For KNN\n",
            "              precision    recall  f1-score   support\n",
            "\n",
            "conservative       0.44      0.57      0.50        14\n",
            "    slightly       0.85      0.94      0.89        65\n",
            "     liberal       0.55      0.46      0.50        35\n",
            "    moderate       0.00      0.00      0.00         8\n",
            "\n",
            "    accuracy                           0.70       122\n",
            "   macro avg       0.46      0.49      0.47       122\n",
            "weighted avg       0.66      0.70      0.68       122\n",
            "\n",
            "-----------------------------------------------------------------\n",
            "For Decision Tree\n",
            "              precision    recall  f1-score   support\n",
            "\n",
            "conservative       0.00      0.00      0.00        14\n",
            "    slightly       0.94      0.89      0.91        65\n",
            "     liberal       0.52      0.89      0.65        35\n",
            "    moderate       0.00      0.00      0.00         8\n",
            "\n",
            "    accuracy                           0.73       122\n",
            "   macro avg       0.36      0.44      0.39       122\n",
            "weighted avg       0.65      0.73      0.67       122\n",
            "\n",
            "-----------------------------------------------------------------\n",
            "For Random Forest\n",
            "              precision    recall  f1-score   support\n",
            "\n",
            "conservative       0.71      0.86      0.77        14\n",
            "    slightly       0.97      0.91      0.94        65\n",
            "     liberal       0.64      0.80      0.71        35\n",
            "    moderate       0.00      0.00      0.00         8\n",
            "\n",
            "    accuracy                           0.81       122\n",
            "   macro avg       0.58      0.64      0.60       122\n",
            "weighted avg       0.78      0.81      0.79       122\n",
            "\n",
            "-----------------------------------------------------------------\n",
            "For SVM\n",
            "              precision    recall  f1-score   support\n",
            "\n",
            "conservative       0.00      0.00      0.00        14\n",
            "    slightly       0.93      0.95      0.94        65\n",
            "     liberal       0.55      0.86      0.67        35\n",
            "    moderate       0.00      0.00      0.00         8\n",
            "\n",
            "    accuracy                           0.75       122\n",
            "   macro avg       0.37      0.45      0.40       122\n",
            "weighted avg       0.65      0.75      0.69       122\n",
            "\n",
            "-----------------------------------------------------------------\n"
          ]
        }
      ]
    },
    {
      "cell_type": "code",
      "source": [
        "cm_lr = confusion_matrix(y_test, lr_ypred)\n",
        "print('For Logistic Regression')\n",
        "print('Confusion Matrix: ')\n",
        "print(cm_lr)\n",
        "acc_lr = accuracy_score(y_test, lr_ypred)\n",
        "pre_lr = precision_score(y_test, lr_ypred, average='micro')\n",
        "rec_lr = recall_score(y_test, lr_ypred, average='micro')\n",
        "f1_lr = f1_score(y_test, lr_ypred, average='micro')\n",
        "print('Accuracy Score: ',acc_lr)\n",
        "print('Precision Score: ',pre_lr)\n",
        "print('Recall Score: ',rec_lr)\n",
        "print('F1 Score: ',f1_lr)"
      ],
      "metadata": {
        "colab": {
          "base_uri": "https://localhost:8080/"
        },
        "id": "pmzX2kV9SM9J",
        "outputId": "601b7df6-8352-48d0-dc7e-193d115c1809"
      },
      "execution_count": 80,
      "outputs": [
        {
          "output_type": "stream",
          "name": "stdout",
          "text": [
            "For Logistic Regression\n",
            "Confusion Matrix: \n",
            "[[13  0  1  0]\n",
            " [ 0 60  5  0]\n",
            " [ 3  5 27  0]\n",
            " [ 0  0  8  0]]\n",
            "Accuracy Score:  0.819672131147541\n",
            "Precision Score:  0.819672131147541\n",
            "Recall Score:  0.819672131147541\n",
            "F1 Score:  0.819672131147541\n"
          ]
        }
      ]
    },
    {
      "cell_type": "code",
      "source": [
        "cm_nb = confusion_matrix(y_test, nb_ypred)\n",
        "print('For Naive Bayes')\n",
        "print('Confusion Matrix: ')\n",
        "print(cm_nb)\n",
        "acc_nb = accuracy_score(y_test, nb_ypred)\n",
        "pre_nb = precision_score(y_test, nb_ypred, average='micro')\n",
        "rec_nb = recall_score(y_test, nb_ypred, average='micro')\n",
        "f1_nb = f1_score(y_test, nb_ypred, average='micro')\n",
        "print('Accuracy Score: ',acc_nb)\n",
        "print('Precision Score: ',pre_nb)\n",
        "print('Recall Score: ',rec_nb)\n",
        "print('F1 Score: ',f1_nb)"
      ],
      "metadata": {
        "colab": {
          "base_uri": "https://localhost:8080/"
        },
        "id": "NioOfguoSTQh",
        "outputId": "9d27b212-1fde-4d2f-c579-92566f9208a9"
      },
      "execution_count": 81,
      "outputs": [
        {
          "output_type": "stream",
          "name": "stdout",
          "text": [
            "For Naive Bayes\n",
            "Confusion Matrix: \n",
            "[[14  0  0  0]\n",
            " [ 0 57  8  0]\n",
            " [ 5  3 27  0]\n",
            " [ 0  0  8  0]]\n",
            "Accuracy Score:  0.8032786885245902\n",
            "Precision Score:  0.8032786885245902\n",
            "Recall Score:  0.8032786885245902\n",
            "F1 Score:  0.8032786885245902\n"
          ]
        }
      ]
    },
    {
      "cell_type": "code",
      "source": [
        "cm_sgd = confusion_matrix(y_test, sgd_ypred)\n",
        "print('For Stochastic Gradient Descent')\n",
        "print('Confusion Matrix: ')\n",
        "print(cm_sgd)\n",
        "acc_sgd = accuracy_score(y_test, sgd_ypred)\n",
        "pre_sgd = precision_score(y_test, sgd_ypred, average='micro')\n",
        "rec_sgd = recall_score(y_test, sgd_ypred, average='micro')\n",
        "f1_sgd = f1_score(y_test, sgd_ypred, average='micro')\n",
        "print('Accuracy Score: ',acc_sgd)\n",
        "print('Precision Score: ',pre_sgd)\n",
        "print('Recall Score: ',rec_sgd)\n",
        "print('F1 Score: ',f1_sgd)"
      ],
      "metadata": {
        "colab": {
          "base_uri": "https://localhost:8080/"
        },
        "id": "KPNXaOA7TFyq",
        "outputId": "f577a2ee-73d8-4556-95c9-c66e7abb1fe1"
      },
      "execution_count": 82,
      "outputs": [
        {
          "output_type": "stream",
          "name": "stdout",
          "text": [
            "For Stochastic Gradient Descent\n",
            "Confusion Matrix: \n",
            "[[14  0  0  0]\n",
            " [ 0 56  9  0]\n",
            " [ 5  4 26  0]\n",
            " [ 2  0  6  0]]\n",
            "Accuracy Score:  0.7868852459016393\n",
            "Precision Score:  0.7868852459016393\n",
            "Recall Score:  0.7868852459016393\n",
            "F1 Score:  0.7868852459016392\n"
          ]
        }
      ]
    },
    {
      "cell_type": "code",
      "source": [
        "cm_knn = confusion_matrix(y_test, knn_ypred)\n",
        "print('For KNN')\n",
        "print('Confusion Matrix: ')\n",
        "print(cm_knn)\n",
        "acc_knn = accuracy_score(y_test, knn_ypred)\n",
        "pre_knn = precision_score(y_test, knn_ypred, average='micro')\n",
        "rec_knn = recall_score(y_test, knn_ypred, average='micro')\n",
        "f1_knn = f1_score(y_test, knn_ypred, average='micro')\n",
        "print('Accuracy Score: ',acc_knn)\n",
        "print('Precision Score: ',pre_knn)\n",
        "print('Recall Score: ',rec_knn)\n",
        "print('F1 Score: ',f1_knn)"
      ],
      "metadata": {
        "colab": {
          "base_uri": "https://localhost:8080/"
        },
        "id": "HFY-D7UyTPQ6",
        "outputId": "7d8309ad-925e-4662-9351-fe0f932ff339"
      },
      "execution_count": 83,
      "outputs": [
        {
          "output_type": "stream",
          "name": "stdout",
          "text": [
            "For KNN\n",
            "Confusion Matrix: \n",
            "[[ 8  0  6  0]\n",
            " [ 0 61  4  0]\n",
            " [ 6 10 16  3]\n",
            " [ 4  1  3  0]]\n",
            "Accuracy Score:  0.6967213114754098\n",
            "Precision Score:  0.6967213114754098\n",
            "Recall Score:  0.6967213114754098\n",
            "F1 Score:  0.6967213114754098\n"
          ]
        }
      ]
    },
    {
      "cell_type": "code",
      "source": [
        "cm_dtree = confusion_matrix(y_test, dtree_ypred)\n",
        "print('For Decision Tree')\n",
        "print('Confusion Matrix: ')\n",
        "print(cm_dtree)\n",
        "acc_dtree = accuracy_score(y_test, dtree_ypred)\n",
        "pre_dtree = precision_score(y_test, dtree_ypred, average='micro')\n",
        "rec_dtree = recall_score(y_test, dtree_ypred, average='micro')\n",
        "f1_dtree = f1_score(y_test, dtree_ypred, average='micro')\n",
        "print('Accuracy Score: ',acc_dtree)\n",
        "print('Precision Score: ',pre_dtree)\n",
        "print('Recall Score: ',rec_dtree)\n",
        "print('F1 Score: ',f1_dtree)"
      ],
      "metadata": {
        "colab": {
          "base_uri": "https://localhost:8080/"
        },
        "id": "Rl0md7kKTWsM",
        "outputId": "0760d1b8-0f19-4781-cb44-7fe84073a237"
      },
      "execution_count": 84,
      "outputs": [
        {
          "output_type": "stream",
          "name": "stdout",
          "text": [
            "For Decision Tree\n",
            "Confusion Matrix: \n",
            "[[ 0  0 14  0]\n",
            " [ 0 58  7  0]\n",
            " [ 0  4 31  0]\n",
            " [ 0  0  8  0]]\n",
            "Accuracy Score:  0.7295081967213115\n",
            "Precision Score:  0.7295081967213115\n",
            "Recall Score:  0.7295081967213115\n",
            "F1 Score:  0.7295081967213115\n"
          ]
        }
      ]
    },
    {
      "cell_type": "code",
      "source": [
        "cm_rfm = confusion_matrix(y_test, rfm_ypred)\n",
        "print('For Random Forest')\n",
        "print('Confusion Matrix: ')\n",
        "print(cm_rfm)\n",
        "acc_rfm = accuracy_score(y_test, rfm_ypred)\n",
        "pre_rfm = precision_score(y_test, rfm_ypred, average='micro')\n",
        "rec_rfm = recall_score(y_test, rfm_ypred, average='micro')\n",
        "f1_rfm = f1_score(y_test, rfm_ypred, average='micro')\n",
        "print('Accuracy Score: ',acc_rfm)\n",
        "print('Precision Score: ',pre_rfm)\n",
        "print('Recall Score: ',rec_rfm)\n",
        "print('F1 Score: ',f1_rfm)"
      ],
      "metadata": {
        "colab": {
          "base_uri": "https://localhost:8080/"
        },
        "id": "iSMOEmi2Tk1q",
        "outputId": "2d06ce16-2f0d-4ec3-d27a-a0f43df5f624"
      },
      "execution_count": 85,
      "outputs": [
        {
          "output_type": "stream",
          "name": "stdout",
          "text": [
            "For Random Forest\n",
            "Confusion Matrix: \n",
            "[[12  0  2  0]\n",
            " [ 0 59  6  0]\n",
            " [ 5  2 28  0]\n",
            " [ 0  0  8  0]]\n",
            "Accuracy Score:  0.8114754098360656\n",
            "Precision Score:  0.8114754098360656\n",
            "Recall Score:  0.8114754098360656\n",
            "F1 Score:  0.8114754098360656\n"
          ]
        }
      ]
    },
    {
      "cell_type": "code",
      "source": [
        "accuracies= {\"LR\": lr_acc, \n",
        "             \"Naive\": nb_acc, \n",
        "             \"SGD\": sgd_acc, \n",
        "             \"kNN\": knn_acc, \n",
        "             \"DT\": dtree_acc, \n",
        "             \"RFM\": rfm_acc, \n",
        "             }\n",
        "\n",
        "precisions = {\"LR\": pre_lr,  \n",
        "             \"Naive\": pre_nb, \n",
        "             \"SGD\": pre_sgd,\n",
        "             \"kNN\": pre_knn, \n",
        "             \"DT\": pre_dtree,\n",
        "            \"RFM\": pre_rfm,\n",
        "             }\n",
        "\n",
        "recalls = {\"LR\": rec_lr,  \n",
        "             \"Naive\": rec_nb, \n",
        "             \"SGD\": rec_sgd,\n",
        "             \"kNN\": rec_knn, \n",
        "             \"DT\": rec_dtree,\n",
        "            \"RFM\": rec_rfm,\n",
        "             }\n",
        "\n",
        "f1s = {\"LR\": f1_lr,  \n",
        "        \"Naive\": f1_nb, \n",
        "        \"SGD\": f1_sgd,\n",
        "        \"kNN\": f1_knn, \n",
        "        \"DT\": f1_dtree,\n",
        "      \"RFM\": f1_rfm,\n",
        "        }"
      ],
      "metadata": {
        "id": "hf-ActHWUS_T"
      },
      "execution_count": 86,
      "outputs": []
    },
    {
      "cell_type": "markdown",
      "source": [
        "**Classification Evaluation Metrics**"
      ],
      "metadata": {
        "id": "b6c8BpTpUcO-"
      }
    },
    {
      "cell_type": "code",
      "source": [
        "lists = sorted(accuracies.items(), key=lambda x: x[1]*100)\n",
        "plt.figure(figsize=(10,5))\n",
        "plt.bar(*zip(*lists), color=\"coral\")\n",
        "plt.title('Classification Models vs Accuracy')\n",
        "plt.xlabel('Classification Models')\n",
        "plt.ylabel('Accuracy')\n",
        "plt.show()"
      ],
      "metadata": {
        "colab": {
          "base_uri": "https://localhost:8080/",
          "height": 350
        },
        "id": "qku2TZr8UYxm",
        "outputId": "f570c557-89cd-4252-8681-4e6a06575d60"
      },
      "execution_count": 87,
      "outputs": [
        {
          "output_type": "display_data",
          "data": {
            "text/plain": [
              "<Figure size 720x360 with 1 Axes>"
            ],
            "image/png": "[encoded data removed]"
          },
          "metadata": {
            "needs_background": "light"
          }
        }
      ]
    },
    {
      "cell_type": "code",
      "source": [
        "lists = sorted(precisions.items(), key=lambda x: x[1]*100)\n",
        "plt.figure(figsize=(10,5))\n",
        "plt.bar(*zip(*lists), color=\"limegreen\")\n",
        "plt.title('Classification Models vs Precision')\n",
        "plt.xlabel('Classification Models')\n",
        "plt.ylabel('Precision')\n",
        "plt.show()"
      ],
      "metadata": {
        "colab": {
          "base_uri": "https://localhost:8080/",
          "height": 350
        },
        "id": "b4Cm3Ag0UhVA",
        "outputId": "1e92e4bc-fce5-46e5-9c26-285c5ce60ecf"
      },
      "execution_count": 88,
      "outputs": [
        {
          "output_type": "display_data",
          "data": {
            "text/plain": [
              "<Figure size 720x360 with 1 Axes>"
            ],
            "image/png": "[encoded data removed]"
          },
          "metadata": {
            "needs_background": "light"
          }
        }
      ]
    },
    {
      "cell_type": "code",
      "source": [
        "lists = sorted(recalls.items(), key=lambda x: x[1]*100)\n",
        "plt.figure(figsize=(10,5))\n",
        "plt.bar(*zip(*lists), color=\"dodgerblue\")\n",
        "plt.ylim(0,1)\n",
        "plt.title('Classification Models vs Recall')\n",
        "plt.xlabel('Classification Models')\n",
        "plt.ylabel('Recall')\n",
        "plt.show()"
      ],
      "metadata": {
        "colab": {
          "base_uri": "https://localhost:8080/",
          "height": 350
        },
        "id": "av9aEL7SUkUK",
        "outputId": "83d4b4fe-dcb1-43fd-a566-24d94d89e271"
      },
      "execution_count": 89,
      "outputs": [
        {
          "output_type": "display_data",
          "data": {
            "text/plain": [
              "<Figure size 720x360 with 1 Axes>"
            ],
            "image/png": "[encoded data removed]"
          },
          "metadata": {
            "needs_background": "light"
          }
        }
      ]
    },
    {
      "cell_type": "code",
      "source": [
        "lists = sorted(f1s.items(), key=lambda x: x[1]*100)\n",
        "plt.figure(figsize=(10,5))\n",
        "plt.bar(*zip(*lists), color=\"darkmagenta\")\n",
        "plt.title('Classification Models vs F1')\n",
        "plt.xlabel('Classification Models')\n",
        "plt.ylabel('F1')\n",
        "plt.show()"
      ],
      "metadata": {
        "colab": {
          "base_uri": "https://localhost:8080/",
          "height": 350
        },
        "id": "DfAO47oUUnD9",
        "outputId": "909e1e5b-c481-4102-90f9-fde00d2af609"
      },
      "execution_count": 90,
      "outputs": [
        {
          "output_type": "display_data",
          "data": {
            "text/plain": [
              "<Figure size 720x360 with 1 Axes>"
            ],
            "image/png": "[encoded data removed]"
          },
          "metadata": {
            "needs_background": "light"
          }
        }
      ]
    },
    {
      "cell_type": "markdown",
      "source": [
        "**Apply Deep Learning Models**"
      ],
      "metadata": {
        "id": "gVIizFtqUqhC"
      }
    },
    {
      "cell_type": "markdown",
      "source": [
        "Artificial Neural Networks"
      ],
      "metadata": {
        "id": "aQmb6LWTUuUh"
      }
    },
    {
      "cell_type": "code",
      "source": [
        "ann_model = Sequential()\n",
        "ann_model.add(Dense(units=8,activation='relu'))\n",
        "ann_model.add(Dense(units=8,activation='relu'))\n",
        "ann_model.add(Dense(units=8,activation='relu'))\n",
        "ann_model.add(Dense(units=8,activation='relu'))\n",
        "ann_model.add(Dense(units=8,activation='relu'))\n",
        "ann_model.add(Dense(units=8,activation='relu'))\n",
        "ann_model.add(Dense(units=8,activation='relu'))\n",
        "ann_model.add(Dense(units=8,activation='relu'))\n",
        "ann_model.add(Dense(units=1,activation='sigmoid'))\n",
        "ann_model.compile(optimizer='rmsprop',loss='binary_crossentropy',metrics=['accuracy'])\n",
        "ann_model.fit(x_train,y_train,batch_size=32,epochs=100)\n",
        "acc= ann_model.evaluate(x_train, y_train)\n",
        "print(\"ANN Model Accuracy: \")\n",
        "ann_acc=acc[1]\n",
        "print(ann_acc*100,\"%\")"
      ],
      "metadata": {
        "colab": {
          "base_uri": "https://localhost:8080/"
        },
        "id": "KhhmlFPLUrgZ",
        "outputId": "be3bc270-ca96-4bdb-ae89-630bcee1855a"
      },
      "execution_count": 91,
      "outputs": [
        {
          "output_type": "stream",
          "name": "stdout",
          "text": [
            "Epoch 1/100\n",
            "9/9 [==============================] - 2s 4ms/step - loss: 0.5397 - accuracy: 0.5739\n",
            "Epoch 2/100\n",
            "9/9 [==============================] - 0s 4ms/step - loss: 0.3656 - accuracy: 0.5739\n",
            "Epoch 3/100\n",
            "9/9 [==============================] - 0s 3ms/step - loss: 0.1824 - accuracy: 0.5739\n",
            "Epoch 4/100\n",
            "9/9 [==============================] - 0s 5ms/step - loss: -0.0241 - accuracy: 0.5739\n",
            "Epoch 5/100\n",
            "9/9 [==============================] - 0s 3ms/step - loss: -0.2543 - accuracy: 0.5739\n",
            "Epoch 6/100\n",
            "9/9 [==============================] - 0s 4ms/step - loss: -0.5060 - accuracy: 0.5739\n",
            "Epoch 7/100\n",
            "9/9 [==============================] - 0s 3ms/step - loss: -0.7893 - accuracy: 0.5739\n",
            "Epoch 8/100\n",
            "9/9 [==============================] - 0s 3ms/step - loss: -1.1248 - accuracy: 0.5739\n",
            "Epoch 9/100\n",
            "9/9 [==============================] - 0s 3ms/step - loss: -1.5488 - accuracy: 0.5739\n",
            "Epoch 10/100\n",
            "9/9 [==============================] - 0s 4ms/step - loss: -2.0839 - accuracy: 0.5739\n",
            "Epoch 11/100\n",
            "9/9 [==============================] - 0s 4ms/step - loss: -2.7825 - accuracy: 0.5739\n",
            "Epoch 12/100\n",
            "9/9 [==============================] - 0s 5ms/step - loss: -3.6788 - accuracy: 0.5739\n",
            "Epoch 13/100\n",
            "9/9 [==============================] - 0s 5ms/step - loss: -4.9011 - accuracy: 0.5739\n",
            "Epoch 14/100\n",
            "9/9 [==============================] - 0s 4ms/step - loss: -6.4778 - accuracy: 0.5739\n",
            "Epoch 15/100\n",
            "9/9 [==============================] - 0s 4ms/step - loss: -8.5329 - accuracy: 0.5739\n",
            "Epoch 16/100\n",
            "9/9 [==============================] - 0s 3ms/step - loss: -11.1548 - accuracy: 0.5739\n",
            "Epoch 17/100\n",
            "9/9 [==============================] - 0s 4ms/step - loss: -14.2383 - accuracy: 0.5739\n",
            "Epoch 18/100\n",
            "9/9 [==============================] - 0s 3ms/step - loss: -17.8998 - accuracy: 0.5739\n",
            "Epoch 19/100\n",
            "9/9 [==============================] - 0s 3ms/step - loss: -22.4718 - accuracy: 0.5739\n",
            "Epoch 20/100\n",
            "9/9 [==============================] - 0s 3ms/step - loss: -28.3229 - accuracy: 0.5739\n",
            "Epoch 21/100\n",
            "9/9 [==============================] - 0s 3ms/step - loss: -35.3881 - accuracy: 0.5739\n",
            "Epoch 22/100\n",
            "9/9 [==============================] - 0s 3ms/step - loss: -44.1575 - accuracy: 0.5739\n",
            "Epoch 23/100\n",
            "9/9 [==============================] - 0s 3ms/step - loss: -54.8483 - accuracy: 0.5739\n",
            "Epoch 24/100\n",
            "9/9 [==============================] - 0s 3ms/step - loss: -68.3356 - accuracy: 0.5739\n",
            "Epoch 25/100\n",
            "9/9 [==============================] - 0s 3ms/step - loss: -84.5626 - accuracy: 0.5739\n",
            "Epoch 26/100\n",
            "9/9 [==============================] - 0s 4ms/step - loss: -103.3420 - accuracy: 0.5739\n",
            "Epoch 27/100\n",
            "9/9 [==============================] - 0s 4ms/step - loss: -126.3408 - accuracy: 0.5739\n",
            "Epoch 28/100\n",
            "9/9 [==============================] - 0s 5ms/step - loss: -153.7453 - accuracy: 0.5739\n",
            "Epoch 29/100\n",
            "9/9 [==============================] - 0s 4ms/step - loss: -186.8322 - accuracy: 0.5739\n",
            "Epoch 30/100\n",
            "9/9 [==============================] - 0s 3ms/step - loss: -226.0140 - accuracy: 0.5739\n",
            "Epoch 31/100\n",
            "9/9 [==============================] - 0s 3ms/step - loss: -272.5365 - accuracy: 0.5739\n",
            "Epoch 32/100\n",
            "9/9 [==============================] - 0s 4ms/step - loss: -330.8891 - accuracy: 0.5739\n",
            "Epoch 33/100\n",
            "9/9 [==============================] - 0s 4ms/step - loss: -398.4225 - accuracy: 0.5739\n",
            "Epoch 34/100\n",
            "9/9 [==============================] - 0s 3ms/step - loss: -479.7036 - accuracy: 0.5739\n",
            "Epoch 35/100\n",
            "9/9 [==============================] - 0s 5ms/step - loss: -571.4293 - accuracy: 0.5739\n",
            "Epoch 36/100\n",
            "9/9 [==============================] - 0s 3ms/step - loss: -679.4634 - accuracy: 0.5739\n",
            "Epoch 37/100\n",
            "9/9 [==============================] - 0s 3ms/step - loss: -801.6687 - accuracy: 0.5739\n",
            "Epoch 38/100\n",
            "9/9 [==============================] - 0s 3ms/step - loss: -951.2038 - accuracy: 0.5739\n",
            "Epoch 39/100\n",
            "9/9 [==============================] - 0s 4ms/step - loss: -1126.4092 - accuracy: 0.5739\n",
            "Epoch 40/100\n",
            "9/9 [==============================] - 0s 3ms/step - loss: -1315.8113 - accuracy: 0.5739\n",
            "Epoch 41/100\n",
            "9/9 [==============================] - 0s 3ms/step - loss: -1537.7169 - accuracy: 0.5739\n",
            "Epoch 42/100\n",
            "9/9 [==============================] - 0s 3ms/step - loss: -1794.3867 - accuracy: 0.5739\n",
            "Epoch 43/100\n",
            "9/9 [==============================] - 0s 3ms/step - loss: -2088.9546 - accuracy: 0.5739\n",
            "Epoch 44/100\n",
            "9/9 [==============================] - 0s 3ms/step - loss: -2412.4670 - accuracy: 0.5739\n",
            "Epoch 45/100\n",
            "9/9 [==============================] - 0s 3ms/step - loss: -2796.1628 - accuracy: 0.5739\n",
            "Epoch 46/100\n",
            "9/9 [==============================] - 0s 3ms/step - loss: -3239.2444 - accuracy: 0.5739\n",
            "Epoch 47/100\n",
            "9/9 [==============================] - 0s 3ms/step - loss: -3739.5959 - accuracy: 0.5739\n",
            "Epoch 48/100\n",
            "9/9 [==============================] - 0s 3ms/step - loss: -4294.5923 - accuracy: 0.5739\n",
            "Epoch 49/100\n",
            "9/9 [==============================] - 0s 3ms/step - loss: -4930.6221 - accuracy: 0.5739\n",
            "Epoch 50/100\n",
            "9/9 [==============================] - 0s 3ms/step - loss: -5627.6592 - accuracy: 0.5739\n",
            "Epoch 51/100\n",
            "9/9 [==============================] - 0s 3ms/step - loss: -6387.3745 - accuracy: 0.5739\n",
            "Epoch 52/100\n",
            "9/9 [==============================] - 0s 3ms/step - loss: -7235.1597 - accuracy: 0.5739\n",
            "Epoch 53/100\n",
            "9/9 [==============================] - 0s 4ms/step - loss: -8168.1172 - accuracy: 0.5739\n",
            "Epoch 54/100\n",
            "9/9 [==============================] - 0s 3ms/step - loss: -9294.1914 - accuracy: 0.5739\n",
            "Epoch 55/100\n",
            "9/9 [==============================] - 0s 4ms/step - loss: -10547.7744 - accuracy: 0.5739\n",
            "Epoch 56/100\n",
            "9/9 [==============================] - 0s 3ms/step - loss: -11938.7266 - accuracy: 0.5739\n",
            "Epoch 57/100\n",
            "9/9 [==============================] - 0s 3ms/step - loss: -13502.7871 - accuracy: 0.5739\n",
            "Epoch 58/100\n",
            "9/9 [==============================] - 0s 3ms/step - loss: -15268.4609 - accuracy: 0.5739\n",
            "Epoch 59/100\n",
            "9/9 [==============================] - 0s 3ms/step - loss: -17140.9668 - accuracy: 0.5739\n",
            "Epoch 60/100\n",
            "9/9 [==============================] - 0s 3ms/step - loss: -19280.1875 - accuracy: 0.5739\n",
            "Epoch 61/100\n",
            "9/9 [==============================] - 0s 3ms/step - loss: -21671.4922 - accuracy: 0.5739\n",
            "Epoch 62/100\n",
            "9/9 [==============================] - 0s 3ms/step - loss: -24255.7148 - accuracy: 0.5739\n",
            "Epoch 63/100\n",
            "9/9 [==============================] - 0s 3ms/step - loss: -27053.4824 - accuracy: 0.5739\n",
            "Epoch 64/100\n",
            "9/9 [==============================] - 0s 3ms/step - loss: -30192.2539 - accuracy: 0.5739\n",
            "Epoch 65/100\n",
            "9/9 [==============================] - 0s 3ms/step - loss: -33761.9453 - accuracy: 0.5739\n",
            "Epoch 66/100\n",
            "9/9 [==============================] - 0s 4ms/step - loss: -37486.1602 - accuracy: 0.5739\n",
            "Epoch 67/100\n",
            "9/9 [==============================] - 0s 3ms/step - loss: -41643.1602 - accuracy: 0.5739\n",
            "Epoch 68/100\n",
            "9/9 [==============================] - 0s 3ms/step - loss: -46148.3828 - accuracy: 0.5739\n",
            "Epoch 69/100\n",
            "9/9 [==============================] - 0s 3ms/step - loss: -51102.0469 - accuracy: 0.5739\n",
            "Epoch 70/100\n",
            "9/9 [==============================] - 0s 3ms/step - loss: -56544.1914 - accuracy: 0.5739\n",
            "Epoch 71/100\n",
            "9/9 [==============================] - 0s 3ms/step - loss: -62611.2461 - accuracy: 0.5739\n",
            "Epoch 72/100\n",
            "9/9 [==============================] - 0s 4ms/step - loss: -69025.5547 - accuracy: 0.5739\n",
            "Epoch 73/100\n",
            "9/9 [==============================] - 0s 3ms/step - loss: -76226.4531 - accuracy: 0.5739\n",
            "Epoch 74/100\n",
            "9/9 [==============================] - 0s 4ms/step - loss: -83932.9922 - accuracy: 0.5739\n",
            "Epoch 75/100\n",
            "9/9 [==============================] - 0s 3ms/step - loss: -92274.6641 - accuracy: 0.5739\n",
            "Epoch 76/100\n",
            "9/9 [==============================] - 0s 3ms/step - loss: -101439.0469 - accuracy: 0.5739\n",
            "Epoch 77/100\n",
            "9/9 [==============================] - 0s 3ms/step - loss: -111691.1328 - accuracy: 0.5739\n",
            "Epoch 78/100\n",
            "9/9 [==============================] - 0s 5ms/step - loss: -122445.2969 - accuracy: 0.5739\n",
            "Epoch 79/100\n",
            "9/9 [==============================] - 0s 4ms/step - loss: -134364.2344 - accuracy: 0.5739\n",
            "Epoch 80/100\n",
            "9/9 [==============================] - 0s 3ms/step - loss: -147395.0781 - accuracy: 0.5739\n",
            "Epoch 81/100\n",
            "9/9 [==============================] - 0s 4ms/step - loss: -161108.7969 - accuracy: 0.5739\n",
            "Epoch 82/100\n",
            "9/9 [==============================] - 0s 4ms/step - loss: -176069.9844 - accuracy: 0.5739\n",
            "Epoch 83/100\n",
            "9/9 [==============================] - 0s 3ms/step - loss: -192819.7344 - accuracy: 0.5739\n",
            "Epoch 84/100\n",
            "9/9 [==============================] - 0s 6ms/step - loss: -209976.0469 - accuracy: 0.5739\n",
            "Epoch 85/100\n",
            "9/9 [==============================] - 0s 11ms/step - loss: -228570.8281 - accuracy: 0.5739\n",
            "Epoch 86/100\n",
            "9/9 [==============================] - 0s 11ms/step - loss: -248282.8125 - accuracy: 0.5739\n",
            "Epoch 87/100\n",
            "9/9 [==============================] - 0s 9ms/step - loss: -268960.7812 - accuracy: 0.5739\n",
            "Epoch 88/100\n",
            "9/9 [==============================] - 0s 8ms/step - loss: -290539.5000 - accuracy: 0.5739\n",
            "Epoch 89/100\n",
            "9/9 [==============================] - 0s 11ms/step - loss: -314699.0312 - accuracy: 0.5739\n",
            "Epoch 90/100\n",
            "9/9 [==============================] - 0s 12ms/step - loss: -340161.2500 - accuracy: 0.5739\n",
            "Epoch 91/100\n",
            "9/9 [==============================] - 0s 13ms/step - loss: -366953.8750 - accuracy: 0.5739\n",
            "Epoch 92/100\n",
            "9/9 [==============================] - 0s 5ms/step - loss: -397890.7500 - accuracy: 0.5739\n",
            "Epoch 93/100\n",
            "9/9 [==============================] - 0s 5ms/step - loss: -431688.5312 - accuracy: 0.5739\n",
            "Epoch 94/100\n",
            "9/9 [==============================] - 0s 9ms/step - loss: -468307.4375 - accuracy: 0.5739\n",
            "Epoch 95/100\n",
            "9/9 [==============================] - 0s 6ms/step - loss: -506237.3438 - accuracy: 0.5739\n",
            "Epoch 96/100\n",
            "9/9 [==============================] - 0s 9ms/step - loss: -545409.8125 - accuracy: 0.5739\n",
            "Epoch 97/100\n",
            "9/9 [==============================] - 0s 6ms/step - loss: -587979.4375 - accuracy: 0.5739\n",
            "Epoch 98/100\n",
            "9/9 [==============================] - 0s 4ms/step - loss: -634625.9375 - accuracy: 0.5739\n",
            "Epoch 99/100\n",
            "9/9 [==============================] - 0s 3ms/step - loss: -684103.1875 - accuracy: 0.5739\n",
            "Epoch 100/100\n",
            "9/9 [==============================] - 0s 3ms/step - loss: -739569.4375 - accuracy: 0.5739\n",
            "9/9 [==============================] - 0s 3ms/step - loss: -772838.1250 - accuracy: 0.5739\n",
            "ANN Model Accuracy: \n",
            "57.39436745643616 %\n"
          ]
        }
      ]
    },
    {
      "cell_type": "markdown",
      "source": [
        "Additional reshaping for CNN and LSTM"
      ],
      "metadata": {
        "id": "LOOxXJBFU5NZ"
      }
    },
    {
      "cell_type": "code",
      "source": [
        "x_train = np.random.uniform(0,1, (7000,10))\n",
        "y_train = np.random.randint(0,2, 7000)\n",
        "\n",
        "x_train = np.expand_dims(x_train, axis=1)\n",
        "x_test = np.expand_dims(x_test, axis=1)"
      ],
      "metadata": {
        "id": "7STiuWt_U5qs"
      },
      "execution_count": 92,
      "outputs": []
    },
    {
      "cell_type": "markdown",
      "source": [
        "Convolutional Neural Networks"
      ],
      "metadata": {
        "id": "L_l8ApjtU9rm"
      }
    },
    {
      "cell_type": "code",
      "source": [
        "inp = Input(shape=(1,10))\n",
        "conv2 = Conv1D(filters=128, kernel_size=5, activation='relu', padding='same')(inp)\n",
        "drop21 = Dropout(0.5)(conv2)\n",
        "conv22 = Conv1D(filters=64, kernel_size=5, activation='relu', padding='same')(drop21)\n",
        "drop22 = Dropout(0.5)(conv22)\n",
        "pool2 = Flatten()(drop22)\n",
        "out = Dense(2, activation='softmax')(pool2)\n",
        "cnn_model = Model(inp, out)\n",
        "cnn_model.compile(loss='sparse_categorical_crossentropy', optimizer='adam', metrics=['accuracy'])\n",
        "history = cnn_model.fit(x_train, y_train, epochs=100)\n",
        "acc= cnn_model.evaluate(x_train, y_train)\n",
        "print(\"CNN Model Accuracy: \")\n",
        "cnn_acc=acc[1]\n",
        "print(cnn_acc*100,\"%\")"
      ],
      "metadata": {
        "id": "t55ATz1-U-Dy",
        "colab": {
          "base_uri": "https://localhost:8080/"
        },
        "outputId": "bbb6214d-e36c-4495-f493-9a913d9e84cc"
      },
      "execution_count": 93,
      "outputs": [
        {
          "output_type": "stream",
          "name": "stdout",
          "text": [
            "Epoch 1/100\n",
            "219/219 [==============================] - 1s 4ms/step - loss: 0.6949 - accuracy: 0.4973\n",
            "Epoch 2/100\n",
            "219/219 [==============================] - 1s 4ms/step - loss: 0.6941 - accuracy: 0.4966\n",
            "Epoch 3/100\n",
            "219/219 [==============================] - 1s 4ms/step - loss: 0.6938 - accuracy: 0.4953\n",
            "Epoch 4/100\n",
            "219/219 [==============================] - 1s 4ms/step - loss: 0.6936 - accuracy: 0.4996\n",
            "Epoch 5/100\n",
            "219/219 [==============================] - 1s 4ms/step - loss: 0.6932 - accuracy: 0.5047\n",
            "Epoch 6/100\n",
            "219/219 [==============================] - 1s 4ms/step - loss: 0.6932 - accuracy: 0.5089\n",
            "Epoch 7/100\n",
            "219/219 [==============================] - 1s 4ms/step - loss: 0.6932 - accuracy: 0.5003\n",
            "Epoch 8/100\n",
            "219/219 [==============================] - 1s 4ms/step - loss: 0.6932 - accuracy: 0.5061\n",
            "Epoch 9/100\n",
            "219/219 [==============================] - 1s 4ms/step - loss: 0.6934 - accuracy: 0.5043\n",
            "Epoch 10/100\n",
            "219/219 [==============================] - 1s 3ms/step - loss: 0.6930 - accuracy: 0.5039\n",
            "Epoch 11/100\n",
            "219/219 [==============================] - 1s 3ms/step - loss: 0.6931 - accuracy: 0.5053\n",
            "Epoch 12/100\n",
            "219/219 [==============================] - 1s 4ms/step - loss: 0.6931 - accuracy: 0.5121\n",
            "Epoch 13/100\n",
            "219/219 [==============================] - 1s 4ms/step - loss: 0.6931 - accuracy: 0.5081\n",
            "Epoch 14/100\n",
            "219/219 [==============================] - 1s 3ms/step - loss: 0.6931 - accuracy: 0.5051\n",
            "Epoch 15/100\n",
            "219/219 [==============================] - 1s 3ms/step - loss: 0.6928 - accuracy: 0.5116\n",
            "Epoch 16/100\n",
            "219/219 [==============================] - 1s 3ms/step - loss: 0.6928 - accuracy: 0.5070\n",
            "Epoch 17/100\n",
            "219/219 [==============================] - 1s 3ms/step - loss: 0.6932 - accuracy: 0.5043\n",
            "Epoch 18/100\n",
            "219/219 [==============================] - 1s 3ms/step - loss: 0.6929 - accuracy: 0.5074\n",
            "Epoch 19/100\n",
            "219/219 [==============================] - 1s 3ms/step - loss: 0.6926 - accuracy: 0.5076\n",
            "Epoch 20/100\n",
            "219/219 [==============================] - 1s 4ms/step - loss: 0.6927 - accuracy: 0.5069\n",
            "Epoch 21/100\n",
            "219/219 [==============================] - 1s 4ms/step - loss: 0.6920 - accuracy: 0.5199\n",
            "Epoch 22/100\n",
            "219/219 [==============================] - 1s 3ms/step - loss: 0.6920 - accuracy: 0.5167\n",
            "Epoch 23/100\n",
            "219/219 [==============================] - 1s 3ms/step - loss: 0.6921 - accuracy: 0.5163\n",
            "Epoch 24/100\n",
            "219/219 [==============================] - 1s 4ms/step - loss: 0.6928 - accuracy: 0.5069\n",
            "Epoch 25/100\n",
            "219/219 [==============================] - 1s 3ms/step - loss: 0.6922 - accuracy: 0.5269\n",
            "Epoch 26/100\n",
            "219/219 [==============================] - 1s 4ms/step - loss: 0.6923 - accuracy: 0.5099\n",
            "Epoch 27/100\n",
            "219/219 [==============================] - 1s 4ms/step - loss: 0.6924 - accuracy: 0.5099\n",
            "Epoch 28/100\n",
            "219/219 [==============================] - 1s 4ms/step - loss: 0.6914 - accuracy: 0.5223\n",
            "Epoch 29/100\n",
            "219/219 [==============================] - 1s 3ms/step - loss: 0.6930 - accuracy: 0.5133\n",
            "Epoch 30/100\n",
            "219/219 [==============================] - 1s 3ms/step - loss: 0.6921 - accuracy: 0.5113\n",
            "Epoch 31/100\n",
            "219/219 [==============================] - 1s 3ms/step - loss: 0.6921 - accuracy: 0.5141\n",
            "Epoch 32/100\n",
            "219/219 [==============================] - 1s 4ms/step - loss: 0.6911 - accuracy: 0.5183\n",
            "Epoch 33/100\n",
            "219/219 [==============================] - 1s 4ms/step - loss: 0.6919 - accuracy: 0.5213\n",
            "Epoch 34/100\n",
            "219/219 [==============================] - 1s 4ms/step - loss: 0.6911 - accuracy: 0.5179\n",
            "Epoch 35/100\n",
            "219/219 [==============================] - 1s 4ms/step - loss: 0.6917 - accuracy: 0.5173\n",
            "Epoch 36/100\n",
            "219/219 [==============================] - 1s 4ms/step - loss: 0.6909 - accuracy: 0.5191\n",
            "Epoch 37/100\n",
            "219/219 [==============================] - 1s 4ms/step - loss: 0.6914 - accuracy: 0.5204\n",
            "Epoch 38/100\n",
            "219/219 [==============================] - 1s 3ms/step - loss: 0.6917 - accuracy: 0.5120\n",
            "Epoch 39/100\n",
            "219/219 [==============================] - 1s 4ms/step - loss: 0.6905 - accuracy: 0.5180\n",
            "Epoch 40/100\n",
            "219/219 [==============================] - 1s 4ms/step - loss: 0.6911 - accuracy: 0.5131\n",
            "Epoch 41/100\n",
            "219/219 [==============================] - 1s 4ms/step - loss: 0.6904 - accuracy: 0.5213\n",
            "Epoch 42/100\n",
            "219/219 [==============================] - 1s 4ms/step - loss: 0.6904 - accuracy: 0.5211\n",
            "Epoch 43/100\n",
            "219/219 [==============================] - 1s 4ms/step - loss: 0.6905 - accuracy: 0.5280\n",
            "Epoch 44/100\n",
            "219/219 [==============================] - 1s 4ms/step - loss: 0.6908 - accuracy: 0.5270\n",
            "Epoch 45/100\n",
            "219/219 [==============================] - 1s 4ms/step - loss: 0.6904 - accuracy: 0.5281\n",
            "Epoch 46/100\n",
            "219/219 [==============================] - 1s 3ms/step - loss: 0.6899 - accuracy: 0.5261\n",
            "Epoch 47/100\n",
            "219/219 [==============================] - 1s 3ms/step - loss: 0.6898 - accuracy: 0.5239\n",
            "Epoch 48/100\n",
            "219/219 [==============================] - 1s 3ms/step - loss: 0.6894 - accuracy: 0.5251\n",
            "Epoch 49/100\n",
            "219/219 [==============================] - 1s 3ms/step - loss: 0.6899 - accuracy: 0.5277\n",
            "Epoch 50/100\n",
            "219/219 [==============================] - 1s 3ms/step - loss: 0.6900 - accuracy: 0.5279\n",
            "Epoch 51/100\n",
            "219/219 [==============================] - 1s 3ms/step - loss: 0.6895 - accuracy: 0.5330\n",
            "Epoch 52/100\n",
            "219/219 [==============================] - 1s 3ms/step - loss: 0.6889 - accuracy: 0.5284\n",
            "Epoch 53/100\n",
            "219/219 [==============================] - 1s 3ms/step - loss: 0.6900 - accuracy: 0.5261\n",
            "Epoch 54/100\n",
            "219/219 [==============================] - 1s 3ms/step - loss: 0.6889 - accuracy: 0.5310\n",
            "Epoch 55/100\n",
            "219/219 [==============================] - 1s 3ms/step - loss: 0.6900 - accuracy: 0.5311\n",
            "Epoch 56/100\n",
            "219/219 [==============================] - 1s 3ms/step - loss: 0.6890 - accuracy: 0.5380\n",
            "Epoch 57/100\n",
            "219/219 [==============================] - 1s 4ms/step - loss: 0.6894 - accuracy: 0.5264\n",
            "Epoch 58/100\n",
            "219/219 [==============================] - 1s 3ms/step - loss: 0.6894 - accuracy: 0.5346\n",
            "Epoch 59/100\n",
            "219/219 [==============================] - 1s 4ms/step - loss: 0.6897 - accuracy: 0.5304\n",
            "Epoch 60/100\n",
            "219/219 [==============================] - 1s 4ms/step - loss: 0.6875 - accuracy: 0.5281\n",
            "Epoch 61/100\n",
            "219/219 [==============================] - 1s 3ms/step - loss: 0.6886 - accuracy: 0.5326\n",
            "Epoch 62/100\n",
            "219/219 [==============================] - 1s 3ms/step - loss: 0.6880 - accuracy: 0.5329\n",
            "Epoch 63/100\n",
            "219/219 [==============================] - 1s 3ms/step - loss: 0.6881 - accuracy: 0.5354\n",
            "Epoch 64/100\n",
            "219/219 [==============================] - 1s 3ms/step - loss: 0.6893 - accuracy: 0.5284\n",
            "Epoch 65/100\n",
            "219/219 [==============================] - 1s 3ms/step - loss: 0.6867 - accuracy: 0.5430\n",
            "Epoch 66/100\n",
            "219/219 [==============================] - 1s 4ms/step - loss: 0.6876 - accuracy: 0.5284\n",
            "Epoch 67/100\n",
            "219/219 [==============================] - 1s 4ms/step - loss: 0.6868 - accuracy: 0.5356\n",
            "Epoch 68/100\n",
            "219/219 [==============================] - 1s 4ms/step - loss: 0.6874 - accuracy: 0.5403\n",
            "Epoch 69/100\n",
            "219/219 [==============================] - 1s 3ms/step - loss: 0.6866 - accuracy: 0.5424\n",
            "Epoch 70/100\n",
            "219/219 [==============================] - 1s 4ms/step - loss: 0.6884 - accuracy: 0.5303\n",
            "Epoch 71/100\n",
            "219/219 [==============================] - 1s 3ms/step - loss: 0.6876 - accuracy: 0.5344\n",
            "Epoch 72/100\n",
            "219/219 [==============================] - 1s 4ms/step - loss: 0.6874 - accuracy: 0.5407\n",
            "Epoch 73/100\n",
            "219/219 [==============================] - 1s 3ms/step - loss: 0.6864 - accuracy: 0.5463\n",
            "Epoch 74/100\n",
            "219/219 [==============================] - 1s 4ms/step - loss: 0.6865 - accuracy: 0.5363\n",
            "Epoch 75/100\n",
            "219/219 [==============================] - 1s 3ms/step - loss: 0.6866 - accuracy: 0.5409\n",
            "Epoch 76/100\n",
            "219/219 [==============================] - 1s 3ms/step - loss: 0.6872 - accuracy: 0.5357\n",
            "Epoch 77/100\n",
            "219/219 [==============================] - 1s 3ms/step - loss: 0.6862 - accuracy: 0.5390\n",
            "Epoch 78/100\n",
            "219/219 [==============================] - 1s 4ms/step - loss: 0.6867 - accuracy: 0.5469\n",
            "Epoch 79/100\n",
            "219/219 [==============================] - 1s 3ms/step - loss: 0.6860 - accuracy: 0.5414\n",
            "Epoch 80/100\n",
            "219/219 [==============================] - 1s 3ms/step - loss: 0.6842 - accuracy: 0.5501\n",
            "Epoch 81/100\n",
            "219/219 [==============================] - 1s 4ms/step - loss: 0.6854 - accuracy: 0.5439\n",
            "Epoch 82/100\n",
            "219/219 [==============================] - 1s 4ms/step - loss: 0.6861 - accuracy: 0.5271\n",
            "Epoch 83/100\n",
            "219/219 [==============================] - 1s 4ms/step - loss: 0.6857 - accuracy: 0.5449\n",
            "Epoch 84/100\n",
            "219/219 [==============================] - 1s 3ms/step - loss: 0.6846 - accuracy: 0.5446\n",
            "Epoch 85/100\n",
            "219/219 [==============================] - 1s 3ms/step - loss: 0.6856 - accuracy: 0.5439\n",
            "Epoch 86/100\n",
            "219/219 [==============================] - 1s 3ms/step - loss: 0.6850 - accuracy: 0.5386\n",
            "Epoch 87/100\n",
            "219/219 [==============================] - 1s 3ms/step - loss: 0.6868 - accuracy: 0.5393\n",
            "Epoch 88/100\n",
            "219/219 [==============================] - 1s 4ms/step - loss: 0.6824 - accuracy: 0.5517\n",
            "Epoch 89/100\n",
            "219/219 [==============================] - 1s 4ms/step - loss: 0.6842 - accuracy: 0.5543\n",
            "Epoch 90/100\n",
            "219/219 [==============================] - 1s 3ms/step - loss: 0.6848 - accuracy: 0.5430\n",
            "Epoch 91/100\n",
            "219/219 [==============================] - 1s 3ms/step - loss: 0.6849 - accuracy: 0.5429\n",
            "Epoch 92/100\n",
            "219/219 [==============================] - 1s 3ms/step - loss: 0.6846 - accuracy: 0.5419\n",
            "Epoch 93/100\n",
            "219/219 [==============================] - 1s 3ms/step - loss: 0.6832 - accuracy: 0.5461\n",
            "Epoch 94/100\n",
            "219/219 [==============================] - 1s 3ms/step - loss: 0.6823 - accuracy: 0.5473\n",
            "Epoch 95/100\n",
            "219/219 [==============================] - 1s 3ms/step - loss: 0.6844 - accuracy: 0.5467\n",
            "Epoch 96/100\n",
            "219/219 [==============================] - 1s 4ms/step - loss: 0.6836 - accuracy: 0.5487\n",
            "Epoch 97/100\n",
            "219/219 [==============================] - 1s 4ms/step - loss: 0.6847 - accuracy: 0.5471\n",
            "Epoch 98/100\n",
            "219/219 [==============================] - 1s 4ms/step - loss: 0.6827 - accuracy: 0.5473\n",
            "Epoch 99/100\n",
            "219/219 [==============================] - 1s 4ms/step - loss: 0.6820 - accuracy: 0.5521\n",
            "Epoch 100/100\n",
            "219/219 [==============================] - 1s 4ms/step - loss: 0.6836 - accuracy: 0.5494\n",
            "219/219 [==============================] - 1s 2ms/step - loss: 0.6766 - accuracy: 0.5723\n",
            "CNN Model Accuracy: \n",
            "57.22857117652893 %\n"
          ]
        }
      ]
    },
    {
      "cell_type": "markdown",
      "source": [
        "Long Short-Term Memory RNN"
      ],
      "metadata": {
        "id": "ZPrw4VL_VD0j"
      }
    },
    {
      "cell_type": "code",
      "source": [
        "lstm_model=Sequential()\n",
        "lstm_model.add(Bidirectional(LSTM(100, return_sequences=False), input_shape=(1, 10)))\n",
        "lstm_model.add(Dropout(0.3))\n",
        "lstm_model.add(Dense(1, activation='sigmoid'))\n",
        "lstm_model.compile(loss='binary_crossentropy',optimizer='adam',metrics=['accuracy'])\n",
        "print(lstm_model.summary())\n",
        "#history = lstm_model.fit(x_train,y_train,validation_data=(x_test,y_test),epochs=20,batch_size=64)\n",
        "acc= lstm_model.evaluate(x_train, y_train)\n",
        "print(\"LSTM Model Accuracy: \")\n",
        "lstm_acc=acc[1]\n",
        "print(lstm_acc*100,\"%\")"
      ],
      "metadata": {
        "id": "UT4w2FLlVE0a",
        "colab": {
          "base_uri": "https://localhost:8080/"
        },
        "outputId": "ed27c4a4-8f3f-40de-d70a-3f89f6668cf0"
      },
      "execution_count": 94,
      "outputs": [
        {
          "output_type": "stream",
          "name": "stdout",
          "text": [
            "Model: \"sequential_2\"\n",
            "_________________________________________________________________\n",
            " Layer (type)                Output Shape              Param #   \n",
            "=================================================================\n",
            " bidirectional (Bidirectiona  (None, 200)              88800     \n",
            " l)                                                              \n",
            "                                                                 \n",
            " dropout_2 (Dropout)         (None, 200)               0         \n",
            "                                                                 \n",
            " dense_19 (Dense)            (None, 1)                 201       \n",
            "                                                                 \n",
            "=================================================================\n",
            "Total params: 89,001\n",
            "Trainable params: 89,001\n",
            "Non-trainable params: 0\n",
            "_________________________________________________________________\n",
            "None\n",
            "219/219 [==============================] - 3s 3ms/step - loss: 0.6936 - accuracy: 0.4946\n",
            "LSTM Model Accuracy: \n",
            "49.457141757011414 %\n"
          ]
        }
      ]
    },
    {
      "cell_type": "markdown",
      "source": [
        "**DL Model Evaluation**"
      ],
      "metadata": {
        "id": "DEPNuDYEWS0V"
      }
    },
    {
      "cell_type": "code",
      "source": [
        "accuracies= {\"ANN\": ann_acc, \n",
        "             \"CNN\": cnn_acc, \n",
        "             \"LSTM\": lstm_acc, \n",
        "             }\n",
        "lists = sorted(accuracies.items(), key=lambda x: x[1]*100)\n",
        "plt.figure(figsize=(10,5))\n",
        "plt.bar(*zip(*lists), color=\"aquamarine\")\n",
        "plt.title('Deep Learning Models vs Accuracy')\n",
        "plt.xlabel('Classification Models')\n",
        "plt.ylabel('Accuracy')\n",
        "plt.show()"
      ],
      "metadata": {
        "id": "z-qN7-XFWUZm",
        "colab": {
          "base_uri": "https://localhost:8080/",
          "height": 350
        },
        "outputId": "a70f992d-0342-4524-a677-84552ecc0db9"
      },
      "execution_count": 95,
      "outputs": [
        {
          "output_type": "display_data",
          "data": {
            "text/plain": [
              "<Figure size 720x360 with 1 Axes>"
            ],
            "image/png": "[encoded data removed]"
          },
          "metadata": {
            "needs_background": "light"
          }
        }
      ]
    }
  ]
}