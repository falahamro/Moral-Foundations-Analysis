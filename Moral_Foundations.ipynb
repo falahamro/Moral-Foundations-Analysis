{
  "nbformat": 4,
  "nbformat_minor": 0,
  "metadata": {
    "colab": {
      "name": "Moral Foundations.ipynb",
      "provenance": [],
      "authorship_tag": "ABX9TyMpoIwNG91g34dCP6iJTjXa",
      "include_colab_link": true
    },
    "kernelspec": {
      "name": "python3",
      "display_name": "Python 3"
    },
    "language_info": {
      "name": "python"
    }
  },
  "cells": [
    {
      "cell_type": "markdown",
      "metadata": {
        "id": "view-in-github",
        "colab_type": "text"
      },
      "source": [
        "<a href=\"https://colab.research.google.com/github/falahamro/Moral-Foundations-Analysis/blob/main/Moral_Foundations.ipynb\" target=\"_parent\"><img src=\"https://colab.research.google.com/assets/colab-badge.svg\" alt=\"Open In Colab\"/></a>"
      ]
    },
    {
      "cell_type": "markdown",
      "source": [
        "Import Required Libraries"
      ],
      "metadata": {
        "id": "cVWXnKEaYSWf"
      }
    },
    {
      "cell_type": "code",
      "execution_count": null,
      "metadata": {
        "id": "-xG6Ne1VwM7g"
      },
      "outputs": [],
      "source": [
        "import pandas as pd\n",
        "import numpy as np\n",
        "import sklearn\n",
        "import matplotlib.pyplot as plt\n",
        "import seaborn as sns\n",
        "import tensorflow as tf\n",
        "from sklearn import preprocessing\n",
        "from sklearn.preprocessing import LabelEncoder\n",
        "from sklearn.model_selection import train_test_split\n",
        "from sklearn.feature_extraction.text import CountVectorizer\n",
        "from tensorflow.keras.layers import *\n",
        "from tensorflow.keras.models import *\n",
        "from tensorflow.keras.preprocessing.sequence import pad_sequences\n",
        "from tensorflow.keras.preprocessing.text import one_hot\n",
        "from sklearn.linear_model import LogisticRegression\n",
        "from sklearn.naive_bayes import GaussianNB\n",
        "from sklearn.linear_model import SGDClassifier\n",
        "from sklearn.neighbors import KNeighborsClassifier\n",
        "from sklearn.tree import DecisionTreeClassifier\n",
        "from sklearn.ensemble import RandomForestClassifier\n",
        "from sklearn.svm import SVC \n",
        "from sklearn.metrics import confusion_matrix, accuracy_score, precision_score, recall_score, f1_score, classification_report\n",
        "from sklearn.preprocessing import StandardScaler\n",
        "import warnings\n",
        "warnings.filterwarnings('ignore')"
      ]
    },
    {
      "cell_type": "code",
      "source": [
        "from google.colab import drive\n",
        "drive.mount('/content/drive')"
      ],
      "metadata": {
        "colab": {
          "base_uri": "https://localhost:8080/"
        },
        "id": "SeWpt_xly5tV",
        "outputId": "82db50e9-ce9f-4664-fe67-1aea5f64777b"
      },
      "execution_count": null,
      "outputs": [
        {
          "output_type": "stream",
          "name": "stdout",
          "text": [
            "Drive already mounted at /content/drive; to attempt to forcibly remount, call drive.mount(\"/content/drive\", force_remount=True).\n"
          ]
        }
      ]
    },
    {
      "cell_type": "code",
      "source": [
        "data = pd.read_csv(\"/content/drive/MyDrive/Colab Notebooks/Moral Foundations Application/Moral Foundations Theory Dataset/stats170_capstone_MFT_twitter_project-master/data/cleaned_scores_final.csv\")\n",
        "data"
      ],
      "metadata": {
        "colab": {
          "base_uri": "https://localhost:8080/",
          "height": 424
        },
        "id": "UUxQRuZRzBNd",
        "outputId": "cc0f7e63-a6d4-4ead-da01-19b17272953e"
      },
      "execution_count": null,
      "outputs": [
        {
          "output_type": "execute_result",
          "data": {
            "text/plain": [
              "            mtkid  Harm  Fairness  Loyalty  Authority  Purity  ICS_score  \\\n",
              "0    aA3L0DCUXU11    20        20       12         19      18          4   \n",
              "1    aA3I40B0FU11    18        25       23         17       5          7   \n",
              "2    aA2MCRVU8U11    14        23       14         19      19          9   \n",
              "3    aA1PJUYJ7U11    22        25       12         16      12         -6   \n",
              "4    aA1KZ21TSU11    26        27       16         22      28          1   \n",
              "..            ...   ...       ...      ...        ...     ...        ...   \n",
              "401  aA2VNK2H6U11    22        20       22         26      27          9   \n",
              "402  aA3EYWJCIU11    24        20       15          8       8        -12   \n",
              "403  aA27VBVMMU11    21        22       19         21      19         -3   \n",
              "404  aA39KKGT1U11    29        20        8         12       4         -8   \n",
              "405    aabc123U11    28        26       11          5       3         -8   \n",
              "\n",
              "     Political Involvement Political Leaning  \n",
              "0                        5      conservative  \n",
              "1                        8      conservative  \n",
              "2                        1      conservative  \n",
              "3                        5          slightly  \n",
              "4                        3          slightly  \n",
              "..                     ...               ...  \n",
              "401                      0      conservative  \n",
              "402                      5           liberal  \n",
              "403                      0           liberal  \n",
              "404                      1           liberal  \n",
              "405                     -1           liberal  \n",
              "\n",
              "[406 rows x 9 columns]"
            ],
            "text/html": [
              "\n",
              "  <div id=\"df-9506db7d-c991-48c4-a0a6-f91151860bed\">\n",
              "    <div class=\"colab-df-container\">\n",
              "      <div>\n",
              "<style scoped>\n",
              "    .dataframe tbody tr th:only-of-type {\n",
              "        vertical-align: middle;\n",
              "    }\n",
              "\n",
              "    .dataframe tbody tr th {\n",
              "        vertical-align: top;\n",
              "    }\n",
              "\n",
              "    .dataframe thead th {\n",
              "        text-align: right;\n",
              "    }\n",
              "</style>\n",
              "<table border=\"1\" class=\"dataframe\">\n",
              "  <thead>\n",
              "    <tr style=\"text-align: right;\">\n",
              "      <th></th>\n",
              "      <th>mtkid</th>\n",
              "      <th>Harm</th>\n",
              "      <th>Fairness</th>\n",
              "      <th>Loyalty</th>\n",
              "      <th>Authority</th>\n",
              "      <th>Purity</th>\n",
              "      <th>ICS_score</th>\n",
              "      <th>Political Involvement</th>\n",
              "      <th>Political Leaning</th>\n",
              "    </tr>\n",
              "  </thead>\n",
              "  <tbody>\n",
              "    <tr>\n",
              "      <th>0</th>\n",
              "      <td>aA3L0DCUXU11</td>\n",
              "      <td>20</td>\n",
              "      <td>20</td>\n",
              "      <td>12</td>\n",
              "      <td>19</td>\n",
              "      <td>18</td>\n",
              "      <td>4</td>\n",
              "      <td>5</td>\n",
              "      <td>conservative</td>\n",
              "    </tr>\n",
              "    <tr>\n",
              "      <th>1</th>\n",
              "      <td>aA3I40B0FU11</td>\n",
              "      <td>18</td>\n",
              "      <td>25</td>\n",
              "      <td>23</td>\n",
              "      <td>17</td>\n",
              "      <td>5</td>\n",
              "      <td>7</td>\n",
              "      <td>8</td>\n",
              "      <td>conservative</td>\n",
              "    </tr>\n",
              "    <tr>\n",
              "      <th>2</th>\n",
              "      <td>aA2MCRVU8U11</td>\n",
              "      <td>14</td>\n",
              "      <td>23</td>\n",
              "      <td>14</td>\n",
              "      <td>19</td>\n",
              "      <td>19</td>\n",
              "      <td>9</td>\n",
              "      <td>1</td>\n",
              "      <td>conservative</td>\n",
              "    </tr>\n",
              "    <tr>\n",
              "      <th>3</th>\n",
              "      <td>aA1PJUYJ7U11</td>\n",
              "      <td>22</td>\n",
              "      <td>25</td>\n",
              "      <td>12</td>\n",
              "      <td>16</td>\n",
              "      <td>12</td>\n",
              "      <td>-6</td>\n",
              "      <td>5</td>\n",
              "      <td>slightly</td>\n",
              "    </tr>\n",
              "    <tr>\n",
              "      <th>4</th>\n",
              "      <td>aA1KZ21TSU11</td>\n",
              "      <td>26</td>\n",
              "      <td>27</td>\n",
              "      <td>16</td>\n",
              "      <td>22</td>\n",
              "      <td>28</td>\n",
              "      <td>1</td>\n",
              "      <td>3</td>\n",
              "      <td>slightly</td>\n",
              "    </tr>\n",
              "    <tr>\n",
              "      <th>...</th>\n",
              "      <td>...</td>\n",
              "      <td>...</td>\n",
              "      <td>...</td>\n",
              "      <td>...</td>\n",
              "      <td>...</td>\n",
              "      <td>...</td>\n",
              "      <td>...</td>\n",
              "      <td>...</td>\n",
              "      <td>...</td>\n",
              "    </tr>\n",
              "    <tr>\n",
              "      <th>401</th>\n",
              "      <td>aA2VNK2H6U11</td>\n",
              "      <td>22</td>\n",
              "      <td>20</td>\n",
              "      <td>22</td>\n",
              "      <td>26</td>\n",
              "      <td>27</td>\n",
              "      <td>9</td>\n",
              "      <td>0</td>\n",
              "      <td>conservative</td>\n",
              "    </tr>\n",
              "    <tr>\n",
              "      <th>402</th>\n",
              "      <td>aA3EYWJCIU11</td>\n",
              "      <td>24</td>\n",
              "      <td>20</td>\n",
              "      <td>15</td>\n",
              "      <td>8</td>\n",
              "      <td>8</td>\n",
              "      <td>-12</td>\n",
              "      <td>5</td>\n",
              "      <td>liberal</td>\n",
              "    </tr>\n",
              "    <tr>\n",
              "      <th>403</th>\n",
              "      <td>aA27VBVMMU11</td>\n",
              "      <td>21</td>\n",
              "      <td>22</td>\n",
              "      <td>19</td>\n",
              "      <td>21</td>\n",
              "      <td>19</td>\n",
              "      <td>-3</td>\n",
              "      <td>0</td>\n",
              "      <td>liberal</td>\n",
              "    </tr>\n",
              "    <tr>\n",
              "      <th>404</th>\n",
              "      <td>aA39KKGT1U11</td>\n",
              "      <td>29</td>\n",
              "      <td>20</td>\n",
              "      <td>8</td>\n",
              "      <td>12</td>\n",
              "      <td>4</td>\n",
              "      <td>-8</td>\n",
              "      <td>1</td>\n",
              "      <td>liberal</td>\n",
              "    </tr>\n",
              "    <tr>\n",
              "      <th>405</th>\n",
              "      <td>aabc123U11</td>\n",
              "      <td>28</td>\n",
              "      <td>26</td>\n",
              "      <td>11</td>\n",
              "      <td>5</td>\n",
              "      <td>3</td>\n",
              "      <td>-8</td>\n",
              "      <td>-1</td>\n",
              "      <td>liberal</td>\n",
              "    </tr>\n",
              "  </tbody>\n",
              "</table>\n",
              "<p>406 rows × 9 columns</p>\n",
              "</div>\n",
              "      <button class=\"colab-df-convert\" onclick=\"convertToInteractive('df-9506db7d-c991-48c4-a0a6-f91151860bed')\"\n",
              "              title=\"Convert this dataframe to an interactive table.\"\n",
              "              style=\"display:none;\">\n",
              "        \n",
              "  <svg xmlns=\"http://www.w3.org/2000/svg\" height=\"24px\"viewBox=\"0 0 24 24\"\n",
              "       width=\"24px\">\n",
              "    <path d=\"M0 0h24v24H0V0z\" fill=\"none\"/>\n",
              "    <path d=\"M18.56 5.44l.94 2.06.94-2.06 2.06-.94-2.06-.94-.94-2.06-.94 2.06-2.06.94zm-11 1L8.5 8.5l.94-2.06 2.06-.94-2.06-.94L8.5 2.5l-.94 2.06-2.06.94zm10 10l.94 2.06.94-2.06 2.06-.94-2.06-.94-.94-2.06-.94 2.06-2.06.94z\"/><path d=\"M17.41 7.96l-1.37-1.37c-.4-.4-.92-.59-1.43-.59-.52 0-1.04.2-1.43.59L10.3 9.45l-7.72 7.72c-.78.78-.78 2.05 0 2.83L4 21.41c.39.39.9.59 1.41.59.51 0 1.02-.2 1.41-.59l7.78-7.78 2.81-2.81c.8-.78.8-2.07 0-2.86zM5.41 20L4 18.59l7.72-7.72 1.47 1.35L5.41 20z\"/>\n",
              "  </svg>\n",
              "      </button>\n",
              "      \n",
              "  <style>\n",
              "    .colab-df-container {\n",
              "      display:flex;\n",
              "      flex-wrap:wrap;\n",
              "      gap: 12px;\n",
              "    }\n",
              "\n",
              "    .colab-df-convert {\n",
              "      background-color: #E8F0FE;\n",
              "      border: none;\n",
              "      border-radius: 50%;\n",
              "      cursor: pointer;\n",
              "      display: none;\n",
              "      fill: #1967D2;\n",
              "      height: 32px;\n",
              "      padding: 0 0 0 0;\n",
              "      width: 32px;\n",
              "    }\n",
              "\n",
              "    .colab-df-convert:hover {\n",
              "      background-color: #E2EBFA;\n",
              "      box-shadow: 0px 1px 2px rgba(60, 64, 67, 0.3), 0px 1px 3px 1px rgba(60, 64, 67, 0.15);\n",
              "      fill: #174EA6;\n",
              "    }\n",
              "\n",
              "    [theme=dark] .colab-df-convert {\n",
              "      background-color: #3B4455;\n",
              "      fill: #D2E3FC;\n",
              "    }\n",
              "\n",
              "    [theme=dark] .colab-df-convert:hover {\n",
              "      background-color: #434B5C;\n",
              "      box-shadow: 0px 1px 3px 1px rgba(0, 0, 0, 0.15);\n",
              "      filter: drop-shadow(0px 1px 2px rgba(0, 0, 0, 0.3));\n",
              "      fill: #FFFFFF;\n",
              "    }\n",
              "  </style>\n",
              "\n",
              "      <script>\n",
              "        const buttonEl =\n",
              "          document.querySelector('#df-9506db7d-c991-48c4-a0a6-f91151860bed button.colab-df-convert');\n",
              "        buttonEl.style.display =\n",
              "          google.colab.kernel.accessAllowed ? 'block' : 'none';\n",
              "\n",
              "        async function convertToInteractive(key) {\n",
              "          const element = document.querySelector('#df-9506db7d-c991-48c4-a0a6-f91151860bed');\n",
              "          const dataTable =\n",
              "            await google.colab.kernel.invokeFunction('convertToInteractive',\n",
              "                                                     [key], {});\n",
              "          if (!dataTable) return;\n",
              "\n",
              "          const docLinkHtml = 'Like what you see? Visit the ' +\n",
              "            '<a target=\"_blank\" href=https://colab.research.google.com/notebooks/data_table.ipynb>data table notebook</a>'\n",
              "            + ' to learn more about interactive tables.';\n",
              "          element.innerHTML = '';\n",
              "          dataTable['output_type'] = 'display_data';\n",
              "          await google.colab.output.renderOutput(dataTable, element);\n",
              "          const docLink = document.createElement('div');\n",
              "          docLink.innerHTML = docLinkHtml;\n",
              "          element.appendChild(docLink);\n",
              "        }\n",
              "      </script>\n",
              "    </div>\n",
              "  </div>\n",
              "  "
            ]
          },
          "metadata": {},
          "execution_count": 3
        }
      ]
    },
    {
      "cell_type": "code",
      "source": [
        "data.info()"
      ],
      "metadata": {
        "colab": {
          "base_uri": "https://localhost:8080/"
        },
        "id": "Yh5DYuqr6It9",
        "outputId": "c2a5432e-2469-4e21-b09e-5b0bffacded2"
      },
      "execution_count": null,
      "outputs": [
        {
          "output_type": "stream",
          "name": "stdout",
          "text": [
            "<class 'pandas.core.frame.DataFrame'>\n",
            "RangeIndex: 406 entries, 0 to 405\n",
            "Data columns (total 9 columns):\n",
            " #   Column                 Non-Null Count  Dtype \n",
            "---  ------                 --------------  ----- \n",
            " 0   mtkid                  406 non-null    object\n",
            " 1   Harm                   406 non-null    int64 \n",
            " 2   Fairness               406 non-null    int64 \n",
            " 3   Loyalty                406 non-null    int64 \n",
            " 4   Authority              406 non-null    int64 \n",
            " 5   Purity                 406 non-null    int64 \n",
            " 6   ICS_score              406 non-null    int64 \n",
            " 7   Political Involvement  406 non-null    int64 \n",
            " 8   Political Leaning      406 non-null    object\n",
            "dtypes: int64(7), object(2)\n",
            "memory usage: 28.7+ KB\n"
          ]
        }
      ]
    },
    {
      "cell_type": "code",
      "source": [
        "data.isnull().sum()"
      ],
      "metadata": {
        "colab": {
          "base_uri": "https://localhost:8080/"
        },
        "id": "so7PkjLZ6LiJ",
        "outputId": "fd894f16-f6f9-4267-f283-f5a63c878609"
      },
      "execution_count": null,
      "outputs": [
        {
          "output_type": "execute_result",
          "data": {
            "text/plain": [
              "mtkid                    0\n",
              "Harm                     0\n",
              "Fairness                 0\n",
              "Loyalty                  0\n",
              "Authority                0\n",
              "Purity                   0\n",
              "ICS_score                0\n",
              "Political Involvement    0\n",
              "Political Leaning        0\n",
              "dtype: int64"
            ]
          },
          "metadata": {},
          "execution_count": 5
        }
      ]
    },
    {
      "cell_type": "code",
      "source": [
        "# num_cols that contain numerical variables\n",
        "\n",
        "num_cols = ['Harm', 'Fairness', 'Loyalty', 'Authority', 'Purity',\n",
        "       'ICS_score', 'Political Involvement']"
      ],
      "metadata": {
        "id": "GhfjPp8I6SHs"
      },
      "execution_count": null,
      "outputs": []
    },
    {
      "cell_type": "code",
      "source": [
        "# print the descriptive stats of numerical variables\n",
        "\n",
        "data[num_cols].describe().T"
      ],
      "metadata": {
        "colab": {
          "base_uri": "https://localhost:8080/",
          "height": 269
        },
        "id": "yIy62WUq63vS",
        "outputId": "5c71970a-2609-4425-de43-316eea920ba6"
      },
      "execution_count": null,
      "outputs": [
        {
          "output_type": "execute_result",
          "data": {
            "text/plain": [
              "                       count       mean       std   min   25%   50%   75%  \\\n",
              "Harm                   406.0  22.463054  5.636509  -1.0  19.0  23.0  27.0   \n",
              "Fairness               406.0  22.509852  4.882688   2.0  20.0  23.0  26.0   \n",
              "Loyalty                406.0  13.758621  6.232599  -2.0   9.0  14.0  18.0   \n",
              "Authority              406.0  16.027094  6.759119  -1.0  12.0  17.0  21.0   \n",
              "Purity                 406.0  12.669951  8.423039  -3.0   6.0  13.0  19.0   \n",
              "ICS_score              406.0  -4.177340  5.824434 -13.0  -9.0  -6.0   0.0   \n",
              "Political Involvement  406.0   2.975369  2.774555  -2.0   1.0   3.0   5.0   \n",
              "\n",
              "                        max  \n",
              "Harm                   33.0  \n",
              "Fairness               32.0  \n",
              "Loyalty                31.0  \n",
              "Authority              33.0  \n",
              "Purity                 32.0  \n",
              "ICS_score              13.0  \n",
              "Political Involvement  10.0  "
            ],
            "text/html": [
              "\n",
              "  <div id=\"df-53c67f83-a022-45d5-9b10-1f5477749ae7\">\n",
              "    <div class=\"colab-df-container\">\n",
              "      <div>\n",
              "<style scoped>\n",
              "    .dataframe tbody tr th:only-of-type {\n",
              "        vertical-align: middle;\n",
              "    }\n",
              "\n",
              "    .dataframe tbody tr th {\n",
              "        vertical-align: top;\n",
              "    }\n",
              "\n",
              "    .dataframe thead th {\n",
              "        text-align: right;\n",
              "    }\n",
              "</style>\n",
              "<table border=\"1\" class=\"dataframe\">\n",
              "  <thead>\n",
              "    <tr style=\"text-align: right;\">\n",
              "      <th></th>\n",
              "      <th>count</th>\n",
              "      <th>mean</th>\n",
              "      <th>std</th>\n",
              "      <th>min</th>\n",
              "      <th>25%</th>\n",
              "      <th>50%</th>\n",
              "      <th>75%</th>\n",
              "      <th>max</th>\n",
              "    </tr>\n",
              "  </thead>\n",
              "  <tbody>\n",
              "    <tr>\n",
              "      <th>Harm</th>\n",
              "      <td>406.0</td>\n",
              "      <td>22.463054</td>\n",
              "      <td>5.636509</td>\n",
              "      <td>-1.0</td>\n",
              "      <td>19.0</td>\n",
              "      <td>23.0</td>\n",
              "      <td>27.0</td>\n",
              "      <td>33.0</td>\n",
              "    </tr>\n",
              "    <tr>\n",
              "      <th>Fairness</th>\n",
              "      <td>406.0</td>\n",
              "      <td>22.509852</td>\n",
              "      <td>4.882688</td>\n",
              "      <td>2.0</td>\n",
              "      <td>20.0</td>\n",
              "      <td>23.0</td>\n",
              "      <td>26.0</td>\n",
              "      <td>32.0</td>\n",
              "    </tr>\n",
              "    <tr>\n",
              "      <th>Loyalty</th>\n",
              "      <td>406.0</td>\n",
              "      <td>13.758621</td>\n",
              "      <td>6.232599</td>\n",
              "      <td>-2.0</td>\n",
              "      <td>9.0</td>\n",
              "      <td>14.0</td>\n",
              "      <td>18.0</td>\n",
              "      <td>31.0</td>\n",
              "    </tr>\n",
              "    <tr>\n",
              "      <th>Authority</th>\n",
              "      <td>406.0</td>\n",
              "      <td>16.027094</td>\n",
              "      <td>6.759119</td>\n",
              "      <td>-1.0</td>\n",
              "      <td>12.0</td>\n",
              "      <td>17.0</td>\n",
              "      <td>21.0</td>\n",
              "      <td>33.0</td>\n",
              "    </tr>\n",
              "    <tr>\n",
              "      <th>Purity</th>\n",
              "      <td>406.0</td>\n",
              "      <td>12.669951</td>\n",
              "      <td>8.423039</td>\n",
              "      <td>-3.0</td>\n",
              "      <td>6.0</td>\n",
              "      <td>13.0</td>\n",
              "      <td>19.0</td>\n",
              "      <td>32.0</td>\n",
              "    </tr>\n",
              "    <tr>\n",
              "      <th>ICS_score</th>\n",
              "      <td>406.0</td>\n",
              "      <td>-4.177340</td>\n",
              "      <td>5.824434</td>\n",
              "      <td>-13.0</td>\n",
              "      <td>-9.0</td>\n",
              "      <td>-6.0</td>\n",
              "      <td>0.0</td>\n",
              "      <td>13.0</td>\n",
              "    </tr>\n",
              "    <tr>\n",
              "      <th>Political Involvement</th>\n",
              "      <td>406.0</td>\n",
              "      <td>2.975369</td>\n",
              "      <td>2.774555</td>\n",
              "      <td>-2.0</td>\n",
              "      <td>1.0</td>\n",
              "      <td>3.0</td>\n",
              "      <td>5.0</td>\n",
              "      <td>10.0</td>\n",
              "    </tr>\n",
              "  </tbody>\n",
              "</table>\n",
              "</div>\n",
              "      <button class=\"colab-df-convert\" onclick=\"convertToInteractive('df-53c67f83-a022-45d5-9b10-1f5477749ae7')\"\n",
              "              title=\"Convert this dataframe to an interactive table.\"\n",
              "              style=\"display:none;\">\n",
              "        \n",
              "  <svg xmlns=\"http://www.w3.org/2000/svg\" height=\"24px\"viewBox=\"0 0 24 24\"\n",
              "       width=\"24px\">\n",
              "    <path d=\"M0 0h24v24H0V0z\" fill=\"none\"/>\n",
              "    <path d=\"M18.56 5.44l.94 2.06.94-2.06 2.06-.94-2.06-.94-.94-2.06-.94 2.06-2.06.94zm-11 1L8.5 8.5l.94-2.06 2.06-.94-2.06-.94L8.5 2.5l-.94 2.06-2.06.94zm10 10l.94 2.06.94-2.06 2.06-.94-2.06-.94-.94-2.06-.94 2.06-2.06.94z\"/><path d=\"M17.41 7.96l-1.37-1.37c-.4-.4-.92-.59-1.43-.59-.52 0-1.04.2-1.43.59L10.3 9.45l-7.72 7.72c-.78.78-.78 2.05 0 2.83L4 21.41c.39.39.9.59 1.41.59.51 0 1.02-.2 1.41-.59l7.78-7.78 2.81-2.81c.8-.78.8-2.07 0-2.86zM5.41 20L4 18.59l7.72-7.72 1.47 1.35L5.41 20z\"/>\n",
              "  </svg>\n",
              "      </button>\n",
              "      \n",
              "  <style>\n",
              "    .colab-df-container {\n",
              "      display:flex;\n",
              "      flex-wrap:wrap;\n",
              "      gap: 12px;\n",
              "    }\n",
              "\n",
              "    .colab-df-convert {\n",
              "      background-color: #E8F0FE;\n",
              "      border: none;\n",
              "      border-radius: 50%;\n",
              "      cursor: pointer;\n",
              "      display: none;\n",
              "      fill: #1967D2;\n",
              "      height: 32px;\n",
              "      padding: 0 0 0 0;\n",
              "      width: 32px;\n",
              "    }\n",
              "\n",
              "    .colab-df-convert:hover {\n",
              "      background-color: #E2EBFA;\n",
              "      box-shadow: 0px 1px 2px rgba(60, 64, 67, 0.3), 0px 1px 3px 1px rgba(60, 64, 67, 0.15);\n",
              "      fill: #174EA6;\n",
              "    }\n",
              "\n",
              "    [theme=dark] .colab-df-convert {\n",
              "      background-color: #3B4455;\n",
              "      fill: #D2E3FC;\n",
              "    }\n",
              "\n",
              "    [theme=dark] .colab-df-convert:hover {\n",
              "      background-color: #434B5C;\n",
              "      box-shadow: 0px 1px 3px 1px rgba(0, 0, 0, 0.15);\n",
              "      filter: drop-shadow(0px 1px 2px rgba(0, 0, 0, 0.3));\n",
              "      fill: #FFFFFF;\n",
              "    }\n",
              "  </style>\n",
              "\n",
              "      <script>\n",
              "        const buttonEl =\n",
              "          document.querySelector('#df-53c67f83-a022-45d5-9b10-1f5477749ae7 button.colab-df-convert');\n",
              "        buttonEl.style.display =\n",
              "          google.colab.kernel.accessAllowed ? 'block' : 'none';\n",
              "\n",
              "        async function convertToInteractive(key) {\n",
              "          const element = document.querySelector('#df-53c67f83-a022-45d5-9b10-1f5477749ae7');\n",
              "          const dataTable =\n",
              "            await google.colab.kernel.invokeFunction('convertToInteractive',\n",
              "                                                     [key], {});\n",
              "          if (!dataTable) return;\n",
              "\n",
              "          const docLinkHtml = 'Like what you see? Visit the ' +\n",
              "            '<a target=\"_blank\" href=https://colab.research.google.com/notebooks/data_table.ipynb>data table notebook</a>'\n",
              "            + ' to learn more about interactive tables.';\n",
              "          element.innerHTML = '';\n",
              "          dataTable['output_type'] = 'display_data';\n",
              "          await google.colab.output.renderOutput(dataTable, element);\n",
              "          const docLink = document.createElement('div');\n",
              "          docLink.innerHTML = docLinkHtml;\n",
              "          element.appendChild(docLink);\n",
              "        }\n",
              "      </script>\n",
              "    </div>\n",
              "  </div>\n",
              "  "
            ]
          },
          "metadata": {},
          "execution_count": 7
        }
      ]
    },
    {
      "cell_type": "code",
      "source": [
        "# categorical variables list\n",
        "\n",
        "cat_cols = ['Political Leaning']"
      ],
      "metadata": {
        "id": "3VdFUEKG7Awg"
      },
      "execution_count": null,
      "outputs": []
    },
    {
      "cell_type": "code",
      "source": [
        "# print the count of each unique value in each colum\n",
        "\n",
        "for column in cat_cols: \n",
        "  print(data[column].value_counts(normalize=True))\n",
        "\n",
        "  print(\"-\" * 40)"
      ],
      "metadata": {
        "colab": {
          "base_uri": "https://localhost:8080/"
        },
        "id": "gTOxRW-47O0l",
        "outputId": "94350fb6-3bcb-4a8b-bcb4-578eaf10ed72"
      },
      "execution_count": null,
      "outputs": [
        {
          "output_type": "stream",
          "name": "stdout",
          "text": [
            "liberal         0.561576\n",
            "slightly        0.295567\n",
            "conservative    0.088670\n",
            "moderate        0.054187\n",
            "Name: Political Leaning, dtype: float64\n",
            "----------------------------------------\n"
          ]
        }
      ]
    },
    {
      "cell_type": "code",
      "source": [
        "plt.figure(figsize=(15,10))\n",
        "sns.heatmap(data.corr(), annot=True, square=True, cmap=\"Blues\")\n",
        "plt.show()"
      ],
      "metadata": {
        "colab": {
          "base_uri": "https://localhost:8080/",
          "height": 596
        },
        "id": "-7NSBik6-01E",
        "outputId": "ff8b6d40-abb6-4749-f983-3b46056c3c72"
      },
      "execution_count": null,
      "outputs": [
        {
          "output_type": "display_data",
          "data": {
            "text/plain": [
              "<Figure size 1080x720 with 2 Axes>"
            ],
            "image/png": "[encoded data removed]"
          },
          "metadata": {
            "needs_background": "light"
          }
        }
      ]
    },
    {
      "cell_type": "code",
      "source": [
        "cols = data.select_dtypes(exclude='object').columns.tolist()\n",
        "\n",
        "fig, ax = plt.subplots(nrows=7,ncols=1, figsize=(7,15), constrained_layout=True)\n",
        "ax = ax.flatten()\n",
        "plt.suptitle(\"Distribution of Data\")\n",
        "\n",
        "for x, i in enumerate(cols):\n",
        "    sns.histplot(x=data[i], ax=ax[x], kde=True, color=['skyblue'])"
      ],
      "metadata": {
        "colab": {
          "base_uri": "https://localhost:8080/",
          "height": 1000
        },
        "id": "kYNHvG1I9r1s",
        "outputId": "9ccbb8df-efae-46f1-cadb-c7be9a7e9e73"
      },
      "execution_count": null,
      "outputs": [
        {
          "output_type": "display_data",
          "data": {
            "text/plain": [
              "<Figure size 504x1080 with 7 Axes>"
            ],
            "image/png": "[encoded data removed]"
          },
          "metadata": {
            "needs_background": "light"
          }
        }
      ]
    },
    {
      "cell_type": "code",
      "source": [
        "#Checking outliers\n",
        "\n",
        "cols = data.select_dtypes(exclude='object').columns.tolist()\n",
        "\n",
        "fig, ax = plt.subplots(nrows=7,ncols=1, figsize=(10,15), constrained_layout=True)\n",
        "ax = ax.flatten()\n",
        "plt.suptitle(\"Box-Plot\")\n",
        "for x, i in enumerate(cols):\n",
        "    sns.boxplot(x=data[i], ax=ax[x], palette=['skyblue'])"
      ],
      "metadata": {
        "colab": {
          "base_uri": "https://localhost:8080/",
          "height": 1000
        },
        "id": "8S-b5vnQ_cRe",
        "outputId": "841c702b-f51b-4f2a-af75-ed4053b78379"
      },
      "execution_count": null,
      "outputs": [
        {
          "output_type": "display_data",
          "data": {
            "text/plain": [
              "<Figure size 720x1080 with 7 Axes>"
            ],
            "image/png": "[encoded data removed]"
          },
          "metadata": {
            "needs_background": "light"
          }
        }
      ]
    },
    {
      "cell_type": "markdown",
      "source": [
        "**Applying Classification/Prediction Models**\n",
        "\n",
        "We will predict the political leaning as a our target feature"
      ],
      "metadata": {
        "id": "eZvacUP_CsVQ"
      }
    },
    {
      "cell_type": "code",
      "source": [
        "data.rename(columns = {'Political Leaning': 'PoliticalLeaning'}, inplace = True)\n",
        "data.rename(columns = {'Political Involvement': 'PoliticalInvolvement'}, inplace = True)"
      ],
      "metadata": {
        "id": "D1SE9-9TFIWX"
      },
      "execution_count": null,
      "outputs": []
    },
    {
      "cell_type": "code",
      "source": [
        "data.tail()"
      ],
      "metadata": {
        "colab": {
          "base_uri": "https://localhost:8080/",
          "height": 206
        },
        "id": "vTjK3tzfER1T",
        "outputId": "5a0165c7-f3d5-4953-edfd-ff297fb12567"
      },
      "execution_count": null,
      "outputs": [
        {
          "output_type": "execute_result",
          "data": {
            "text/plain": [
              "            mtkid  Harm  Fairness  Loyalty  Authority  Purity  ICS_score  \\\n",
              "401  aA2VNK2H6U11    22        20       22         26      27          9   \n",
              "402  aA3EYWJCIU11    24        20       15          8       8        -12   \n",
              "403  aA27VBVMMU11    21        22       19         21      19         -3   \n",
              "404  aA39KKGT1U11    29        20        8         12       4         -8   \n",
              "405    aabc123U11    28        26       11          5       3         -8   \n",
              "\n",
              "     PoliticalInvolvement PoliticalLeaning  \n",
              "401                     0     conservative  \n",
              "402                     5          liberal  \n",
              "403                     0          liberal  \n",
              "404                     1          liberal  \n",
              "405                    -1          liberal  "
            ],
            "text/html": [
              "\n",
              "  <div id=\"df-c69f9e47-f3af-4c9b-9f13-242b25a816bc\">\n",
              "    <div class=\"colab-df-container\">\n",
              "      <div>\n",
              "<style scoped>\n",
              "    .dataframe tbody tr th:only-of-type {\n",
              "        vertical-align: middle;\n",
              "    }\n",
              "\n",
              "    .dataframe tbody tr th {\n",
              "        vertical-align: top;\n",
              "    }\n",
              "\n",
              "    .dataframe thead th {\n",
              "        text-align: right;\n",
              "    }\n",
              "</style>\n",
              "<table border=\"1\" class=\"dataframe\">\n",
              "  <thead>\n",
              "    <tr style=\"text-align: right;\">\n",
              "      <th></th>\n",
              "      <th>mtkid</th>\n",
              "      <th>Harm</th>\n",
              "      <th>Fairness</th>\n",
              "      <th>Loyalty</th>\n",
              "      <th>Authority</th>\n",
              "      <th>Purity</th>\n",
              "      <th>ICS_score</th>\n",
              "      <th>PoliticalInvolvement</th>\n",
              "      <th>PoliticalLeaning</th>\n",
              "    </tr>\n",
              "  </thead>\n",
              "  <tbody>\n",
              "    <tr>\n",
              "      <th>401</th>\n",
              "      <td>aA2VNK2H6U11</td>\n",
              "      <td>22</td>\n",
              "      <td>20</td>\n",
              "      <td>22</td>\n",
              "      <td>26</td>\n",
              "      <td>27</td>\n",
              "      <td>9</td>\n",
              "      <td>0</td>\n",
              "      <td>conservative</td>\n",
              "    </tr>\n",
              "    <tr>\n",
              "      <th>402</th>\n",
              "      <td>aA3EYWJCIU11</td>\n",
              "      <td>24</td>\n",
              "      <td>20</td>\n",
              "      <td>15</td>\n",
              "      <td>8</td>\n",
              "      <td>8</td>\n",
              "      <td>-12</td>\n",
              "      <td>5</td>\n",
              "      <td>liberal</td>\n",
              "    </tr>\n",
              "    <tr>\n",
              "      <th>403</th>\n",
              "      <td>aA27VBVMMU11</td>\n",
              "      <td>21</td>\n",
              "      <td>22</td>\n",
              "      <td>19</td>\n",
              "      <td>21</td>\n",
              "      <td>19</td>\n",
              "      <td>-3</td>\n",
              "      <td>0</td>\n",
              "      <td>liberal</td>\n",
              "    </tr>\n",
              "    <tr>\n",
              "      <th>404</th>\n",
              "      <td>aA39KKGT1U11</td>\n",
              "      <td>29</td>\n",
              "      <td>20</td>\n",
              "      <td>8</td>\n",
              "      <td>12</td>\n",
              "      <td>4</td>\n",
              "      <td>-8</td>\n",
              "      <td>1</td>\n",
              "      <td>liberal</td>\n",
              "    </tr>\n",
              "    <tr>\n",
              "      <th>405</th>\n",
              "      <td>aabc123U11</td>\n",
              "      <td>28</td>\n",
              "      <td>26</td>\n",
              "      <td>11</td>\n",
              "      <td>5</td>\n",
              "      <td>3</td>\n",
              "      <td>-8</td>\n",
              "      <td>-1</td>\n",
              "      <td>liberal</td>\n",
              "    </tr>\n",
              "  </tbody>\n",
              "</table>\n",
              "</div>\n",
              "      <button class=\"colab-df-convert\" onclick=\"convertToInteractive('df-c69f9e47-f3af-4c9b-9f13-242b25a816bc')\"\n",
              "              title=\"Convert this dataframe to an interactive table.\"\n",
              "              style=\"display:none;\">\n",
              "        \n",
              "  <svg xmlns=\"http://www.w3.org/2000/svg\" height=\"24px\"viewBox=\"0 0 24 24\"\n",
              "       width=\"24px\">\n",
              "    <path d=\"M0 0h24v24H0V0z\" fill=\"none\"/>\n",
              "    <path d=\"M18.56 5.44l.94 2.06.94-2.06 2.06-.94-2.06-.94-.94-2.06-.94 2.06-2.06.94zm-11 1L8.5 8.5l.94-2.06 2.06-.94-2.06-.94L8.5 2.5l-.94 2.06-2.06.94zm10 10l.94 2.06.94-2.06 2.06-.94-2.06-.94-.94-2.06-.94 2.06-2.06.94z\"/><path d=\"M17.41 7.96l-1.37-1.37c-.4-.4-.92-.59-1.43-.59-.52 0-1.04.2-1.43.59L10.3 9.45l-7.72 7.72c-.78.78-.78 2.05 0 2.83L4 21.41c.39.39.9.59 1.41.59.51 0 1.02-.2 1.41-.59l7.78-7.78 2.81-2.81c.8-.78.8-2.07 0-2.86zM5.41 20L4 18.59l7.72-7.72 1.47 1.35L5.41 20z\"/>\n",
              "  </svg>\n",
              "      </button>\n",
              "      \n",
              "  <style>\n",
              "    .colab-df-container {\n",
              "      display:flex;\n",
              "      flex-wrap:wrap;\n",
              "      gap: 12px;\n",
              "    }\n",
              "\n",
              "    .colab-df-convert {\n",
              "      background-color: #E8F0FE;\n",
              "      border: none;\n",
              "      border-radius: 50%;\n",
              "      cursor: pointer;\n",
              "      display: none;\n",
              "      fill: #1967D2;\n",
              "      height: 32px;\n",
              "      padding: 0 0 0 0;\n",
              "      width: 32px;\n",
              "    }\n",
              "\n",
              "    .colab-df-convert:hover {\n",
              "      background-color: #E2EBFA;\n",
              "      box-shadow: 0px 1px 2px rgba(60, 64, 67, 0.3), 0px 1px 3px 1px rgba(60, 64, 67, 0.15);\n",
              "      fill: #174EA6;\n",
              "    }\n",
              "\n",
              "    [theme=dark] .colab-df-convert {\n",
              "      background-color: #3B4455;\n",
              "      fill: #D2E3FC;\n",
              "    }\n",
              "\n",
              "    [theme=dark] .colab-df-convert:hover {\n",
              "      background-color: #434B5C;\n",
              "      box-shadow: 0px 1px 3px 1px rgba(0, 0, 0, 0.15);\n",
              "      filter: drop-shadow(0px 1px 2px rgba(0, 0, 0, 0.3));\n",
              "      fill: #FFFFFF;\n",
              "    }\n",
              "  </style>\n",
              "\n",
              "      <script>\n",
              "        const buttonEl =\n",
              "          document.querySelector('#df-c69f9e47-f3af-4c9b-9f13-242b25a816bc button.colab-df-convert');\n",
              "        buttonEl.style.display =\n",
              "          google.colab.kernel.accessAllowed ? 'block' : 'none';\n",
              "\n",
              "        async function convertToInteractive(key) {\n",
              "          const element = document.querySelector('#df-c69f9e47-f3af-4c9b-9f13-242b25a816bc');\n",
              "          const dataTable =\n",
              "            await google.colab.kernel.invokeFunction('convertToInteractive',\n",
              "                                                     [key], {});\n",
              "          if (!dataTable) return;\n",
              "\n",
              "          const docLinkHtml = 'Like what you see? Visit the ' +\n",
              "            '<a target=\"_blank\" href=https://colab.research.google.com/notebooks/data_table.ipynb>data table notebook</a>'\n",
              "            + ' to learn more about interactive tables.';\n",
              "          element.innerHTML = '';\n",
              "          dataTable['output_type'] = 'display_data';\n",
              "          await google.colab.output.renderOutput(dataTable, element);\n",
              "          const docLink = document.createElement('div');\n",
              "          docLink.innerHTML = docLinkHtml;\n",
              "          element.appendChild(docLink);\n",
              "        }\n",
              "      </script>\n",
              "    </div>\n",
              "  </div>\n",
              "  "
            ]
          },
          "metadata": {},
          "execution_count": 14
        }
      ]
    },
    {
      "cell_type": "markdown",
      "source": [
        ""
      ],
      "metadata": {
        "id": "TeJGB1bYWFde"
      }
    },
    {
      "cell_type": "code",
      "source": [
        "fig, axarr = plt.subplots(figsize=(20, 12))\n",
        "sns.countplot(x='PoliticalInvolvement', hue = 'PoliticalLeaning',data = data)"
      ],
      "metadata": {
        "colab": {
          "base_uri": "https://localhost:8080/",
          "height": 731
        },
        "id": "_jdO3VDJHIt3",
        "outputId": "854c9edf-cc58-4196-ebc7-4d5df1c646c0"
      },
      "execution_count": null,
      "outputs": [
        {
          "output_type": "execute_result",
          "data": {
            "text/plain": [
              "<matplotlib.axes._subplots.AxesSubplot at 0x7f748fde8d10>"
            ]
          },
          "metadata": {},
          "execution_count": 17
        },
        {
          "output_type": "display_data",
          "data": {
            "text/plain": [
              "<Figure size 1440x864 with 1 Axes>"
            ],
            "image/png": "[encoded data removed]"
          },
          "metadata": {
            "needs_background": "light"
          }
        }
      ]
    },
    {
      "cell_type": "markdown",
      "source": [
        "Categorical Data"
      ],
      "metadata": {
        "id": "1qvB99sYHGxa"
      }
    },
    {
      "cell_type": "code",
      "source": [
        "# change categorical variables to numeric values\n",
        "\n",
        "data['PoliticalLeaning'].replace(['conservative', 'liberal', 'slightly', 'moderate'],\n",
        "                                 [0, 1, 2, 3], inplace=True)"
      ],
      "metadata": {
        "id": "VCgbeRy1V-ZT"
      },
      "execution_count": null,
      "outputs": []
    },
    {
      "cell_type": "code",
      "source": [
        "# Visualize our target feature\n",
        "labels = 'conservative', 'slightly', 'liberal', 'moderate'\n",
        "sizes = [data.PoliticalLeaning[data['PoliticalLeaning']==0].count(), data.PoliticalLeaning[data['PoliticalLeaning']==1].count(), data.PoliticalLeaning[data['PoliticalLeaning']==2].count(), data.PoliticalLeaning[data['PoliticalLeaning']==3].count()]\n",
        "fig1, ax1 = plt.subplots(figsize=(15, 12))\n",
        "ax1.pie(sizes, explode=(0, 0.1, 0, 0), labels=labels, autopct='%1.1f%%')\n",
        "ax1.axis('equal')\n",
        "plt.title(\"Distribution of users in Clusters\", size = 20)\n",
        "plt.show()"
      ],
      "metadata": {
        "colab": {
          "base_uri": "https://localhost:8080/",
          "height": 704
        },
        "id": "hKdxmiAOC9EZ",
        "outputId": "b6ed4f32-d7be-44ae-80b7-4d8b34640395"
      },
      "execution_count": null,
      "outputs": [
        {
          "output_type": "display_data",
          "data": {
            "text/plain": [
              "<Figure size 1080x864 with 1 Axes>"
            ],
            "image/png": "[encoded data removed]"
          },
          "metadata": {}
        }
      ]
    },
    {
      "cell_type": "markdown",
      "source": [
        "Continuous Data"
      ],
      "metadata": {
        "id": "njZ8-sWnHKT-"
      }
    },
    {
      "cell_type": "code",
      "source": [
        "fig, axarr = plt.subplots(3, 2, figsize=(20, 12))\n",
        "sns.boxplot(y='Harm',x = 'PoliticalLeaning', hue = 'PoliticalLeaning',data = data, ax=axarr[0][0])\n",
        "sns.boxplot(y='Fairness',x = 'PoliticalLeaning', hue = 'PoliticalLeaning',data = data , ax=axarr[0][1])\n",
        "sns.boxplot(y='Loyalty',x = 'PoliticalLeaning', hue = 'PoliticalLeaning',data = data, ax=axarr[1][0])\n",
        "sns.boxplot(y='Authority',x = 'PoliticalLeaning', hue = 'PoliticalLeaning',data = data, ax=axarr[1][1])\n",
        "sns.boxplot(y='Purity',x = 'PoliticalLeaning', hue = 'PoliticalLeaning',data = data, ax=axarr[2][0])\n",
        "sns.boxplot(y='ICS_score',x = 'PoliticalLeaning', hue = 'PoliticalLeaning',data = data, ax=axarr[2][1])"
      ],
      "metadata": {
        "colab": {
          "base_uri": "https://localhost:8080/",
          "height": 731
        },
        "id": "mhi8BWhDHT2N",
        "outputId": "68bf9979-8d8e-4713-a4ff-47057a8b06d7"
      },
      "execution_count": null,
      "outputs": [
        {
          "output_type": "execute_result",
          "data": {
            "text/plain": [
              "<matplotlib.axes._subplots.AxesSubplot at 0x7f748faf6410>"
            ]
          },
          "metadata": {},
          "execution_count": 19
        },
        {
          "output_type": "display_data",
          "data": {
            "text/plain": [
              "<Figure size 1440x864 with 6 Axes>"
            ],
            "image/png": "[encoded data removed]"
          },
          "metadata": {
            "needs_background": "light"
          }
        }
      ]
    },
    {
      "cell_type": "markdown",
      "source": [
        "Liberals have the highest scores in harm.\n",
        "\n",
        "Conservative score highest on loyalty while liberal score lowest on the purity morals.\n",
        "\n",
        "liberals have the lowest ICS_score.\n",
        "\n"
      ],
      "metadata": {
        "id": "jaRHcBtSWlTb"
      }
    },
    {
      "cell_type": "markdown",
      "source": [
        "Split into dependent and independent variables"
      ],
      "metadata": {
        "id": "LBgc5ydpJzYf"
      }
    },
    {
      "cell_type": "code",
      "source": [
        "# dependent feature (y)\n",
        "\n",
        "y = data['PoliticalLeaning']\n",
        "\n",
        "print(y)"
      ],
      "metadata": {
        "colab": {
          "base_uri": "https://localhost:8080/"
        },
        "id": "jDr1jbyGKkVO",
        "outputId": "8e9bbb4b-1676-4ade-f67a-1c0887da331d"
      },
      "execution_count": null,
      "outputs": [
        {
          "output_type": "stream",
          "name": "stdout",
          "text": [
            "0      conservative\n",
            "1      conservative\n",
            "2      conservative\n",
            "3          slightly\n",
            "4          slightly\n",
            "           ...     \n",
            "401    conservative\n",
            "402         liberal\n",
            "403         liberal\n",
            "404         liberal\n",
            "405         liberal\n",
            "Name: PoliticalLeaning, Length: 406, dtype: object\n"
          ]
        }
      ]
    },
    {
      "cell_type": "code",
      "source": [
        "# Independent Features (x)\n",
        "\n",
        "independent_features = ['Harm', 'Fairness', 'Loyalty', 'Authority', 'Purity',\n",
        "       'ICS_score', 'PoliticalInvolvement']\n",
        "\n",
        "x = data[independent_features]\n",
        "\n",
        "x"
      ],
      "metadata": {
        "colab": {
          "base_uri": "https://localhost:8080/",
          "height": 424
        },
        "id": "5Jt1qEVpKyQU",
        "outputId": "0d614ad3-5ff9-4800-a91f-98e5355f3757"
      },
      "execution_count": null,
      "outputs": [
        {
          "output_type": "execute_result",
          "data": {
            "text/plain": [
              "     Harm  Fairness  Loyalty  Authority  Purity  ICS_score  \\\n",
              "0      20        20       12         19      18          4   \n",
              "1      18        25       23         17       5          7   \n",
              "2      14        23       14         19      19          9   \n",
              "3      22        25       12         16      12         -6   \n",
              "4      26        27       16         22      28          1   \n",
              "..    ...       ...      ...        ...     ...        ...   \n",
              "401    22        20       22         26      27          9   \n",
              "402    24        20       15          8       8        -12   \n",
              "403    21        22       19         21      19         -3   \n",
              "404    29        20        8         12       4         -8   \n",
              "405    28        26       11          5       3         -8   \n",
              "\n",
              "     PoliticalInvolvement  \n",
              "0                       5  \n",
              "1                       8  \n",
              "2                       1  \n",
              "3                       5  \n",
              "4                       3  \n",
              "..                    ...  \n",
              "401                     0  \n",
              "402                     5  \n",
              "403                     0  \n",
              "404                     1  \n",
              "405                    -1  \n",
              "\n",
              "[406 rows x 7 columns]"
            ],
            "text/html": [
              "\n",
              "  <div id=\"df-6e03dace-2222-4aaa-87e5-b38db995738c\">\n",
              "    <div class=\"colab-df-container\">\n",
              "      <div>\n",
              "<style scoped>\n",
              "    .dataframe tbody tr th:only-of-type {\n",
              "        vertical-align: middle;\n",
              "    }\n",
              "\n",
              "    .dataframe tbody tr th {\n",
              "        vertical-align: top;\n",
              "    }\n",
              "\n",
              "    .dataframe thead th {\n",
              "        text-align: right;\n",
              "    }\n",
              "</style>\n",
              "<table border=\"1\" class=\"dataframe\">\n",
              "  <thead>\n",
              "    <tr style=\"text-align: right;\">\n",
              "      <th></th>\n",
              "      <th>Harm</th>\n",
              "      <th>Fairness</th>\n",
              "      <th>Loyalty</th>\n",
              "      <th>Authority</th>\n",
              "      <th>Purity</th>\n",
              "      <th>ICS_score</th>\n",
              "      <th>PoliticalInvolvement</th>\n",
              "    </tr>\n",
              "  </thead>\n",
              "  <tbody>\n",
              "    <tr>\n",
              "      <th>0</th>\n",
              "      <td>20</td>\n",
              "      <td>20</td>\n",
              "      <td>12</td>\n",
              "      <td>19</td>\n",
              "      <td>18</td>\n",
              "      <td>4</td>\n",
              "      <td>5</td>\n",
              "    </tr>\n",
              "    <tr>\n",
              "      <th>1</th>\n",
              "      <td>18</td>\n",
              "      <td>25</td>\n",
              "      <td>23</td>\n",
              "      <td>17</td>\n",
              "      <td>5</td>\n",
              "      <td>7</td>\n",
              "      <td>8</td>\n",
              "    </tr>\n",
              "    <tr>\n",
              "      <th>2</th>\n",
              "      <td>14</td>\n",
              "      <td>23</td>\n",
              "      <td>14</td>\n",
              "      <td>19</td>\n",
              "      <td>19</td>\n",
              "      <td>9</td>\n",
              "      <td>1</td>\n",
              "    </tr>\n",
              "    <tr>\n",
              "      <th>3</th>\n",
              "      <td>22</td>\n",
              "      <td>25</td>\n",
              "      <td>12</td>\n",
              "      <td>16</td>\n",
              "      <td>12</td>\n",
              "      <td>-6</td>\n",
              "      <td>5</td>\n",
              "    </tr>\n",
              "    <tr>\n",
              "      <th>4</th>\n",
              "      <td>26</td>\n",
              "      <td>27</td>\n",
              "      <td>16</td>\n",
              "      <td>22</td>\n",
              "      <td>28</td>\n",
              "      <td>1</td>\n",
              "      <td>3</td>\n",
              "    </tr>\n",
              "    <tr>\n",
              "      <th>...</th>\n",
              "      <td>...</td>\n",
              "      <td>...</td>\n",
              "      <td>...</td>\n",
              "      <td>...</td>\n",
              "      <td>...</td>\n",
              "      <td>...</td>\n",
              "      <td>...</td>\n",
              "    </tr>\n",
              "    <tr>\n",
              "      <th>401</th>\n",
              "      <td>22</td>\n",
              "      <td>20</td>\n",
              "      <td>22</td>\n",
              "      <td>26</td>\n",
              "      <td>27</td>\n",
              "      <td>9</td>\n",
              "      <td>0</td>\n",
              "    </tr>\n",
              "    <tr>\n",
              "      <th>402</th>\n",
              "      <td>24</td>\n",
              "      <td>20</td>\n",
              "      <td>15</td>\n",
              "      <td>8</td>\n",
              "      <td>8</td>\n",
              "      <td>-12</td>\n",
              "      <td>5</td>\n",
              "    </tr>\n",
              "    <tr>\n",
              "      <th>403</th>\n",
              "      <td>21</td>\n",
              "      <td>22</td>\n",
              "      <td>19</td>\n",
              "      <td>21</td>\n",
              "      <td>19</td>\n",
              "      <td>-3</td>\n",
              "      <td>0</td>\n",
              "    </tr>\n",
              "    <tr>\n",
              "      <th>404</th>\n",
              "      <td>29</td>\n",
              "      <td>20</td>\n",
              "      <td>8</td>\n",
              "      <td>12</td>\n",
              "      <td>4</td>\n",
              "      <td>-8</td>\n",
              "      <td>1</td>\n",
              "    </tr>\n",
              "    <tr>\n",
              "      <th>405</th>\n",
              "      <td>28</td>\n",
              "      <td>26</td>\n",
              "      <td>11</td>\n",
              "      <td>5</td>\n",
              "      <td>3</td>\n",
              "      <td>-8</td>\n",
              "      <td>-1</td>\n",
              "    </tr>\n",
              "  </tbody>\n",
              "</table>\n",
              "<p>406 rows × 7 columns</p>\n",
              "</div>\n",
              "      <button class=\"colab-df-convert\" onclick=\"convertToInteractive('df-6e03dace-2222-4aaa-87e5-b38db995738c')\"\n",
              "              title=\"Convert this dataframe to an interactive table.\"\n",
              "              style=\"display:none;\">\n",
              "        \n",
              "  <svg xmlns=\"http://www.w3.org/2000/svg\" height=\"24px\"viewBox=\"0 0 24 24\"\n",
              "       width=\"24px\">\n",
              "    <path d=\"M0 0h24v24H0V0z\" fill=\"none\"/>\n",
              "    <path d=\"M18.56 5.44l.94 2.06.94-2.06 2.06-.94-2.06-.94-.94-2.06-.94 2.06-2.06.94zm-11 1L8.5 8.5l.94-2.06 2.06-.94-2.06-.94L8.5 2.5l-.94 2.06-2.06.94zm10 10l.94 2.06.94-2.06 2.06-.94-2.06-.94-.94-2.06-.94 2.06-2.06.94z\"/><path d=\"M17.41 7.96l-1.37-1.37c-.4-.4-.92-.59-1.43-.59-.52 0-1.04.2-1.43.59L10.3 9.45l-7.72 7.72c-.78.78-.78 2.05 0 2.83L4 21.41c.39.39.9.59 1.41.59.51 0 1.02-.2 1.41-.59l7.78-7.78 2.81-2.81c.8-.78.8-2.07 0-2.86zM5.41 20L4 18.59l7.72-7.72 1.47 1.35L5.41 20z\"/>\n",
              "  </svg>\n",
              "      </button>\n",
              "      \n",
              "  <style>\n",
              "    .colab-df-container {\n",
              "      display:flex;\n",
              "      flex-wrap:wrap;\n",
              "      gap: 12px;\n",
              "    }\n",
              "\n",
              "    .colab-df-convert {\n",
              "      background-color: #E8F0FE;\n",
              "      border: none;\n",
              "      border-radius: 50%;\n",
              "      cursor: pointer;\n",
              "      display: none;\n",
              "      fill: #1967D2;\n",
              "      height: 32px;\n",
              "      padding: 0 0 0 0;\n",
              "      width: 32px;\n",
              "    }\n",
              "\n",
              "    .colab-df-convert:hover {\n",
              "      background-color: #E2EBFA;\n",
              "      box-shadow: 0px 1px 2px rgba(60, 64, 67, 0.3), 0px 1px 3px 1px rgba(60, 64, 67, 0.15);\n",
              "      fill: #174EA6;\n",
              "    }\n",
              "\n",
              "    [theme=dark] .colab-df-convert {\n",
              "      background-color: #3B4455;\n",
              "      fill: #D2E3FC;\n",
              "    }\n",
              "\n",
              "    [theme=dark] .colab-df-convert:hover {\n",
              "      background-color: #434B5C;\n",
              "      box-shadow: 0px 1px 3px 1px rgba(0, 0, 0, 0.15);\n",
              "      filter: drop-shadow(0px 1px 2px rgba(0, 0, 0, 0.3));\n",
              "      fill: #FFFFFF;\n",
              "    }\n",
              "  </style>\n",
              "\n",
              "      <script>\n",
              "        const buttonEl =\n",
              "          document.querySelector('#df-6e03dace-2222-4aaa-87e5-b38db995738c button.colab-df-convert');\n",
              "        buttonEl.style.display =\n",
              "          google.colab.kernel.accessAllowed ? 'block' : 'none';\n",
              "\n",
              "        async function convertToInteractive(key) {\n",
              "          const element = document.querySelector('#df-6e03dace-2222-4aaa-87e5-b38db995738c');\n",
              "          const dataTable =\n",
              "            await google.colab.kernel.invokeFunction('convertToInteractive',\n",
              "                                                     [key], {});\n",
              "          if (!dataTable) return;\n",
              "\n",
              "          const docLinkHtml = 'Like what you see? Visit the ' +\n",
              "            '<a target=\"_blank\" href=https://colab.research.google.com/notebooks/data_table.ipynb>data table notebook</a>'\n",
              "            + ' to learn more about interactive tables.';\n",
              "          element.innerHTML = '';\n",
              "          dataTable['output_type'] = 'display_data';\n",
              "          await google.colab.output.renderOutput(dataTable, element);\n",
              "          const docLink = document.createElement('div');\n",
              "          docLink.innerHTML = docLinkHtml;\n",
              "          element.appendChild(docLink);\n",
              "        }\n",
              "      </script>\n",
              "    </div>\n",
              "  </div>\n",
              "  "
            ]
          },
          "metadata": {},
          "execution_count": 21
        }
      ]
    },
    {
      "cell_type": "markdown",
      "source": [
        "Normalize continuous variables using standard scaler"
      ],
      "metadata": {
        "id": "5QjLu5YGLaHs"
      }
    },
    {
      "cell_type": "code",
      "source": [
        "sc = StandardScaler()\n",
        "x = sc.fit_transform(x)"
      ],
      "metadata": {
        "id": "F-_WxHPbLQD_"
      },
      "execution_count": null,
      "outputs": []
    },
    {
      "cell_type": "code",
      "source": [
        "x"
      ],
      "metadata": {
        "colab": {
          "base_uri": "https://localhost:8080/"
        },
        "id": "MjddSWN-Livx",
        "outputId": "f7f8e4cd-054b-4e91-b7b6-cc383642de3b"
      },
      "execution_count": null,
      "outputs": [
        {
          "output_type": "execute_result",
          "data": {
            "text/plain": [
              "array([[-0.43752135, -0.51466504, -0.28251302, ...,  0.63357482,\n",
              "         1.40570389,  0.73061385],\n",
              "       [-0.79278868,  0.51062449,  1.48457822, ..., -0.91171534,\n",
              "         1.92141092,  1.81320225],\n",
              "       [-1.50332335,  0.10050868,  0.0387763 , ...,  0.75244329,\n",
              "         2.2652156 , -0.71283736],\n",
              "       ...,\n",
              "       [-0.25988768, -0.10454923,  0.84199959, ...,  0.75244329,\n",
              "         0.20238749, -1.07370016],\n",
              "       [ 1.16118165, -0.51466504, -0.92509165, ..., -1.03058381,\n",
              "        -0.65712423, -0.71283736],\n",
              "       [ 0.98354799,  0.7156824 , -0.44315768, ..., -1.14945228,\n",
              "        -0.65712423, -1.43456296]])"
            ]
          },
          "metadata": {},
          "execution_count": 23
        }
      ]
    },
    {
      "cell_type": "markdown",
      "source": [
        "Split into train and test sets"
      ],
      "metadata": {
        "id": "JLncLm8xLor_"
      }
    },
    {
      "cell_type": "code",
      "source": [
        "x_train, x_test, y_train, y_test = train_test_split(x,y,test_size=0.3,random_state=0)"
      ],
      "metadata": {
        "id": "u8VV-SC7LjO7"
      },
      "execution_count": null,
      "outputs": []
    },
    {
      "cell_type": "code",
      "source": [
        "print(x_train.shape)\n",
        "print(x_test.shape)\n",
        "print(y_train.shape)\n",
        "print(y_test.shape)"
      ],
      "metadata": {
        "colab": {
          "base_uri": "https://localhost:8080/"
        },
        "id": "HQdfweZTLsqH",
        "outputId": "61968457-981b-435b-a746-d831b487947f"
      },
      "execution_count": null,
      "outputs": [
        {
          "output_type": "stream",
          "name": "stdout",
          "text": [
            "(284, 7)\n",
            "(122, 7)\n",
            "(284,)\n",
            "(122,)\n"
          ]
        }
      ]
    },
    {
      "cell_type": "markdown",
      "source": [
        "**Apply ML Algorithms**"
      ],
      "metadata": {
        "id": "w-Vv3SRLLyiL"
      }
    },
    {
      "cell_type": "markdown",
      "source": [
        "Logistic Regression"
      ],
      "metadata": {
        "id": "sPTNIhImL8XX"
      }
    },
    {
      "cell_type": "code",
      "source": [
        "lr=LogisticRegression()\n",
        "lr.fit(x_train,y_train)\n",
        "lr_ypred=lr.predict(x_test)\n",
        "lr_acc = sklearn.metrics.accuracy_score(lr_ypred,y_test)\n",
        "print(\"Logistic Regression Accuracy: \")\n",
        "print(lr_acc*100,\"%\")"
      ],
      "metadata": {
        "colab": {
          "base_uri": "https://localhost:8080/"
        },
        "id": "pINNv5YAL7-q",
        "outputId": "35c6b904-7f67-4131-9d88-19ab00125a19"
      },
      "execution_count": null,
      "outputs": [
        {
          "output_type": "stream",
          "name": "stdout",
          "text": [
            "Logistic Regression Accuracy: \n",
            "81.9672131147541 %\n"
          ]
        }
      ]
    },
    {
      "cell_type": "markdown",
      "source": [
        "Navie Bayes"
      ],
      "metadata": {
        "id": "Q_fA5gjPRP65"
      }
    },
    {
      "cell_type": "code",
      "source": [
        "nb=GaussianNB()\n",
        "nb.fit(x_train,y_train)\n",
        "nb_ypred=nb.predict(x_test)\n",
        "nb_acc = sklearn.metrics.accuracy_score(nb_ypred,y_test)\n",
        "print(\"Naive Bayes Accuracy: \")\n",
        "print(nb_acc*100,\"%\")"
      ],
      "metadata": {
        "colab": {
          "base_uri": "https://localhost:8080/"
        },
        "id": "3mgiND3_L1At",
        "outputId": "d90f6959-5bb8-4365-856e-15224aec576c"
      },
      "execution_count": null,
      "outputs": [
        {
          "output_type": "stream",
          "name": "stdout",
          "text": [
            "Naive Bayes Accuracy: \n",
            "80.32786885245902 %\n"
          ]
        }
      ]
    },
    {
      "cell_type": "markdown",
      "source": [
        "Stochastic Gradient Descent"
      ],
      "metadata": {
        "id": "EifxLsagRV-o"
      }
    },
    {
      "cell_type": "code",
      "source": [
        "sgd=SGDClassifier(loss='modified_huber',shuffle=True, random_state=15)\n",
        "sgd.fit(x_train,y_train)\n",
        "sgd_ypred=sgd.predict(x_test)\n",
        "sgd_acc = sklearn.metrics.accuracy_score(sgd_ypred,y_test)\n",
        "print(\"Stochastic Gradient Descent Accuracy: \")\n",
        "print(sgd_acc*100,\"%\")"
      ],
      "metadata": {
        "colab": {
          "base_uri": "https://localhost:8080/"
        },
        "id": "UY_DlENURYeZ",
        "outputId": "da5b13d1-d2f3-44b8-ce2b-d9de449a118e"
      },
      "execution_count": null,
      "outputs": [
        {
          "output_type": "stream",
          "name": "stdout",
          "text": [
            "Stochastic Gradient Descent Accuracy: \n",
            "80.32786885245902 %\n"
          ]
        }
      ]
    },
    {
      "cell_type": "markdown",
      "source": [
        "K-Nearest Neighbours"
      ],
      "metadata": {
        "id": "9m7z9M6sRc7r"
      }
    },
    {
      "cell_type": "code",
      "source": [
        "knn=KNeighborsClassifier(n_neighbors=3)\n",
        "knn.fit(x_train,y_train)\n",
        "knn_ypred=knn.predict(x_test)\n",
        "knn_acc = sklearn.metrics.accuracy_score(knn_ypred,y_test)\n",
        "print(\"K-Nearest Neighbour Accuracy: \")\n",
        "print(knn_acc*100,\"%\")"
      ],
      "metadata": {
        "colab": {
          "base_uri": "https://localhost:8080/"
        },
        "id": "vpsz_v2dRdaA",
        "outputId": "5272fca4-d667-4157-d0e1-8ae8f8a5c333"
      },
      "execution_count": null,
      "outputs": [
        {
          "output_type": "stream",
          "name": "stdout",
          "text": [
            "K-Nearest Neighbour Accuracy: \n",
            "69.67213114754098 %\n"
          ]
        }
      ]
    },
    {
      "cell_type": "markdown",
      "source": [
        "Decision Tree"
      ],
      "metadata": {
        "id": "BSIU-zCWRhzJ"
      }
    },
    {
      "cell_type": "code",
      "source": [
        "dtree=DecisionTreeClassifier(max_depth=100,random_state=10,max_features=None, min_samples_leaf=100)\n",
        "dtree.fit(x_train,y_train)\n",
        "dtree_ypred=dtree.predict(x_test)\n",
        "dtree_acc = sklearn.metrics.accuracy_score(dtree_ypred,y_test)\n",
        "print(\"Decision Tree Accuracy: \")\n",
        "print(dtree_acc*100,\"%\")"
      ],
      "metadata": {
        "colab": {
          "base_uri": "https://localhost:8080/"
        },
        "id": "nK-jLcKWRiNB",
        "outputId": "c052cd05-2371-4219-9193-5756332074fd"
      },
      "execution_count": null,
      "outputs": [
        {
          "output_type": "stream",
          "name": "stdout",
          "text": [
            "Decision Tree Accuracy: \n",
            "72.95081967213115 %\n"
          ]
        }
      ]
    },
    {
      "cell_type": "markdown",
      "source": [
        "Random Forest"
      ],
      "metadata": {
        "id": "PshiDPA7Rmf9"
      }
    },
    {
      "cell_type": "code",
      "source": [
        "rfm=RandomForestClassifier(n_estimators=200,oob_score=True,n_jobs=-1, random_state=20,max_features=None,min_samples_leaf=2)\n",
        "rfm.fit(x_train,y_train)\n",
        "rfm_ypred=rfm.predict(x_test)\n",
        "rfm_acc = sklearn.metrics.accuracy_score(rfm_ypred,y_test)\n",
        "print(\"Random Forest Accuracy: \")\n",
        "print(rfm_acc*100,\"%\")"
      ],
      "metadata": {
        "colab": {
          "base_uri": "https://localhost:8080/"
        },
        "id": "QBw0e9b6Rm_g",
        "outputId": "b68e9fef-d7bc-4d95-e61d-898c39c09134"
      },
      "execution_count": null,
      "outputs": [
        {
          "output_type": "stream",
          "name": "stdout",
          "text": [
            "Random Forest Accuracy: \n",
            "81.14754098360656 %\n"
          ]
        }
      ]
    },
    {
      "cell_type": "markdown",
      "source": [
        "Support Vector Machine"
      ],
      "metadata": {
        "id": "UjaUgwiBRsHT"
      }
    },
    {
      "cell_type": "code",
      "source": [
        "svm=SVC(kernel=\"linear\",C=0.025,random_state=None)\n",
        "svm.fit(x_train,y_train)\n",
        "svm_ypred=svm.predict(x_test)\n",
        "svm_acc = sklearn.metrics.accuracy_score(svm_ypred,y_test)\n",
        "print(\"Support Vector Machine Accuracy: \")\n",
        "print(svm_acc*100,\"%\")"
      ],
      "metadata": {
        "colab": {
          "base_uri": "https://localhost:8080/"
        },
        "id": "9ITbi49nRsgA",
        "outputId": "ba4a2cb3-c3d0-4b3a-df84-2d2ece15f706"
      },
      "execution_count": null,
      "outputs": [
        {
          "output_type": "stream",
          "name": "stdout",
          "text": [
            "Support Vector Machine Accuracy: \n",
            "75.40983606557377 %\n"
          ]
        }
      ]
    },
    {
      "cell_type": "markdown",
      "source": [
        "**ML Model Evaluation**"
      ],
      "metadata": {
        "id": "pCsuTnp6Rw_S"
      }
    },
    {
      "cell_type": "markdown",
      "source": [
        "Classification Report"
      ],
      "metadata": {
        "id": "VozMQ8dPR3Z9"
      }
    },
    {
      "cell_type": "code",
      "source": [
        "targetNames=['conservative', 'slightly', 'liberal', 'moderate']\n",
        "print('For LR')\n",
        "print(classification_report(y_test, lr_ypred, target_names=targetNames))\n",
        "print('-----------------------------------------------------------------')\n",
        "print('For Naive Bayes')\n",
        "print(classification_report(y_test, nb_ypred, target_names=targetNames))\n",
        "print('-----------------------------------------------------------------')\n",
        "print('For SGD')\n",
        "print(classification_report(y_test, sgd_ypred, target_names=targetNames))\n",
        "print('-----------------------------------------------------------------')\n",
        "print('For KNN')\n",
        "print(classification_report(y_test, knn_ypred, target_names=targetNames))\n",
        "print('-----------------------------------------------------------------')\n",
        "print('For Decision Tree')\n",
        "print(classification_report(y_test, dtree_ypred, target_names=targetNames))\n",
        "print('-----------------------------------------------------------------')\n",
        "print('For Random Forest')\n",
        "print(classification_report(y_test, rfm_ypred, target_names=targetNames))\n",
        "print('-----------------------------------------------------------------')\n",
        "print('For SVM')\n",
        "print(classification_report(y_test, svm_ypred, target_names=targetNames))\n",
        "print('-----------------------------------------------------------------')"
      ],
      "metadata": {
        "colab": {
          "base_uri": "https://localhost:8080/"
        },
        "id": "_-sdmFe5RyMM",
        "outputId": "74437aae-74fe-4be9-fade-f13efc3c3064"
      },
      "execution_count": null,
      "outputs": [
        {
          "output_type": "stream",
          "name": "stdout",
          "text": [
            "For LR\n",
            "              precision    recall  f1-score   support\n",
            "\n",
            "conservative       0.81      0.93      0.87        14\n",
            "    slightly       0.92      0.92      0.92        65\n",
            "     liberal       0.00      0.00      0.00         8\n",
            "    moderate       0.66      0.77      0.71        35\n",
            "\n",
            "    accuracy                           0.82       122\n",
            "   macro avg       0.60      0.66      0.63       122\n",
            "weighted avg       0.77      0.82      0.80       122\n",
            "\n",
            "-----------------------------------------------------------------\n",
            "For Naive Bayes\n",
            "              precision    recall  f1-score   support\n",
            "\n",
            "conservative       0.74      1.00      0.85        14\n",
            "    slightly       0.95      0.88      0.91        65\n",
            "     liberal       0.00      0.00      0.00         8\n",
            "    moderate       0.63      0.77      0.69        35\n",
            "\n",
            "    accuracy                           0.80       122\n",
            "   macro avg       0.58      0.66      0.61       122\n",
            "weighted avg       0.77      0.80      0.78       122\n",
            "\n",
            "-----------------------------------------------------------------\n",
            "For SGD\n",
            "              precision    recall  f1-score   support\n",
            "\n",
            "conservative       0.61      1.00      0.76        14\n",
            "    slightly       0.92      0.94      0.93        65\n",
            "     liberal       0.00      0.00      0.00         8\n",
            "    moderate       0.70      0.66      0.68        35\n",
            "\n",
            "    accuracy                           0.80       122\n",
            "   macro avg       0.56      0.65      0.59       122\n",
            "weighted avg       0.76      0.80      0.78       122\n",
            "\n",
            "-----------------------------------------------------------------\n",
            "For KNN\n",
            "              precision    recall  f1-score   support\n",
            "\n",
            "conservative       0.44      0.57      0.50        14\n",
            "    slightly       0.85      0.94      0.89        65\n",
            "     liberal       0.00      0.00      0.00         8\n",
            "    moderate       0.55      0.46      0.50        35\n",
            "\n",
            "    accuracy                           0.70       122\n",
            "   macro avg       0.46      0.49      0.47       122\n",
            "weighted avg       0.66      0.70      0.68       122\n",
            "\n",
            "-----------------------------------------------------------------\n",
            "For Decision Tree\n",
            "              precision    recall  f1-score   support\n",
            "\n",
            "conservative       0.00      0.00      0.00        14\n",
            "    slightly       0.94      0.89      0.91        65\n",
            "     liberal       0.00      0.00      0.00         8\n",
            "    moderate       0.52      0.89      0.65        35\n",
            "\n",
            "    accuracy                           0.73       122\n",
            "   macro avg       0.36      0.44      0.39       122\n",
            "weighted avg       0.65      0.73      0.67       122\n",
            "\n",
            "-----------------------------------------------------------------\n",
            "For Random Forest\n",
            "              precision    recall  f1-score   support\n",
            "\n",
            "conservative       0.71      0.86      0.77        14\n",
            "    slightly       0.97      0.91      0.94        65\n",
            "     liberal       0.00      0.00      0.00         8\n",
            "    moderate       0.64      0.80      0.71        35\n",
            "\n",
            "    accuracy                           0.81       122\n",
            "   macro avg       0.58      0.64      0.60       122\n",
            "weighted avg       0.78      0.81      0.79       122\n",
            "\n",
            "-----------------------------------------------------------------\n",
            "For SVM\n",
            "              precision    recall  f1-score   support\n",
            "\n",
            "conservative       0.00      0.00      0.00        14\n",
            "    slightly       0.93      0.95      0.94        65\n",
            "     liberal       0.00      0.00      0.00         8\n",
            "    moderate       0.55      0.86      0.67        35\n",
            "\n",
            "    accuracy                           0.75       122\n",
            "   macro avg       0.37      0.45      0.40       122\n",
            "weighted avg       0.65      0.75      0.69       122\n",
            "\n",
            "-----------------------------------------------------------------\n"
          ]
        }
      ]
    },
    {
      "cell_type": "code",
      "source": [
        "cm_lr = confusion_matrix(y_test, lr_ypred)\n",
        "print('For Logistic Regression')\n",
        "print('Confusion Matrix: ')\n",
        "print(cm_lr)\n",
        "acc_lr = accuracy_score(y_test, lr_ypred)\n",
        "pre_lr = precision_score(y_test, lr_ypred, average='micro')\n",
        "rec_lr = recall_score(y_test, lr_ypred, average='micro')\n",
        "f1_lr = f1_score(y_test, lr_ypred, average='micro')\n",
        "print('Accuracy Score: ',acc_lr)\n",
        "print('Precision Score: ',pre_lr)\n",
        "print('Recall Score: ',rec_lr)\n",
        "print('F1 Score: ',f1_lr)"
      ],
      "metadata": {
        "colab": {
          "base_uri": "https://localhost:8080/"
        },
        "id": "pmzX2kV9SM9J",
        "outputId": "0670d18d-00d2-4b65-bb39-447afee43374"
      },
      "execution_count": null,
      "outputs": [
        {
          "output_type": "stream",
          "name": "stdout",
          "text": [
            "For Logistic Regression\n",
            "Confusion Matrix: \n",
            "[[13  0  0  1]\n",
            " [ 0 60  0  5]\n",
            " [ 0  0  0  8]\n",
            " [ 3  5  0 27]]\n",
            "Accuracy Score:  0.819672131147541\n",
            "Precision Score:  0.819672131147541\n",
            "Recall Score:  0.819672131147541\n",
            "F1 Score:  0.819672131147541\n"
          ]
        }
      ]
    },
    {
      "cell_type": "code",
      "source": [
        "cm_nb = confusion_matrix(y_test, nb_ypred)\n",
        "print('For Naive Bayes')\n",
        "print('Confusion Matrix: ')\n",
        "print(cm_nb)\n",
        "acc_nb = accuracy_score(y_test, nb_ypred)\n",
        "pre_nb = precision_score(y_test, nb_ypred, average='micro')\n",
        "rec_nb = recall_score(y_test, nb_ypred, average='micro')\n",
        "f1_nb = f1_score(y_test, nb_ypred, average='micro')\n",
        "print('Accuracy Score: ',acc_nb)\n",
        "print('Precision Score: ',pre_nb)\n",
        "print('Recall Score: ',rec_nb)\n",
        "print('F1 Score: ',f1_nb)"
      ],
      "metadata": {
        "colab": {
          "base_uri": "https://localhost:8080/"
        },
        "id": "NioOfguoSTQh",
        "outputId": "7f6eb3a1-33a8-4aed-8803-d18778944413"
      },
      "execution_count": null,
      "outputs": [
        {
          "output_type": "stream",
          "name": "stdout",
          "text": [
            "For Naive Bayes\n",
            "Confusion Matrix: \n",
            "[[14  0  0  0]\n",
            " [ 0 57  0  8]\n",
            " [ 0  0  0  8]\n",
            " [ 5  3  0 27]]\n",
            "Accuracy Score:  0.8032786885245902\n",
            "Precision Score:  0.8032786885245902\n",
            "Recall Score:  0.8032786885245902\n",
            "F1 Score:  0.8032786885245902\n"
          ]
        }
      ]
    },
    {
      "cell_type": "code",
      "source": [
        "cm_sgd = confusion_matrix(y_test, sgd_ypred)\n",
        "print('For Stochastic Gradient Descent')\n",
        "print('Confusion Matrix: ')\n",
        "print(cm_sgd)\n",
        "acc_sgd = accuracy_score(y_test, sgd_ypred)\n",
        "pre_sgd = precision_score(y_test, sgd_ypred, average='micro')\n",
        "rec_sgd = recall_score(y_test, sgd_ypred, average='micro')\n",
        "f1_sgd = f1_score(y_test, sgd_ypred, average='micro')\n",
        "print('Accuracy Score: ',acc_sgd)\n",
        "print('Precision Score: ',pre_sgd)\n",
        "print('Recall Score: ',rec_sgd)\n",
        "print('F1 Score: ',f1_sgd)"
      ],
      "metadata": {
        "colab": {
          "base_uri": "https://localhost:8080/"
        },
        "id": "KPNXaOA7TFyq",
        "outputId": "fd6aada4-5921-4a8b-bb67-c0727404390e"
      },
      "execution_count": null,
      "outputs": [
        {
          "output_type": "stream",
          "name": "stdout",
          "text": [
            "For Stochastic Gradient Descent\n",
            "Confusion Matrix: \n",
            "[[14  0  0  0]\n",
            " [ 0 61  0  4]\n",
            " [ 2  0  0  6]\n",
            " [ 7  5  0 23]]\n",
            "Accuracy Score:  0.8032786885245902\n",
            "Precision Score:  0.8032786885245902\n",
            "Recall Score:  0.8032786885245902\n",
            "F1 Score:  0.8032786885245902\n"
          ]
        }
      ]
    },
    {
      "cell_type": "code",
      "source": [
        "cm_knn = confusion_matrix(y_test, knn_ypred)\n",
        "print('For KNN')\n",
        "print('Confusion Matrix: ')\n",
        "print(cm_knn)\n",
        "acc_knn = accuracy_score(y_test, knn_ypred)\n",
        "pre_knn = precision_score(y_test, knn_ypred, average='micro')\n",
        "rec_knn = recall_score(y_test, knn_ypred, average='micro')\n",
        "f1_knn = f1_score(y_test, knn_ypred, average='micro')\n",
        "print('Accuracy Score: ',acc_knn)\n",
        "print('Precision Score: ',pre_knn)\n",
        "print('Recall Score: ',rec_knn)\n",
        "print('F1 Score: ',f1_knn)"
      ],
      "metadata": {
        "colab": {
          "base_uri": "https://localhost:8080/"
        },
        "id": "HFY-D7UyTPQ6",
        "outputId": "f7f26f7a-439c-48d5-fb0a-1a474a7758f8"
      },
      "execution_count": null,
      "outputs": [
        {
          "output_type": "stream",
          "name": "stdout",
          "text": [
            "For KNN\n",
            "Confusion Matrix: \n",
            "[[ 8  0  0  6]\n",
            " [ 0 61  0  4]\n",
            " [ 4  1  0  3]\n",
            " [ 6 10  3 16]]\n",
            "Accuracy Score:  0.6967213114754098\n",
            "Precision Score:  0.6967213114754098\n",
            "Recall Score:  0.6967213114754098\n",
            "F1 Score:  0.6967213114754098\n"
          ]
        }
      ]
    },
    {
      "cell_type": "code",
      "source": [
        "cm_dtree = confusion_matrix(y_test, dtree_ypred)\n",
        "print('For Decision Tree')\n",
        "print('Confusion Matrix: ')\n",
        "print(cm_dtree)\n",
        "acc_dtree = accuracy_score(y_test, dtree_ypred)\n",
        "pre_dtree = precision_score(y_test, dtree_ypred, average='micro')\n",
        "rec_dtree = recall_score(y_test, dtree_ypred, average='micro')\n",
        "f1_dtree = f1_score(y_test, dtree_ypred, average='micro')\n",
        "print('Accuracy Score: ',acc_dtree)\n",
        "print('Precision Score: ',pre_dtree)\n",
        "print('Recall Score: ',rec_dtree)\n",
        "print('F1 Score: ',f1_dtree)"
      ],
      "metadata": {
        "colab": {
          "base_uri": "https://localhost:8080/"
        },
        "id": "Rl0md7kKTWsM",
        "outputId": "f5144122-600b-4683-a466-3aa5036490a8"
      },
      "execution_count": null,
      "outputs": [
        {
          "output_type": "stream",
          "name": "stdout",
          "text": [
            "For Decision Tree\n",
            "Confusion Matrix: \n",
            "[[ 0  0  0 14]\n",
            " [ 0 58  0  7]\n",
            " [ 0  0  0  8]\n",
            " [ 0  4  0 31]]\n",
            "Accuracy Score:  0.7295081967213115\n",
            "Precision Score:  0.7295081967213115\n",
            "Recall Score:  0.7295081967213115\n",
            "F1 Score:  0.7295081967213115\n"
          ]
        }
      ]
    },
    {
      "cell_type": "code",
      "source": [
        "cm_rfm = confusion_matrix(y_test, rfm_ypred)\n",
        "print('For Random Forest')\n",
        "print('Confusion Matrix: ')\n",
        "print(cm_rfm)\n",
        "acc_rfm = accuracy_score(y_test, rfm_ypred)\n",
        "pre_rfm = precision_score(y_test, rfm_ypred, average='micro')\n",
        "rec_rfm = recall_score(y_test, rfm_ypred, average='micro')\n",
        "f1_rfm = f1_score(y_test, rfm_ypred, average='micro')\n",
        "print('Accuracy Score: ',acc_rfm)\n",
        "print('Precision Score: ',pre_rfm)\n",
        "print('Recall Score: ',rec_rfm)\n",
        "print('F1 Score: ',f1_rfm)"
      ],
      "metadata": {
        "colab": {
          "base_uri": "https://localhost:8080/"
        },
        "id": "iSMOEmi2Tk1q",
        "outputId": "f8ea1e7e-951c-48d2-d6d2-a46c0b8e5cbb"
      },
      "execution_count": null,
      "outputs": [
        {
          "output_type": "stream",
          "name": "stdout",
          "text": [
            "For Random Forest\n",
            "Confusion Matrix: \n",
            "[[12  0  0  2]\n",
            " [ 0 59  0  6]\n",
            " [ 0  0  0  8]\n",
            " [ 5  2  0 28]]\n",
            "Accuracy Score:  0.8114754098360656\n",
            "Precision Score:  0.8114754098360656\n",
            "Recall Score:  0.8114754098360656\n",
            "F1 Score:  0.8114754098360656\n"
          ]
        }
      ]
    },
    {
      "cell_type": "code",
      "source": [
        "accuracies= {\"LR\": lr_acc, \n",
        "             \"Naive\": nb_acc, \n",
        "             \"SGD\": sgd_acc, \n",
        "             \"kNN\": knn_acc, \n",
        "             \"DT\": dtree_acc, \n",
        "             \"RFM\": rfm_acc, \n",
        "             }\n",
        "\n",
        "precisions = {\"LR\": pre_lr,  \n",
        "             \"Naive\": pre_nb, \n",
        "             \"SGD\": pre_sgd,\n",
        "             \"kNN\": pre_knn, \n",
        "             \"DT\": pre_dtree,\n",
        "            \"RFM\": pre_rfm,\n",
        "             }\n",
        "\n",
        "recalls = {\"LR\": rec_lr,  \n",
        "             \"Naive\": rec_nb, \n",
        "             \"SGD\": rec_sgd,\n",
        "             \"kNN\": rec_knn, \n",
        "             \"DT\": rec_dtree,\n",
        "            \"RFM\": rec_rfm,\n",
        "             }\n",
        "\n",
        "f1s = {\"LR\": f1_lr,  \n",
        "        \"Naive\": f1_nb, \n",
        "        \"SGD\": f1_sgd,\n",
        "        \"kNN\": f1_knn, \n",
        "        \"DT\": f1_dtree,\n",
        "      \"RFM\": f1_rfm,\n",
        "        }"
      ],
      "metadata": {
        "id": "hf-ActHWUS_T"
      },
      "execution_count": null,
      "outputs": []
    },
    {
      "cell_type": "markdown",
      "source": [
        "**Classification Evaluation Metrics**"
      ],
      "metadata": {
        "id": "b6c8BpTpUcO-"
      }
    },
    {
      "cell_type": "code",
      "source": [
        "lists = sorted(accuracies.items(), key=lambda x: x[1]*100)\n",
        "plt.figure(figsize=(10,5))\n",
        "plt.bar(*zip(*lists), color=\"coral\")\n",
        "plt.title('Classification Models vs Accuracy')\n",
        "plt.xlabel('Classification Models')\n",
        "plt.ylabel('Accuracy')\n",
        "plt.show()"
      ],
      "metadata": {
        "colab": {
          "base_uri": "https://localhost:8080/",
          "height": 350
        },
        "id": "qku2TZr8UYxm",
        "outputId": "7f9eb8f8-71f9-44ed-ebe3-14dd736a00d5"
      },
      "execution_count": null,
      "outputs": [
        {
          "output_type": "display_data",
          "data": {
            "text/plain": [
              "<Figure size 720x360 with 1 Axes>"
            ],
            "image/png": "[encoded data removed]"
          },
          "metadata": {
            "needs_background": "light"
          }
        }
      ]
    },
    {
      "cell_type": "code",
      "source": [
        "lists = sorted(precisions.items(), key=lambda x: x[1]*100)\n",
        "plt.figure(figsize=(10,5))\n",
        "plt.bar(*zip(*lists), color=\"limegreen\")\n",
        "plt.title('Classification Models vs Precision')\n",
        "plt.xlabel('Classification Models')\n",
        "plt.ylabel('Precision')\n",
        "plt.show()"
      ],
      "metadata": {
        "colab": {
          "base_uri": "https://localhost:8080/",
          "height": 350
        },
        "id": "b4Cm3Ag0UhVA",
        "outputId": "4c074fc4-d05d-4269-cf37-a630c38b2ed5"
      },
      "execution_count": null,
      "outputs": [
        {
          "output_type": "display_data",
          "data": {
            "text/plain": [
              "<Figure size 720x360 with 1 Axes>"
            ],
            "image/png": "[encoded data removed]"
          },
          "metadata": {
            "needs_background": "light"
          }
        }
      ]
    },
    {
      "cell_type": "code",
      "source": [
        "lists = sorted(recalls.items(), key=lambda x: x[1]*100)\n",
        "plt.figure(figsize=(10,5))\n",
        "plt.bar(*zip(*lists), color=\"dodgerblue\")\n",
        "plt.ylim(0,1)\n",
        "plt.title('Classification Models vs Recall')\n",
        "plt.xlabel('Classification Models')\n",
        "plt.ylabel('Recall')\n",
        "plt.show()"
      ],
      "metadata": {
        "colab": {
          "base_uri": "https://localhost:8080/",
          "height": 350
        },
        "id": "av9aEL7SUkUK",
        "outputId": "ff1bacdf-1950-481f-eaa8-22de37d7624d"
      },
      "execution_count": null,
      "outputs": [
        {
          "output_type": "display_data",
          "data": {
            "text/plain": [
              "<Figure size 720x360 with 1 Axes>"
            ],
            "image/png": "[encoded data removed]"
          },
          "metadata": {
            "needs_background": "light"
          }
        }
      ]
    },
    {
      "cell_type": "code",
      "source": [
        "lists = sorted(f1s.items(), key=lambda x: x[1]*100)\n",
        "plt.figure(figsize=(10,5))\n",
        "plt.bar(*zip(*lists), color=\"darkmagenta\")\n",
        "plt.title('Classification Models vs F1')\n",
        "plt.xlabel('Classification Models')\n",
        "plt.ylabel('F1')\n",
        "plt.show()"
      ],
      "metadata": {
        "colab": {
          "base_uri": "https://localhost:8080/",
          "height": 350
        },
        "id": "DfAO47oUUnD9",
        "outputId": "c04976db-ac31-4479-93fb-60112a6b7383"
      },
      "execution_count": null,
      "outputs": [
        {
          "output_type": "display_data",
          "data": {
            "text/plain": [
              "<Figure size 720x360 with 1 Axes>"
            ],
            "image/png": "[encoded data removed]"
          },
          "metadata": {
            "needs_background": "light"
          }
        }
      ]
    },
    {
      "cell_type": "markdown",
      "source": [
        "**Apply Deep Learning Models**"
      ],
      "metadata": {
        "id": "gVIizFtqUqhC"
      }
    },
    {
      "cell_type": "markdown",
      "source": [
        "Artificial Neural Networks"
      ],
      "metadata": {
        "id": "aQmb6LWTUuUh"
      }
    },
    {
      "cell_type": "code",
      "source": [
        "ann_model = Sequential()\n",
        "ann_model.add(Dense(units=8,activation='relu'))\n",
        "ann_model.add(Dense(units=8,activation='relu'))\n",
        "ann_model.add(Dense(units=8,activation='relu'))\n",
        "ann_model.add(Dense(units=8,activation='relu'))\n",
        "ann_model.add(Dense(units=8,activation='relu'))\n",
        "ann_model.add(Dense(units=8,activation='relu'))\n",
        "ann_model.add(Dense(units=8,activation='relu'))\n",
        "ann_model.add(Dense(units=8,activation='relu'))\n",
        "ann_model.add(Dense(units=1,activation='sigmoid'))\n",
        "ann_model.compile(optimizer='rmsprop',loss='binary_crossentropy',metrics=['accuracy'])\n",
        "ann_model.fit(x_train,y_train,batch_size=32,epochs=100)\n",
        "acc= ann_model.evaluate(x_train, y_train)\n",
        "print(\"ANN Model Accuracy: \")\n",
        "ann_acc=acc[1]\n",
        "print(ann_acc*100,\"%\")"
      ],
      "metadata": {
        "colab": {
          "base_uri": "https://localhost:8080/",
          "height": 1000
        },
        "id": "KhhmlFPLUrgZ",
        "outputId": "787a7c6a-7602-4319-c88a-dea5867e18d6"
      },
      "execution_count": null,
      "outputs": [
        {
          "output_type": "stream",
          "name": "stdout",
          "text": [
            "Epoch 1/100\n"
          ]
        },
        {
          "output_type": "error",
          "ename": "UnimplementedError",
          "evalue": "ignored",
          "traceback": [
            "\u001b[0;31m---------------------------------------------------------------------------\u001b[0m",
            "\u001b[0;31mUnimplementedError\u001b[0m                        Traceback (most recent call last)",
            "\u001b[0;32m<ipython-input-45-18d474cc2287>\u001b[0m in \u001b[0;36m<module>\u001b[0;34m()\u001b[0m\n\u001b[1;32m     10\u001b[0m \u001b[0mann_model\u001b[0m\u001b[0;34m.\u001b[0m\u001b[0madd\u001b[0m\u001b[0;34m(\u001b[0m\u001b[0mDense\u001b[0m\u001b[0;34m(\u001b[0m\u001b[0munits\u001b[0m\u001b[0;34m=\u001b[0m\u001b[0;36m1\u001b[0m\u001b[0;34m,\u001b[0m\u001b[0mactivation\u001b[0m\u001b[0;34m=\u001b[0m\u001b[0;34m'sigmoid'\u001b[0m\u001b[0;34m)\u001b[0m\u001b[0;34m)\u001b[0m\u001b[0;34m\u001b[0m\u001b[0;34m\u001b[0m\u001b[0m\n\u001b[1;32m     11\u001b[0m \u001b[0mann_model\u001b[0m\u001b[0;34m.\u001b[0m\u001b[0mcompile\u001b[0m\u001b[0;34m(\u001b[0m\u001b[0moptimizer\u001b[0m\u001b[0;34m=\u001b[0m\u001b[0;34m'rmsprop'\u001b[0m\u001b[0;34m,\u001b[0m\u001b[0mloss\u001b[0m\u001b[0;34m=\u001b[0m\u001b[0;34m'binary_crossentropy'\u001b[0m\u001b[0;34m,\u001b[0m\u001b[0mmetrics\u001b[0m\u001b[0;34m=\u001b[0m\u001b[0;34m[\u001b[0m\u001b[0;34m'accuracy'\u001b[0m\u001b[0;34m]\u001b[0m\u001b[0;34m)\u001b[0m\u001b[0;34m\u001b[0m\u001b[0;34m\u001b[0m\u001b[0m\n\u001b[0;32m---> 12\u001b[0;31m \u001b[0mann_model\u001b[0m\u001b[0;34m.\u001b[0m\u001b[0mfit\u001b[0m\u001b[0;34m(\u001b[0m\u001b[0mx_train\u001b[0m\u001b[0;34m,\u001b[0m\u001b[0my_train\u001b[0m\u001b[0;34m,\u001b[0m\u001b[0mbatch_size\u001b[0m\u001b[0;34m=\u001b[0m\u001b[0;36m32\u001b[0m\u001b[0;34m,\u001b[0m\u001b[0mepochs\u001b[0m\u001b[0;34m=\u001b[0m\u001b[0;36m100\u001b[0m\u001b[0;34m)\u001b[0m\u001b[0;34m\u001b[0m\u001b[0;34m\u001b[0m\u001b[0m\n\u001b[0m\u001b[1;32m     13\u001b[0m \u001b[0macc\u001b[0m\u001b[0;34m=\u001b[0m \u001b[0mann_model\u001b[0m\u001b[0;34m.\u001b[0m\u001b[0mevaluate\u001b[0m\u001b[0;34m(\u001b[0m\u001b[0mx_train\u001b[0m\u001b[0;34m,\u001b[0m \u001b[0my_train\u001b[0m\u001b[0;34m)\u001b[0m\u001b[0;34m\u001b[0m\u001b[0;34m\u001b[0m\u001b[0m\n\u001b[1;32m     14\u001b[0m \u001b[0mprint\u001b[0m\u001b[0;34m(\u001b[0m\u001b[0;34m\"ANN Model Accuracy: \"\u001b[0m\u001b[0;34m)\u001b[0m\u001b[0;34m\u001b[0m\u001b[0;34m\u001b[0m\u001b[0m\n",
            "\u001b[0;32m/usr/local/lib/python3.7/dist-packages/keras/utils/traceback_utils.py\u001b[0m in \u001b[0;36merror_handler\u001b[0;34m(*args, **kwargs)\u001b[0m\n\u001b[1;32m     65\u001b[0m     \u001b[0;32mexcept\u001b[0m \u001b[0mException\u001b[0m \u001b[0;32mas\u001b[0m \u001b[0me\u001b[0m\u001b[0;34m:\u001b[0m  \u001b[0;31m# pylint: disable=broad-except\u001b[0m\u001b[0;34m\u001b[0m\u001b[0;34m\u001b[0m\u001b[0m\n\u001b[1;32m     66\u001b[0m       \u001b[0mfiltered_tb\u001b[0m \u001b[0;34m=\u001b[0m \u001b[0m_process_traceback_frames\u001b[0m\u001b[0;34m(\u001b[0m\u001b[0me\u001b[0m\u001b[0;34m.\u001b[0m\u001b[0m__traceback__\u001b[0m\u001b[0;34m)\u001b[0m\u001b[0;34m\u001b[0m\u001b[0;34m\u001b[0m\u001b[0m\n\u001b[0;32m---> 67\u001b[0;31m       \u001b[0;32mraise\u001b[0m \u001b[0me\u001b[0m\u001b[0;34m.\u001b[0m\u001b[0mwith_traceback\u001b[0m\u001b[0;34m(\u001b[0m\u001b[0mfiltered_tb\u001b[0m\u001b[0;34m)\u001b[0m \u001b[0;32mfrom\u001b[0m \u001b[0;32mNone\u001b[0m\u001b[0;34m\u001b[0m\u001b[0;34m\u001b[0m\u001b[0m\n\u001b[0m\u001b[1;32m     68\u001b[0m     \u001b[0;32mfinally\u001b[0m\u001b[0;34m:\u001b[0m\u001b[0;34m\u001b[0m\u001b[0;34m\u001b[0m\u001b[0m\n\u001b[1;32m     69\u001b[0m       \u001b[0;32mdel\u001b[0m \u001b[0mfiltered_tb\u001b[0m\u001b[0;34m\u001b[0m\u001b[0;34m\u001b[0m\u001b[0m\n",
            "\u001b[0;32m/usr/local/lib/python3.7/dist-packages/tensorflow/python/eager/execute.py\u001b[0m in \u001b[0;36mquick_execute\u001b[0;34m(op_name, num_outputs, inputs, attrs, ctx, name)\u001b[0m\n\u001b[1;32m     53\u001b[0m     \u001b[0mctx\u001b[0m\u001b[0;34m.\u001b[0m\u001b[0mensure_initialized\u001b[0m\u001b[0;34m(\u001b[0m\u001b[0;34m)\u001b[0m\u001b[0;34m\u001b[0m\u001b[0;34m\u001b[0m\u001b[0m\n\u001b[1;32m     54\u001b[0m     tensors = pywrap_tfe.TFE_Py_Execute(ctx._handle, device_name, op_name,\n\u001b[0;32m---> 55\u001b[0;31m                                         inputs, attrs, num_outputs)\n\u001b[0m\u001b[1;32m     56\u001b[0m   \u001b[0;32mexcept\u001b[0m \u001b[0mcore\u001b[0m\u001b[0;34m.\u001b[0m\u001b[0m_NotOkStatusException\u001b[0m \u001b[0;32mas\u001b[0m \u001b[0me\u001b[0m\u001b[0;34m:\u001b[0m\u001b[0;34m\u001b[0m\u001b[0;34m\u001b[0m\u001b[0m\n\u001b[1;32m     57\u001b[0m     \u001b[0;32mif\u001b[0m \u001b[0mname\u001b[0m \u001b[0;32mis\u001b[0m \u001b[0;32mnot\u001b[0m \u001b[0;32mNone\u001b[0m\u001b[0;34m:\u001b[0m\u001b[0;34m\u001b[0m\u001b[0;34m\u001b[0m\u001b[0m\n",
            "\u001b[0;31mUnimplementedError\u001b[0m: Graph execution error:\n\nDetected at node 'binary_crossentropy/Cast' defined at (most recent call last):\n    File \"/usr/lib/python3.7/runpy.py\", line 193, in _run_module_as_main\n      \"__main__\", mod_spec)\n    File \"/usr/lib/python3.7/runpy.py\", line 85, in _run_code\n      exec(code, run_globals)\n    File \"/usr/local/lib/python3.7/dist-packages/ipykernel_launcher.py\", line 16, in <module>\n      app.launch_new_instance()\n    File \"/usr/local/lib/python3.7/dist-packages/traitlets/config/application.py\", line 846, in launch_instance\n      app.start()\n    File \"/usr/local/lib/python3.7/dist-packages/ipykernel/kernelapp.py\", line 499, in start\n      self.io_loop.start()\n    File \"/usr/local/lib/python3.7/dist-packages/tornado/platform/asyncio.py\", line 132, in start\n      self.asyncio_loop.run_forever()\n    File \"/usr/lib/python3.7/asyncio/base_events.py\", line 541, in run_forever\n      self._run_once()\n    File \"/usr/lib/python3.7/asyncio/base_events.py\", line 1786, in _run_once\n      handle._run()\n    File \"/usr/lib/python3.7/asyncio/events.py\", line 88, in _run\n      self._context.run(self._callback, *self._args)\n    File \"/usr/local/lib/python3.7/dist-packages/tornado/ioloop.py\", line 758, in _run_callback\n      ret = callback()\n    File \"/usr/local/lib/python3.7/dist-packages/tornado/stack_context.py\", line 300, in null_wrapper\n      return fn(*args, **kwargs)\n    File \"/usr/local/lib/python3.7/dist-packages/zmq/eventloop/zmqstream.py\", line 661, in <lambda>\n      self.io_loop.add_callback(lambda: self._handle_events(self.socket, 0))\n    File \"/usr/local/lib/python3.7/dist-packages/zmq/eventloop/zmqstream.py\", line 577, in _handle_events\n      self._handle_recv()\n    File \"/usr/local/lib/python3.7/dist-packages/zmq/eventloop/zmqstream.py\", line 606, in _handle_recv\n      self._run_callback(callback, msg)\n    File \"/usr/local/lib/python3.7/dist-packages/zmq/eventloop/zmqstream.py\", line 556, in _run_callback\n      callback(*args, **kwargs)\n    File \"/usr/local/lib/python3.7/dist-packages/tornado/stack_context.py\", line 300, in null_wrapper\n      return fn(*args, **kwargs)\n    File \"/usr/local/lib/python3.7/dist-packages/ipykernel/kernelbase.py\", line 283, in dispatcher\n      return self.dispatch_shell(stream, msg)\n    File \"/usr/local/lib/python3.7/dist-packages/ipykernel/kernelbase.py\", line 233, in dispatch_shell\n      handler(stream, idents, msg)\n    File \"/usr/local/lib/python3.7/dist-packages/ipykernel/kernelbase.py\", line 399, in execute_request\n      user_expressions, allow_stdin)\n    File \"/usr/local/lib/python3.7/dist-packages/ipykernel/ipkernel.py\", line 208, in do_execute\n      res = shell.run_cell(code, store_history=store_history, silent=silent)\n    File \"/usr/local/lib/python3.7/dist-packages/ipykernel/zmqshell.py\", line 537, in run_cell\n      return super(ZMQInteractiveShell, self).run_cell(*args, **kwargs)\n    File \"/usr/local/lib/python3.7/dist-packages/IPython/core/interactiveshell.py\", line 2718, in run_cell\n      interactivity=interactivity, compiler=compiler, result=result)\n    File \"/usr/local/lib/python3.7/dist-packages/IPython/core/interactiveshell.py\", line 2822, in run_ast_nodes\n      if self.run_code(code, result):\n    File \"/usr/local/lib/python3.7/dist-packages/IPython/core/interactiveshell.py\", line 2882, in run_code\n      exec(code_obj, self.user_global_ns, self.user_ns)\n    File \"<ipython-input-45-18d474cc2287>\", line 12, in <module>\n      ann_model.fit(x_train,y_train,batch_size=32,epochs=100)\n    File \"/usr/local/lib/python3.7/dist-packages/keras/utils/traceback_utils.py\", line 64, in error_handler\n      return fn(*args, **kwargs)\n    File \"/usr/local/lib/python3.7/dist-packages/keras/engine/training.py\", line 1384, in fit\n      tmp_logs = self.train_function(iterator)\n    File \"/usr/local/lib/python3.7/dist-packages/keras/engine/training.py\", line 1021, in train_function\n      return step_function(self, iterator)\n    File \"/usr/local/lib/python3.7/dist-packages/keras/engine/training.py\", line 1010, in step_function\n      outputs = model.distribute_strategy.run(run_step, args=(data,))\n    File \"/usr/local/lib/python3.7/dist-packages/keras/engine/training.py\", line 1000, in run_step\n      outputs = model.train_step(data)\n    File \"/usr/local/lib/python3.7/dist-packages/keras/engine/training.py\", line 860, in train_step\n      loss = self.compute_loss(x, y, y_pred, sample_weight)\n    File \"/usr/local/lib/python3.7/dist-packages/keras/engine/training.py\", line 919, in compute_loss\n      y, y_pred, sample_weight, regularization_losses=self.losses)\n    File \"/usr/local/lib/python3.7/dist-packages/keras/engine/compile_utils.py\", line 201, in __call__\n      loss_value = loss_obj(y_t, y_p, sample_weight=sw)\n    File \"/usr/local/lib/python3.7/dist-packages/keras/losses.py\", line 141, in __call__\n      losses = call_fn(y_true, y_pred)\n    File \"/usr/local/lib/python3.7/dist-packages/keras/losses.py\", line 245, in call\n      return ag_fn(y_true, y_pred, **self._fn_kwargs)\n    File \"/usr/local/lib/python3.7/dist-packages/keras/losses.py\", line 1922, in binary_crossentropy\n      y_true = tf.cast(y_true, y_pred.dtype)\nNode: 'binary_crossentropy/Cast'\nCast string to float is not supported\n\t [[{{node binary_crossentropy/Cast}}]] [Op:__inference_train_function_1579]"
          ]
        }
      ]
    },
    {
      "cell_type": "markdown",
      "source": [
        "Additional reshaping for CNN and LSTM"
      ],
      "metadata": {
        "id": "LOOxXJBFU5NZ"
      }
    },
    {
      "cell_type": "code",
      "source": [
        "x_train = np.random.uniform(0,1, (7000,10))\n",
        "y_train = np.random.randint(0,2, 7000)\n",
        "\n",
        "x_train = np.expand_dims(x_train, axis=1)\n",
        "x_test = np.expand_dims(x_test, axis=1)"
      ],
      "metadata": {
        "id": "7STiuWt_U5qs"
      },
      "execution_count": null,
      "outputs": []
    },
    {
      "cell_type": "markdown",
      "source": [
        "Convolutional Neural Networks"
      ],
      "metadata": {
        "id": "L_l8ApjtU9rm"
      }
    },
    {
      "cell_type": "code",
      "source": [
        "inp = Input(shape=(1,10))\n",
        "conv2 = Conv1D(filters=128, kernel_size=5, activation='relu', padding='same')(inp)\n",
        "drop21 = Dropout(0.5)(conv2)\n",
        "conv22 = Conv1D(filters=64, kernel_size=5, activation='relu', padding='same')(drop21)\n",
        "drop22 = Dropout(0.5)(conv22)\n",
        "pool2 = Flatten()(drop22)\n",
        "out = Dense(2, activation='softmax')(pool2)\n",
        "cnn_model = Model(inp, out)\n",
        "cnn_model.compile(loss='sparse_categorical_crossentropy', optimizer='adam', metrics=['accuracy'])\n",
        "history = cnn_model.fit(x_train, y_train, epochs=100)\n",
        "acc= cnn_model.evaluate(x_train, y_train)\n",
        "print(\"CNN Model Accuracy: \")\n",
        "cnn_acc=acc[1]\n",
        "print(cnn_acc*100,\"%\")"
      ],
      "metadata": {
        "id": "t55ATz1-U-Dy"
      },
      "execution_count": null,
      "outputs": []
    },
    {
      "cell_type": "markdown",
      "source": [
        "Long Short-Term Memory RNN"
      ],
      "metadata": {
        "id": "ZPrw4VL_VD0j"
      }
    },
    {
      "cell_type": "code",
      "source": [
        "lstm_model=Sequential()\n",
        "lstm_model.add(Bidirectional(LSTM(100, return_sequences=False), input_shape=(1, 10)))\n",
        "lstm_model.add(Dropout(0.3))\n",
        "lstm_model.add(Dense(1, activation='sigmoid'))\n",
        "lstm_model.compile(loss='binary_crossentropy',optimizer='adam',metrics=['accuracy'])\n",
        "print(lstm_model.summary())\n",
        "#history = lstm_model.fit(x_train,y_train,validation_data=(x_test,y_test),epochs=20,batch_size=64)\n",
        "acc= lstm_model.evaluate(x_train, y_train)\n",
        "print(\"LSTM Model Accuracy: \")\n",
        "lstm_acc=acc[1]\n",
        "print(lstm_acc*100,\"%\")"
      ],
      "metadata": {
        "id": "UT4w2FLlVE0a"
      },
      "execution_count": null,
      "outputs": []
    },
    {
      "cell_type": "markdown",
      "source": [
        "**DL Model Evaluation**"
      ],
      "metadata": {
        "id": "DEPNuDYEWS0V"
      }
    },
    {
      "cell_type": "code",
      "source": [
        "accuracies= {\"ANN\": ann_acc, \n",
        "             \"CNN\": cnn_acc, \n",
        "             \"LSTM\": lstm_acc, \n",
        "             }\n",
        "lists = sorted(accuracies.items(), key=lambda x: x[1]*100)\n",
        "plt.figure(figsize=(10,5))\n",
        "plt.bar(*zip(*lists), color=\"aquamarine\")\n",
        "plt.title('Deep Learning Models vs Accuracy')\n",
        "plt.xlabel('Classification Models')\n",
        "plt.ylabel('Accuracy')\n",
        "plt.show()"
      ],
      "metadata": {
        "id": "z-qN7-XFWUZm"
      },
      "execution_count": null,
      "outputs": []
    }
  ]
}